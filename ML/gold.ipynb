{
 "cells": [
  {
   "cell_type": "markdown",
   "metadata": {
    "toc": true
   },
   "source": [
    "<h1>Table of Contents<span class=\"tocSkip\"></span></h1>\n",
    "<div class=\"toc\"><ul class=\"toc-item\"><li><span><a href=\"#Постановка-задачи\" data-toc-modified-id=\"Постановка-задачи-1\"><span class=\"toc-item-num\">1&nbsp;&nbsp;</span>Постановка задачи</a></span></li><li><span><a href=\"#Подготовка-данных\" data-toc-modified-id=\"Подготовка-данных-2\"><span class=\"toc-item-num\">2&nbsp;&nbsp;</span>Подготовка данных</a></span><ul class=\"toc-item\"><li><span><a href=\"#Анализ-признаков,-недоступных-в-тестовой-выборке\" data-toc-modified-id=\"Анализ-признаков,-недоступных-в-тестовой-выборке-2.1\"><span class=\"toc-item-num\">2.1&nbsp;&nbsp;</span>Анализ признаков, недоступных в тестовой выборке</a></span></li><li><span><a href=\"#Заполнение-пропусков\" data-toc-modified-id=\"Заполнение-пропусков-2.2\"><span class=\"toc-item-num\">2.2&nbsp;&nbsp;</span>Заполнение пропусков</a></span></li><li><span><a href=\"#Проверка-правильности-расчета-recovery\" data-toc-modified-id=\"Проверка-правильности-расчета-recovery-2.3\"><span class=\"toc-item-num\">2.3&nbsp;&nbsp;</span>Проверка правильности расчета recovery</a></span></li></ul></li><li><span><a href=\"#Анализ-данных\" data-toc-modified-id=\"Анализ-данных-3\"><span class=\"toc-item-num\">3&nbsp;&nbsp;</span>Анализ данных</a></span><ul class=\"toc-item\"><li><span><a href=\"#Распределение-концентрации-металлов-на-разных-этапов-очистки\" data-toc-modified-id=\"Распределение-концентрации-металлов-на-разных-этапов-очистки-3.1\"><span class=\"toc-item-num\">3.1&nbsp;&nbsp;</span>Распределение концентрации металлов на разных этапов очистки</a></span><ul class=\"toc-item\"><li><span><a href=\"#Концентрация-золота-на-разных-этапах\" data-toc-modified-id=\"Концентрация-золота-на-разных-этапах-3.1.1\"><span class=\"toc-item-num\">3.1.1&nbsp;&nbsp;</span>Концентрация золота на разных этапах</a></span></li><li><span><a href=\"#Концентрация-серебра-на-разных-этапах\" data-toc-modified-id=\"Концентрация-серебра-на-разных-этапах-3.1.2\"><span class=\"toc-item-num\">3.1.2&nbsp;&nbsp;</span>Концентрация серебра на разных этапах</a></span></li><li><span><a href=\"#Концентрация-свинца-на-разных-этапах\" data-toc-modified-id=\"Концентрация-свинца-на-разных-этапах-3.1.3\"><span class=\"toc-item-num\">3.1.3&nbsp;&nbsp;</span>Концентрация свинца на разных этапах</a></span></li></ul></li><li><span><a href=\"#Распределение-размеров-гранул-в-разных-выборках\" data-toc-modified-id=\"Распределение-размеров-гранул-в-разных-выборках-3.2\"><span class=\"toc-item-num\">3.2&nbsp;&nbsp;</span>Распределение размеров гранул в разных выборках</a></span></li><li><span><a href=\"#Исследуем-суммарную-концентрацию-всех-веществ-на-разных-стадиях\" data-toc-modified-id=\"Исследуем-суммарную-концентрацию-всех-веществ-на-разных-стадиях-3.3\"><span class=\"toc-item-num\">3.3&nbsp;&nbsp;</span>Исследуем суммарную концентрацию всех веществ на разных стадиях</a></span><ul class=\"toc-item\"><li><span><a href=\"#Удаление-аномалии-в-тренировочной-выборке\" data-toc-modified-id=\"Удаление-аномалии-в-тренировочной-выборке-3.3.1\"><span class=\"toc-item-num\">3.3.1&nbsp;&nbsp;</span>Удаление аномалии в тренировочной выборке</a></span></li></ul></li></ul></li><li><span><a href=\"#Построение-модели-и-оценка-ее-качества\" data-toc-modified-id=\"Построение-модели-и-оценка-ее-качества-4\"><span class=\"toc-item-num\">4&nbsp;&nbsp;</span>Построение модели и оценка ее качества</a></span><ul class=\"toc-item\"><li><span><a href=\"#Исследуем-первый-целевой-признак---rougher.output.recovery\" data-toc-modified-id=\"Исследуем-первый-целевой-признак---rougher.output.recovery-4.1\"><span class=\"toc-item-num\">4.1&nbsp;&nbsp;</span>Исследуем первый целевой признак - rougher.output.recovery</a></span></li><li><span><a href=\"#Исследуем-второй-целевой-признак---final.output.recovery\" data-toc-modified-id=\"Исследуем-второй-целевой-признак---final.output.recovery-4.2\"><span class=\"toc-item-num\">4.2&nbsp;&nbsp;</span>Исследуем второй целевой признак - final.output.recovery</a></span></li><li><span><a href=\"#Итоговая-метрика\" data-toc-modified-id=\"Итоговая-метрика-4.3\"><span class=\"toc-item-num\">4.3&nbsp;&nbsp;</span>Итоговая метрика</a></span></li></ul></li><li><span><a href=\"#Вывод\" data-toc-modified-id=\"Вывод-5\"><span class=\"toc-item-num\">5&nbsp;&nbsp;</span>Вывод</a></span></li></ul></div>"
   ]
  },
  {
   "cell_type": "markdown",
   "metadata": {},
   "source": [
    "# Постановка задачи"
   ]
  },
  {
   "cell_type": "markdown",
   "metadata": {},
   "source": [
    "**Цель:**\n",
    "\n",
    "Построить модель, которая должна предсказать коэффициент восстановления золота из золотосодержащей руды.\n",
    "\n",
    "**План работы:**\n",
    "\n",
    "- Подготовка, предобработка данных\n",
    "- Анализ данных\n",
    "- Построение модели и оценка ее качества\n",
    "\n",
    "\n",
    "**Данные:**\n",
    "\n",
    "Данные с параметрами добычи и очистки предоставлены компанией \"Цифра\"."
   ]
  },
  {
   "cell_type": "markdown",
   "metadata": {},
   "source": [
    "**Справочная информация:**\n",
    "\n",
    "Технологический процесс:\n",
    "\n",
    "*Rougher feed* — исходное сырье\n",
    "\n",
    "*Rougher additions (или reagent additions)* — флотационные реагенты: \n",
    " *Xanthate*, *Sulphate*, *Depressant*\n",
    "  \n",
    "*Xanthate* — ксантогенат (промотер, или активатор флотации)\n",
    "\n",
    "*Sulphate* — сульфат (на данном производстве сульфид натрия)\n",
    "\n",
    "*Depressant* — депрессант (силикат натрия)\n",
    "\n",
    "*Rougher process (англ. «грубый процесс»)* — флотация\n",
    "\n",
    "*Rougher tails* — отвальные хвосты\n",
    "\n",
    "*Float banks* — флотационная установка\n",
    "\n",
    "*Cleaner process* — очистка\n",
    "\n",
    "*Rougher Au* — черновой концентрат золота\n",
    "\n",
    "*Final Au* — финальный концентрат золота\n",
    "\n",
    "Параметры этапов:\n",
    "\n",
    "*air amount* — объём воздуха\n",
    "\n",
    "*fluid levels* — уровень жидкости\n",
    "\n",
    "*feed size* — размер гранул сырья\n",
    "\n",
    "*feed rate* — скорость подачи\n"
   ]
  },
  {
   "cell_type": "markdown",
   "metadata": {},
   "source": [
    "# Подготовка данных"
   ]
  },
  {
   "cell_type": "code",
   "execution_count": 1,
   "metadata": {},
   "outputs": [
    {
     "name": "stdout",
     "output_type": "stream",
     "text": [
      "Collecting feature_engine\n",
      "  Downloading feature_engine-1.5.2-py2.py3-none-any.whl (290 kB)\n",
      "\u001b[K     |████████████████████████████████| 290 kB 2.2 MB/s eta 0:00:01\n",
      "\u001b[?25hRequirement already satisfied: statsmodels>=0.11.1 in /opt/conda/lib/python3.9/site-packages (from feature_engine) (0.13.2)\n",
      "Requirement already satisfied: pandas>=1.0.3 in /opt/conda/lib/python3.9/site-packages (from feature_engine) (1.2.4)\n",
      "Collecting scikit-learn>=1.0.0\n",
      "  Downloading scikit_learn-1.2.0-cp39-cp39-manylinux_2_17_x86_64.manylinux2014_x86_64.whl (9.5 MB)\n",
      "\u001b[K     |████████████████████████████████| 9.5 MB 52.3 MB/s eta 0:00:01\n",
      "\u001b[?25hRequirement already satisfied: numpy>=1.18.2 in /opt/conda/lib/python3.9/site-packages (from feature_engine) (1.21.1)\n",
      "Requirement already satisfied: scipy>=1.4.1 in /opt/conda/lib/python3.9/site-packages (from feature_engine) (1.9.1)\n",
      "Requirement already satisfied: python-dateutil>=2.7.3 in /opt/conda/lib/python3.9/site-packages (from pandas>=1.0.3->feature_engine) (2.8.1)\n",
      "Requirement already satisfied: pytz>=2017.3 in /opt/conda/lib/python3.9/site-packages (from pandas>=1.0.3->feature_engine) (2021.1)\n",
      "Requirement already satisfied: six>=1.5 in /opt/conda/lib/python3.9/site-packages (from python-dateutil>=2.7.3->pandas>=1.0.3->feature_engine) (1.16.0)\n",
      "Collecting joblib>=1.1.1\n",
      "  Downloading joblib-1.2.0-py3-none-any.whl (297 kB)\n",
      "\u001b[K     |████████████████████████████████| 297 kB 67.9 MB/s eta 0:00:01\n",
      "\u001b[?25hRequirement already satisfied: threadpoolctl>=2.0.0 in /opt/conda/lib/python3.9/site-packages (from scikit-learn>=1.0.0->feature_engine) (3.1.0)\n",
      "Requirement already satisfied: packaging>=21.3 in /opt/conda/lib/python3.9/site-packages (from statsmodels>=0.11.1->feature_engine) (21.3)\n",
      "Requirement already satisfied: patsy>=0.5.2 in /opt/conda/lib/python3.9/site-packages (from statsmodels>=0.11.1->feature_engine) (0.5.2)\n",
      "Requirement already satisfied: pyparsing!=3.0.5,>=2.0.2 in /opt/conda/lib/python3.9/site-packages (from packaging>=21.3->statsmodels>=0.11.1->feature_engine) (2.4.7)\n",
      "Installing collected packages: joblib, scikit-learn, feature-engine\n",
      "  Attempting uninstall: joblib\n",
      "    Found existing installation: joblib 1.1.0\n",
      "    Uninstalling joblib-1.1.0:\n",
      "      Successfully uninstalled joblib-1.1.0\n",
      "  Attempting uninstall: scikit-learn\n",
      "    Found existing installation: scikit-learn 0.24.1\n",
      "    Uninstalling scikit-learn-0.24.1:\n",
      "      Successfully uninstalled scikit-learn-0.24.1\n",
      "Successfully installed feature-engine-1.5.2 joblib-1.2.0 scikit-learn-1.2.0\n",
      "Collecting imblearn\n",
      "  Downloading imblearn-0.0-py2.py3-none-any.whl (1.9 kB)\n",
      "Collecting imbalanced-learn\n",
      "  Downloading imbalanced_learn-0.10.1-py3-none-any.whl (226 kB)\n",
      "\u001b[K     |████████████████████████████████| 226 kB 1.7 MB/s eta 0:00:01\n",
      "\u001b[?25hRequirement already satisfied: scikit-learn>=1.0.2 in /opt/conda/lib/python3.9/site-packages (from imbalanced-learn->imblearn) (1.2.0)\n",
      "Requirement already satisfied: joblib>=1.1.1 in /opt/conda/lib/python3.9/site-packages (from imbalanced-learn->imblearn) (1.2.0)\n",
      "Requirement already satisfied: numpy>=1.17.3 in /opt/conda/lib/python3.9/site-packages (from imbalanced-learn->imblearn) (1.21.1)\n",
      "Requirement already satisfied: scipy>=1.3.2 in /opt/conda/lib/python3.9/site-packages (from imbalanced-learn->imblearn) (1.9.1)\n",
      "Requirement already satisfied: threadpoolctl>=2.0.0 in /opt/conda/lib/python3.9/site-packages (from imbalanced-learn->imblearn) (3.1.0)\n",
      "Installing collected packages: imbalanced-learn, imblearn\n",
      "Successfully installed imbalanced-learn-0.10.1 imblearn-0.0\n"
     ]
    }
   ],
   "source": [
    "!pip install feature_engine\n",
    "!pip install imblearn"
   ]
  },
  {
   "cell_type": "code",
   "execution_count": 2,
   "metadata": {},
   "outputs": [],
   "source": [
    "import pandas as pd\n",
    "import seaborn as sns\n",
    "import matplotlib.pyplot as plt\n",
    "\n",
    "from sklearn.preprocessing import StandardScaler\n",
    "from feature_engine.selection import DropCorrelatedFeatures, DropDuplicateFeatures\n",
    "from sklearn.model_selection import GridSearchCV, RandomizedSearchCV\n",
    "from sklearn.metrics import make_scorer\n",
    "\n",
    "from sklearn.pipeline import Pipeline\n",
    "from imblearn.pipeline import make_pipeline\n",
    "\n",
    "from sklearn.linear_model import LinearRegression\n",
    "from sklearn.tree import DecisionTreeRegressor\n",
    "from sklearn.ensemble import RandomForestRegressor\n",
    "from sklearn.dummy import DummyRegressor\n",
    "\n",
    "from sklearn.metrics import mean_absolute_error"
   ]
  },
  {
   "cell_type": "code",
   "execution_count": 3,
   "metadata": {},
   "outputs": [],
   "source": [
    "#import warnings\n",
    "\n",
    "#warnings.filterwarnings('ignore')"
   ]
  },
  {
   "cell_type": "code",
   "execution_count": 4,
   "metadata": {},
   "outputs": [],
   "source": [
    "RS = 12345"
   ]
  },
  {
   "cell_type": "code",
   "execution_count": 5,
   "metadata": {},
   "outputs": [],
   "source": [
    "# загружаем наши данные\n",
    "data = pd.read_csv('https://code.s3.yandex.net/datasets/gold_recovery_full_new.csv')\n",
    "data_test = pd.read_csv('https://code.s3.yandex.net/datasets/gold_recovery_test_new.csv')\n",
    "data_train = pd.read_csv('https://code.s3.yandex.net/datasets/gold_recovery_train_new.csv')"
   ]
  },
  {
   "cell_type": "code",
   "execution_count": 6,
   "metadata": {},
   "outputs": [
    {
     "data": {
      "text/html": [
       "<div>\n",
       "<style scoped>\n",
       "    .dataframe tbody tr th:only-of-type {\n",
       "        vertical-align: middle;\n",
       "    }\n",
       "\n",
       "    .dataframe tbody tr th {\n",
       "        vertical-align: top;\n",
       "    }\n",
       "\n",
       "    .dataframe thead th {\n",
       "        text-align: right;\n",
       "    }\n",
       "</style>\n",
       "<table border=\"1\" class=\"dataframe\">\n",
       "  <thead>\n",
       "    <tr style=\"text-align: right;\">\n",
       "      <th></th>\n",
       "      <th>date</th>\n",
       "      <th>final.output.concentrate_ag</th>\n",
       "      <th>final.output.concentrate_pb</th>\n",
       "      <th>final.output.concentrate_sol</th>\n",
       "      <th>final.output.concentrate_au</th>\n",
       "      <th>final.output.recovery</th>\n",
       "      <th>final.output.tail_ag</th>\n",
       "      <th>final.output.tail_pb</th>\n",
       "      <th>final.output.tail_sol</th>\n",
       "      <th>final.output.tail_au</th>\n",
       "      <th>...</th>\n",
       "      <th>secondary_cleaner.state.floatbank4_a_air</th>\n",
       "      <th>secondary_cleaner.state.floatbank4_a_level</th>\n",
       "      <th>secondary_cleaner.state.floatbank4_b_air</th>\n",
       "      <th>secondary_cleaner.state.floatbank4_b_level</th>\n",
       "      <th>secondary_cleaner.state.floatbank5_a_air</th>\n",
       "      <th>secondary_cleaner.state.floatbank5_a_level</th>\n",
       "      <th>secondary_cleaner.state.floatbank5_b_air</th>\n",
       "      <th>secondary_cleaner.state.floatbank5_b_level</th>\n",
       "      <th>secondary_cleaner.state.floatbank6_a_air</th>\n",
       "      <th>secondary_cleaner.state.floatbank6_a_level</th>\n",
       "    </tr>\n",
       "  </thead>\n",
       "  <tbody>\n",
       "    <tr>\n",
       "      <th>0</th>\n",
       "      <td>2016-01-15 00:00:00</td>\n",
       "      <td>6.055403</td>\n",
       "      <td>9.889648</td>\n",
       "      <td>5.507324</td>\n",
       "      <td>42.192020</td>\n",
       "      <td>70.541216</td>\n",
       "      <td>10.411962</td>\n",
       "      <td>0.895447</td>\n",
       "      <td>16.904297</td>\n",
       "      <td>2.143149</td>\n",
       "      <td>...</td>\n",
       "      <td>14.016835</td>\n",
       "      <td>-502.488007</td>\n",
       "      <td>12.099931</td>\n",
       "      <td>-504.715942</td>\n",
       "      <td>9.925633</td>\n",
       "      <td>-498.310211</td>\n",
       "      <td>8.079666</td>\n",
       "      <td>-500.470978</td>\n",
       "      <td>14.151341</td>\n",
       "      <td>-605.841980</td>\n",
       "    </tr>\n",
       "    <tr>\n",
       "      <th>1</th>\n",
       "      <td>2016-01-15 01:00:00</td>\n",
       "      <td>6.029369</td>\n",
       "      <td>9.968944</td>\n",
       "      <td>5.257781</td>\n",
       "      <td>42.701629</td>\n",
       "      <td>69.266198</td>\n",
       "      <td>10.462676</td>\n",
       "      <td>0.927452</td>\n",
       "      <td>16.634514</td>\n",
       "      <td>2.224930</td>\n",
       "      <td>...</td>\n",
       "      <td>13.992281</td>\n",
       "      <td>-505.503262</td>\n",
       "      <td>11.950531</td>\n",
       "      <td>-501.331529</td>\n",
       "      <td>10.039245</td>\n",
       "      <td>-500.169983</td>\n",
       "      <td>7.984757</td>\n",
       "      <td>-500.582168</td>\n",
       "      <td>13.998353</td>\n",
       "      <td>-599.787184</td>\n",
       "    </tr>\n",
       "    <tr>\n",
       "      <th>2</th>\n",
       "      <td>2016-01-15 02:00:00</td>\n",
       "      <td>6.055926</td>\n",
       "      <td>10.213995</td>\n",
       "      <td>5.383759</td>\n",
       "      <td>42.657501</td>\n",
       "      <td>68.116445</td>\n",
       "      <td>10.507046</td>\n",
       "      <td>0.953716</td>\n",
       "      <td>16.208849</td>\n",
       "      <td>2.257889</td>\n",
       "      <td>...</td>\n",
       "      <td>14.015015</td>\n",
       "      <td>-502.520901</td>\n",
       "      <td>11.912783</td>\n",
       "      <td>-501.133383</td>\n",
       "      <td>10.070913</td>\n",
       "      <td>-500.129135</td>\n",
       "      <td>8.013877</td>\n",
       "      <td>-500.517572</td>\n",
       "      <td>14.028663</td>\n",
       "      <td>-601.427363</td>\n",
       "    </tr>\n",
       "    <tr>\n",
       "      <th>3</th>\n",
       "      <td>2016-01-15 03:00:00</td>\n",
       "      <td>6.047977</td>\n",
       "      <td>9.977019</td>\n",
       "      <td>4.858634</td>\n",
       "      <td>42.689819</td>\n",
       "      <td>68.347543</td>\n",
       "      <td>10.422762</td>\n",
       "      <td>0.883763</td>\n",
       "      <td>16.532835</td>\n",
       "      <td>2.146849</td>\n",
       "      <td>...</td>\n",
       "      <td>14.036510</td>\n",
       "      <td>-500.857308</td>\n",
       "      <td>11.999550</td>\n",
       "      <td>-501.193686</td>\n",
       "      <td>9.970366</td>\n",
       "      <td>-499.201640</td>\n",
       "      <td>7.977324</td>\n",
       "      <td>-500.255908</td>\n",
       "      <td>14.005551</td>\n",
       "      <td>-599.996129</td>\n",
       "    </tr>\n",
       "    <tr>\n",
       "      <th>4</th>\n",
       "      <td>2016-01-15 04:00:00</td>\n",
       "      <td>6.148599</td>\n",
       "      <td>10.142511</td>\n",
       "      <td>4.939416</td>\n",
       "      <td>42.774141</td>\n",
       "      <td>66.927016</td>\n",
       "      <td>10.360302</td>\n",
       "      <td>0.792826</td>\n",
       "      <td>16.525686</td>\n",
       "      <td>2.055292</td>\n",
       "      <td>...</td>\n",
       "      <td>14.027298</td>\n",
       "      <td>-499.838632</td>\n",
       "      <td>11.953070</td>\n",
       "      <td>-501.053894</td>\n",
       "      <td>9.925709</td>\n",
       "      <td>-501.686727</td>\n",
       "      <td>7.894242</td>\n",
       "      <td>-500.356035</td>\n",
       "      <td>13.996647</td>\n",
       "      <td>-601.496691</td>\n",
       "    </tr>\n",
       "  </tbody>\n",
       "</table>\n",
       "<p>5 rows × 87 columns</p>\n",
       "</div>"
      ],
      "text/plain": [
       "                  date  final.output.concentrate_ag  \\\n",
       "0  2016-01-15 00:00:00                     6.055403   \n",
       "1  2016-01-15 01:00:00                     6.029369   \n",
       "2  2016-01-15 02:00:00                     6.055926   \n",
       "3  2016-01-15 03:00:00                     6.047977   \n",
       "4  2016-01-15 04:00:00                     6.148599   \n",
       "\n",
       "   final.output.concentrate_pb  final.output.concentrate_sol  \\\n",
       "0                     9.889648                      5.507324   \n",
       "1                     9.968944                      5.257781   \n",
       "2                    10.213995                      5.383759   \n",
       "3                     9.977019                      4.858634   \n",
       "4                    10.142511                      4.939416   \n",
       "\n",
       "   final.output.concentrate_au  final.output.recovery  final.output.tail_ag  \\\n",
       "0                    42.192020              70.541216             10.411962   \n",
       "1                    42.701629              69.266198             10.462676   \n",
       "2                    42.657501              68.116445             10.507046   \n",
       "3                    42.689819              68.347543             10.422762   \n",
       "4                    42.774141              66.927016             10.360302   \n",
       "\n",
       "   final.output.tail_pb  final.output.tail_sol  final.output.tail_au  ...  \\\n",
       "0              0.895447              16.904297              2.143149  ...   \n",
       "1              0.927452              16.634514              2.224930  ...   \n",
       "2              0.953716              16.208849              2.257889  ...   \n",
       "3              0.883763              16.532835              2.146849  ...   \n",
       "4              0.792826              16.525686              2.055292  ...   \n",
       "\n",
       "   secondary_cleaner.state.floatbank4_a_air  \\\n",
       "0                                 14.016835   \n",
       "1                                 13.992281   \n",
       "2                                 14.015015   \n",
       "3                                 14.036510   \n",
       "4                                 14.027298   \n",
       "\n",
       "   secondary_cleaner.state.floatbank4_a_level  \\\n",
       "0                                 -502.488007   \n",
       "1                                 -505.503262   \n",
       "2                                 -502.520901   \n",
       "3                                 -500.857308   \n",
       "4                                 -499.838632   \n",
       "\n",
       "   secondary_cleaner.state.floatbank4_b_air  \\\n",
       "0                                 12.099931   \n",
       "1                                 11.950531   \n",
       "2                                 11.912783   \n",
       "3                                 11.999550   \n",
       "4                                 11.953070   \n",
       "\n",
       "   secondary_cleaner.state.floatbank4_b_level  \\\n",
       "0                                 -504.715942   \n",
       "1                                 -501.331529   \n",
       "2                                 -501.133383   \n",
       "3                                 -501.193686   \n",
       "4                                 -501.053894   \n",
       "\n",
       "   secondary_cleaner.state.floatbank5_a_air  \\\n",
       "0                                  9.925633   \n",
       "1                                 10.039245   \n",
       "2                                 10.070913   \n",
       "3                                  9.970366   \n",
       "4                                  9.925709   \n",
       "\n",
       "   secondary_cleaner.state.floatbank5_a_level  \\\n",
       "0                                 -498.310211   \n",
       "1                                 -500.169983   \n",
       "2                                 -500.129135   \n",
       "3                                 -499.201640   \n",
       "4                                 -501.686727   \n",
       "\n",
       "   secondary_cleaner.state.floatbank5_b_air  \\\n",
       "0                                  8.079666   \n",
       "1                                  7.984757   \n",
       "2                                  8.013877   \n",
       "3                                  7.977324   \n",
       "4                                  7.894242   \n",
       "\n",
       "   secondary_cleaner.state.floatbank5_b_level  \\\n",
       "0                                 -500.470978   \n",
       "1                                 -500.582168   \n",
       "2                                 -500.517572   \n",
       "3                                 -500.255908   \n",
       "4                                 -500.356035   \n",
       "\n",
       "   secondary_cleaner.state.floatbank6_a_air  \\\n",
       "0                                 14.151341   \n",
       "1                                 13.998353   \n",
       "2                                 14.028663   \n",
       "3                                 14.005551   \n",
       "4                                 13.996647   \n",
       "\n",
       "   secondary_cleaner.state.floatbank6_a_level  \n",
       "0                                 -605.841980  \n",
       "1                                 -599.787184  \n",
       "2                                 -601.427363  \n",
       "3                                 -599.996129  \n",
       "4                                 -601.496691  \n",
       "\n",
       "[5 rows x 87 columns]"
      ]
     },
     "metadata": {},
     "output_type": "display_data"
    }
   ],
   "source": [
    "display(data.head(5))"
   ]
  },
  {
   "cell_type": "markdown",
   "metadata": {},
   "source": [
    "## Анализ признаков, недоступных в тестовой выборке"
   ]
  },
  {
   "cell_type": "code",
   "execution_count": 7,
   "metadata": {},
   "outputs": [],
   "source": [
    "data=data.set_index('date')\n",
    "data_train=data_train.set_index('date')\n",
    "data_test=data_test.set_index('date') "
   ]
  },
  {
   "cell_type": "code",
   "execution_count": 8,
   "metadata": {},
   "outputs": [
    {
     "name": "stdout",
     "output_type": "stream",
     "text": [
      "Index(['final.output.concentrate_ag', 'final.output.concentrate_pb',\n",
      "       'final.output.concentrate_sol', 'final.output.concentrate_au',\n",
      "       'final.output.recovery', 'final.output.tail_ag', 'final.output.tail_pb',\n",
      "       'final.output.tail_sol', 'final.output.tail_au',\n",
      "       'primary_cleaner.input.sulfate', 'primary_cleaner.input.depressant',\n",
      "       'primary_cleaner.input.feed_size', 'primary_cleaner.input.xanthate',\n",
      "       'primary_cleaner.output.concentrate_ag',\n",
      "       'primary_cleaner.output.concentrate_pb',\n",
      "       'primary_cleaner.output.concentrate_sol',\n",
      "       'primary_cleaner.output.concentrate_au',\n",
      "       'primary_cleaner.output.tail_ag', 'primary_cleaner.output.tail_pb',\n",
      "       'primary_cleaner.output.tail_sol', 'primary_cleaner.output.tail_au',\n",
      "       'primary_cleaner.state.floatbank8_a_air',\n",
      "       'primary_cleaner.state.floatbank8_a_level',\n",
      "       'primary_cleaner.state.floatbank8_b_air',\n",
      "       'primary_cleaner.state.floatbank8_b_level',\n",
      "       'primary_cleaner.state.floatbank8_c_air',\n",
      "       'primary_cleaner.state.floatbank8_c_level',\n",
      "       'primary_cleaner.state.floatbank8_d_air',\n",
      "       'primary_cleaner.state.floatbank8_d_level',\n",
      "       'rougher.calculation.sulfate_to_au_concentrate',\n",
      "       'rougher.calculation.floatbank10_sulfate_to_au_feed',\n",
      "       'rougher.calculation.floatbank11_sulfate_to_au_feed',\n",
      "       'rougher.calculation.au_pb_ratio', 'rougher.input.feed_ag',\n",
      "       'rougher.input.feed_pb', 'rougher.input.feed_rate',\n",
      "       'rougher.input.feed_size', 'rougher.input.feed_sol',\n",
      "       'rougher.input.feed_au', 'rougher.input.floatbank10_sulfate',\n",
      "       'rougher.input.floatbank10_xanthate',\n",
      "       'rougher.input.floatbank11_sulfate',\n",
      "       'rougher.input.floatbank11_xanthate', 'rougher.output.concentrate_ag',\n",
      "       'rougher.output.concentrate_pb', 'rougher.output.concentrate_sol',\n",
      "       'rougher.output.concentrate_au', 'rougher.output.recovery',\n",
      "       'rougher.output.tail_ag', 'rougher.output.tail_pb',\n",
      "       'rougher.output.tail_sol', 'rougher.output.tail_au',\n",
      "       'rougher.state.floatbank10_a_air', 'rougher.state.floatbank10_a_level',\n",
      "       'rougher.state.floatbank10_b_air', 'rougher.state.floatbank10_b_level',\n",
      "       'rougher.state.floatbank10_c_air', 'rougher.state.floatbank10_c_level',\n",
      "       'rougher.state.floatbank10_d_air', 'rougher.state.floatbank10_d_level',\n",
      "       'rougher.state.floatbank10_e_air', 'rougher.state.floatbank10_e_level',\n",
      "       'rougher.state.floatbank10_f_air', 'rougher.state.floatbank10_f_level',\n",
      "       'secondary_cleaner.output.tail_ag', 'secondary_cleaner.output.tail_pb',\n",
      "       'secondary_cleaner.output.tail_sol', 'secondary_cleaner.output.tail_au',\n",
      "       'secondary_cleaner.state.floatbank2_a_air',\n",
      "       'secondary_cleaner.state.floatbank2_a_level',\n",
      "       'secondary_cleaner.state.floatbank2_b_air',\n",
      "       'secondary_cleaner.state.floatbank2_b_level',\n",
      "       'secondary_cleaner.state.floatbank3_a_air',\n",
      "       'secondary_cleaner.state.floatbank3_a_level',\n",
      "       'secondary_cleaner.state.floatbank3_b_air',\n",
      "       'secondary_cleaner.state.floatbank3_b_level',\n",
      "       'secondary_cleaner.state.floatbank4_a_air',\n",
      "       'secondary_cleaner.state.floatbank4_a_level',\n",
      "       'secondary_cleaner.state.floatbank4_b_air',\n",
      "       'secondary_cleaner.state.floatbank4_b_level',\n",
      "       'secondary_cleaner.state.floatbank5_a_air',\n",
      "       'secondary_cleaner.state.floatbank5_a_level',\n",
      "       'secondary_cleaner.state.floatbank5_b_air',\n",
      "       'secondary_cleaner.state.floatbank5_b_level',\n",
      "       'secondary_cleaner.state.floatbank6_a_air',\n",
      "       'secondary_cleaner.state.floatbank6_a_level'],\n",
      "      dtype='object')\n"
     ]
    }
   ],
   "source": [
    "# изучим, какие признаки у нас есть\n",
    "print(data.columns)"
   ]
  },
  {
   "cell_type": "code",
   "execution_count": 9,
   "metadata": {},
   "outputs": [
    {
     "name": "stdout",
     "output_type": "stream",
     "text": [
      "Index(['final.output.concentrate_ag', 'final.output.concentrate_pb',\n",
      "       'final.output.concentrate_sol', 'final.output.concentrate_au',\n",
      "       'final.output.recovery', 'final.output.tail_ag', 'final.output.tail_pb',\n",
      "       'final.output.tail_sol', 'final.output.tail_au',\n",
      "       'primary_cleaner.input.sulfate', 'primary_cleaner.input.depressant',\n",
      "       'primary_cleaner.input.feed_size', 'primary_cleaner.input.xanthate',\n",
      "       'primary_cleaner.output.concentrate_ag',\n",
      "       'primary_cleaner.output.concentrate_pb',\n",
      "       'primary_cleaner.output.concentrate_sol',\n",
      "       'primary_cleaner.output.concentrate_au',\n",
      "       'primary_cleaner.output.tail_ag', 'primary_cleaner.output.tail_pb',\n",
      "       'primary_cleaner.output.tail_sol', 'primary_cleaner.output.tail_au',\n",
      "       'primary_cleaner.state.floatbank8_a_air',\n",
      "       'primary_cleaner.state.floatbank8_a_level',\n",
      "       'primary_cleaner.state.floatbank8_b_air',\n",
      "       'primary_cleaner.state.floatbank8_b_level',\n",
      "       'primary_cleaner.state.floatbank8_c_air',\n",
      "       'primary_cleaner.state.floatbank8_c_level',\n",
      "       'primary_cleaner.state.floatbank8_d_air',\n",
      "       'primary_cleaner.state.floatbank8_d_level',\n",
      "       'rougher.calculation.sulfate_to_au_concentrate',\n",
      "       'rougher.calculation.floatbank10_sulfate_to_au_feed',\n",
      "       'rougher.calculation.floatbank11_sulfate_to_au_feed',\n",
      "       'rougher.calculation.au_pb_ratio', 'rougher.input.feed_ag',\n",
      "       'rougher.input.feed_pb', 'rougher.input.feed_rate',\n",
      "       'rougher.input.feed_size', 'rougher.input.feed_sol',\n",
      "       'rougher.input.feed_au', 'rougher.input.floatbank10_sulfate',\n",
      "       'rougher.input.floatbank10_xanthate',\n",
      "       'rougher.input.floatbank11_sulfate',\n",
      "       'rougher.input.floatbank11_xanthate', 'rougher.output.concentrate_ag',\n",
      "       'rougher.output.concentrate_pb', 'rougher.output.concentrate_sol',\n",
      "       'rougher.output.concentrate_au', 'rougher.output.recovery',\n",
      "       'rougher.output.tail_ag', 'rougher.output.tail_pb',\n",
      "       'rougher.output.tail_sol', 'rougher.output.tail_au',\n",
      "       'rougher.state.floatbank10_a_air', 'rougher.state.floatbank10_a_level',\n",
      "       'rougher.state.floatbank10_b_air', 'rougher.state.floatbank10_b_level',\n",
      "       'rougher.state.floatbank10_c_air', 'rougher.state.floatbank10_c_level',\n",
      "       'rougher.state.floatbank10_d_air', 'rougher.state.floatbank10_d_level',\n",
      "       'rougher.state.floatbank10_e_air', 'rougher.state.floatbank10_e_level',\n",
      "       'rougher.state.floatbank10_f_air', 'rougher.state.floatbank10_f_level',\n",
      "       'secondary_cleaner.output.tail_ag', 'secondary_cleaner.output.tail_pb',\n",
      "       'secondary_cleaner.output.tail_sol', 'secondary_cleaner.output.tail_au',\n",
      "       'secondary_cleaner.state.floatbank2_a_air',\n",
      "       'secondary_cleaner.state.floatbank2_a_level',\n",
      "       'secondary_cleaner.state.floatbank2_b_air',\n",
      "       'secondary_cleaner.state.floatbank2_b_level',\n",
      "       'secondary_cleaner.state.floatbank3_a_air',\n",
      "       'secondary_cleaner.state.floatbank3_a_level',\n",
      "       'secondary_cleaner.state.floatbank3_b_air',\n",
      "       'secondary_cleaner.state.floatbank3_b_level',\n",
      "       'secondary_cleaner.state.floatbank4_a_air',\n",
      "       'secondary_cleaner.state.floatbank4_a_level',\n",
      "       'secondary_cleaner.state.floatbank4_b_air',\n",
      "       'secondary_cleaner.state.floatbank4_b_level',\n",
      "       'secondary_cleaner.state.floatbank5_a_air',\n",
      "       'secondary_cleaner.state.floatbank5_a_level',\n",
      "       'secondary_cleaner.state.floatbank5_b_air',\n",
      "       'secondary_cleaner.state.floatbank5_b_level',\n",
      "       'secondary_cleaner.state.floatbank6_a_air',\n",
      "       'secondary_cleaner.state.floatbank6_a_level'],\n",
      "      dtype='object')\n"
     ]
    }
   ],
   "source": [
    "print(data_train.columns)"
   ]
  },
  {
   "cell_type": "code",
   "execution_count": 10,
   "metadata": {},
   "outputs": [
    {
     "name": "stdout",
     "output_type": "stream",
     "text": [
      "Index(['primary_cleaner.input.sulfate', 'primary_cleaner.input.depressant',\n",
      "       'primary_cleaner.input.feed_size', 'primary_cleaner.input.xanthate',\n",
      "       'primary_cleaner.state.floatbank8_a_air',\n",
      "       'primary_cleaner.state.floatbank8_a_level',\n",
      "       'primary_cleaner.state.floatbank8_b_air',\n",
      "       'primary_cleaner.state.floatbank8_b_level',\n",
      "       'primary_cleaner.state.floatbank8_c_air',\n",
      "       'primary_cleaner.state.floatbank8_c_level',\n",
      "       'primary_cleaner.state.floatbank8_d_air',\n",
      "       'primary_cleaner.state.floatbank8_d_level', 'rougher.input.feed_ag',\n",
      "       'rougher.input.feed_pb', 'rougher.input.feed_rate',\n",
      "       'rougher.input.feed_size', 'rougher.input.feed_sol',\n",
      "       'rougher.input.feed_au', 'rougher.input.floatbank10_sulfate',\n",
      "       'rougher.input.floatbank10_xanthate',\n",
      "       'rougher.input.floatbank11_sulfate',\n",
      "       'rougher.input.floatbank11_xanthate', 'rougher.state.floatbank10_a_air',\n",
      "       'rougher.state.floatbank10_a_level', 'rougher.state.floatbank10_b_air',\n",
      "       'rougher.state.floatbank10_b_level', 'rougher.state.floatbank10_c_air',\n",
      "       'rougher.state.floatbank10_c_level', 'rougher.state.floatbank10_d_air',\n",
      "       'rougher.state.floatbank10_d_level', 'rougher.state.floatbank10_e_air',\n",
      "       'rougher.state.floatbank10_e_level', 'rougher.state.floatbank10_f_air',\n",
      "       'rougher.state.floatbank10_f_level',\n",
      "       'secondary_cleaner.state.floatbank2_a_air',\n",
      "       'secondary_cleaner.state.floatbank2_a_level',\n",
      "       'secondary_cleaner.state.floatbank2_b_air',\n",
      "       'secondary_cleaner.state.floatbank2_b_level',\n",
      "       'secondary_cleaner.state.floatbank3_a_air',\n",
      "       'secondary_cleaner.state.floatbank3_a_level',\n",
      "       'secondary_cleaner.state.floatbank3_b_air',\n",
      "       'secondary_cleaner.state.floatbank3_b_level',\n",
      "       'secondary_cleaner.state.floatbank4_a_air',\n",
      "       'secondary_cleaner.state.floatbank4_a_level',\n",
      "       'secondary_cleaner.state.floatbank4_b_air',\n",
      "       'secondary_cleaner.state.floatbank4_b_level',\n",
      "       'secondary_cleaner.state.floatbank5_a_air',\n",
      "       'secondary_cleaner.state.floatbank5_a_level',\n",
      "       'secondary_cleaner.state.floatbank5_b_air',\n",
      "       'secondary_cleaner.state.floatbank5_b_level',\n",
      "       'secondary_cleaner.state.floatbank6_a_air',\n",
      "       'secondary_cleaner.state.floatbank6_a_level'],\n",
      "      dtype='object')\n"
     ]
    }
   ],
   "source": [
    "print(data_test.columns)\n"
   ]
  },
  {
   "cell_type": "code",
   "execution_count": 11,
   "metadata": {},
   "outputs": [
    {
     "name": "stdout",
     "output_type": "stream",
     "text": [
      "(86,)\n",
      "(52,)\n"
     ]
    }
   ],
   "source": [
    "data_columns=pd.Series(data.columns)\n",
    "data_train_columns=pd.Series(data_train.columns)\n",
    "data_test_columns=pd.Series(data_test.columns)\n",
    "print(data_columns.shape)\n",
    "print(data_test_columns.shape)"
   ]
  },
  {
   "cell_type": "code",
   "execution_count": 12,
   "metadata": {},
   "outputs": [
    {
     "name": "stdout",
     "output_type": "stream",
     "text": [
      "(34,)\n",
      "0                           final.output.concentrate_ag\n",
      "1                           final.output.concentrate_pb\n",
      "2                          final.output.concentrate_sol\n",
      "3                           final.output.concentrate_au\n",
      "4                                 final.output.recovery\n",
      "5                                  final.output.tail_ag\n",
      "6                                  final.output.tail_pb\n",
      "7                                 final.output.tail_sol\n",
      "8                                  final.output.tail_au\n",
      "13                primary_cleaner.output.concentrate_ag\n",
      "14                primary_cleaner.output.concentrate_pb\n",
      "15               primary_cleaner.output.concentrate_sol\n",
      "16                primary_cleaner.output.concentrate_au\n",
      "17                       primary_cleaner.output.tail_ag\n",
      "18                       primary_cleaner.output.tail_pb\n",
      "19                      primary_cleaner.output.tail_sol\n",
      "20                       primary_cleaner.output.tail_au\n",
      "29        rougher.calculation.sulfate_to_au_concentrate\n",
      "30    rougher.calculation.floatbank10_sulfate_to_au_...\n",
      "31    rougher.calculation.floatbank11_sulfate_to_au_...\n",
      "32                      rougher.calculation.au_pb_ratio\n",
      "43                        rougher.output.concentrate_ag\n",
      "44                        rougher.output.concentrate_pb\n",
      "45                       rougher.output.concentrate_sol\n",
      "46                        rougher.output.concentrate_au\n",
      "47                              rougher.output.recovery\n",
      "48                               rougher.output.tail_ag\n",
      "49                               rougher.output.tail_pb\n",
      "50                              rougher.output.tail_sol\n",
      "51                               rougher.output.tail_au\n",
      "64                     secondary_cleaner.output.tail_ag\n",
      "65                     secondary_cleaner.output.tail_pb\n",
      "66                    secondary_cleaner.output.tail_sol\n",
      "67                     secondary_cleaner.output.tail_au\n",
      "dtype: object\n"
     ]
    }
   ],
   "source": [
    "#признаки,которых нет в тесте\n",
    "not_in_test = data_columns[~data_columns.isin(data_test_columns)]\n",
    "print(not_in_test.shape)\n",
    "print(not_in_test)\n"
   ]
  },
  {
   "cell_type": "markdown",
   "metadata": {},
   "source": [
    "Нет данных с типом параметра output, calculation. Это значит, что в тесте хранятся только те данные, которые доступны до запуска процесса очищения руды. Остальные приобретаются уже в процессе или после\n"
   ]
  },
  {
   "cell_type": "markdown",
   "metadata": {},
   "source": [
    "## Заполнение пропусков"
   ]
  },
  {
   "cell_type": "code",
   "execution_count": 13,
   "metadata": {},
   "outputs": [
    {
     "name": "stdout",
     "output_type": "stream",
     "text": [
      "secondary_cleaner.output.tail_sol                     1748\n",
      "rougher.input.floatbank11_xanthate                     453\n",
      "rougher.state.floatbank10_e_air                        436\n",
      "primary_cleaner.output.concentrate_sol                 370\n",
      "secondary_cleaner.state.floatbank2_a_air               220\n",
      "final.output.concentrate_sol                           211\n",
      "rougher.input.feed_size                                145\n",
      "primary_cleaner.output.concentrate_pb                  116\n",
      "primary_cleaner.input.xanthate                         104\n",
      "final.output.tail_pb                                   101\n",
      "rougher.input.feed_pb                                  100\n",
      "rougher.input.feed_sol                                  99\n",
      "primary_cleaner.output.tail_sol                         62\n",
      "rougher.input.floatbank11_sulfate                       44\n",
      "primary_cleaner.input.depressant                        37\n",
      "rougher.input.floatbank10_sulfate                       34\n",
      "primary_cleaner.input.sulfate                           24\n",
      "secondary_cleaner.state.floatbank2_b_air                23\n",
      "rougher.output.concentrate_sol                          23\n",
      "primary_cleaner.output.tail_pb                          21\n",
      "secondary_cleaner.state.floatbank3_a_air                13\n",
      "secondary_cleaner.output.tail_pb                        12\n",
      "rougher.input.feed_rate                                 11\n",
      "rougher.input.floatbank10_xanthate                       8\n",
      "secondary_cleaner.state.floatbank4_a_air                 6\n",
      "final.output.tail_sol                                    6\n",
      "primary_cleaner.state.floatbank8_a_air                   4\n",
      "primary_cleaner.state.floatbank8_b_air                   4\n",
      "primary_cleaner.output.tail_ag                           4\n",
      "primary_cleaner.state.floatbank8_d_air                   3\n",
      "secondary_cleaner.state.floatbank6_a_air                 2\n",
      "secondary_cleaner.output.tail_ag                         2\n",
      "rougher.calculation.sulfate_to_au_concentrate            2\n",
      "rougher.calculation.floatbank11_sulfate_to_au_feed       2\n",
      "rougher.calculation.floatbank10_sulfate_to_au_feed       2\n",
      "primary_cleaner.state.floatbank8_c_air                   2\n",
      "secondary_cleaner.state.floatbank2_a_level               1\n",
      "rougher.state.floatbank10_c_level                        1\n",
      "rougher.state.floatbank10_c_air                          1\n",
      "final.output.concentrate_ag                              1\n",
      "secondary_cleaner.state.floatbank3_b_air                 1\n",
      "secondary_cleaner.state.floatbank2_b_level               1\n",
      "secondary_cleaner.state.floatbank3_a_level               1\n",
      "rougher.state.floatbank10_b_air                          1\n",
      "secondary_cleaner.state.floatbank3_b_level               1\n",
      "secondary_cleaner.state.floatbank4_a_level               1\n",
      "secondary_cleaner.state.floatbank4_b_air                 1\n",
      "secondary_cleaner.state.floatbank4_b_level               1\n",
      "secondary_cleaner.state.floatbank5_a_air                 1\n",
      "secondary_cleaner.state.floatbank5_a_level               1\n",
      "secondary_cleaner.state.floatbank5_b_air                 1\n",
      "secondary_cleaner.state.floatbank5_b_level               1\n",
      "rougher.state.floatbank10_b_level                        1\n",
      "secondary_cleaner.state.floatbank6_a_level               1\n",
      "rougher.state.floatbank10_a_level                        1\n",
      "rougher.output.tail_ag                                   1\n",
      "final.output.concentrate_pb                              1\n",
      "primary_cleaner.state.floatbank8_d_level                 1\n",
      "primary_cleaner.state.floatbank8_c_level                 1\n",
      "primary_cleaner.state.floatbank8_b_level                 1\n",
      "primary_cleaner.state.floatbank8_a_level                 1\n",
      "rougher.state.floatbank10_a_air                          1\n",
      "final.output.tail_ag                                     1\n",
      "rougher.calculation.au_pb_ratio                          0\n",
      "primary_cleaner.output.tail_au                           0\n",
      "primary_cleaner.output.concentrate_ag                    0\n",
      "primary_cleaner.input.feed_size                          0\n",
      "final.output.tail_au                                     0\n",
      "final.output.recovery                                    0\n",
      "final.output.concentrate_au                              0\n",
      "primary_cleaner.output.concentrate_au                    0\n",
      "rougher.input.feed_au                                    0\n",
      "rougher.input.feed_ag                                    0\n",
      "rougher.output.concentrate_pb                            0\n",
      "secondary_cleaner.output.tail_au                         0\n",
      "rougher.output.concentrate_au                            0\n",
      "rougher.output.recovery                                  0\n",
      "rougher.state.floatbank10_f_level                        0\n",
      "rougher.state.floatbank10_f_air                          0\n",
      "rougher.state.floatbank10_e_level                        0\n",
      "rougher.output.tail_pb                                   0\n",
      "rougher.state.floatbank10_d_level                        0\n",
      "rougher.state.floatbank10_d_air                          0\n",
      "rougher.output.tail_sol                                  0\n",
      "rougher.output.tail_au                                   0\n",
      "rougher.output.concentrate_ag                            0\n",
      "dtype: int64\n"
     ]
    }
   ],
   "source": [
    "pd.set_option(\"display.max_rows\", 90)\n",
    "print(data.isna().sum().sort_values(ascending = False))"
   ]
  },
  {
   "cell_type": "code",
   "execution_count": 16,
   "metadata": {
    "scrolled": false
   },
   "outputs": [
    {
     "data": {
      "text/html": [
       "<div>\n",
       "<style scoped>\n",
       "    .dataframe tbody tr th:only-of-type {\n",
       "        vertical-align: middle;\n",
       "    }\n",
       "\n",
       "    .dataframe tbody tr th {\n",
       "        vertical-align: top;\n",
       "    }\n",
       "\n",
       "    .dataframe thead th {\n",
       "        text-align: right;\n",
       "    }\n",
       "</style>\n",
       "<table border=\"1\" class=\"dataframe\">\n",
       "  <thead>\n",
       "    <tr style=\"text-align: right;\">\n",
       "      <th></th>\n",
       "      <th>final.output.concentrate_ag</th>\n",
       "      <th>final.output.concentrate_pb</th>\n",
       "      <th>final.output.concentrate_sol</th>\n",
       "      <th>final.output.concentrate_au</th>\n",
       "      <th>final.output.recovery</th>\n",
       "      <th>final.output.tail_ag</th>\n",
       "      <th>final.output.tail_pb</th>\n",
       "      <th>final.output.tail_sol</th>\n",
       "      <th>final.output.tail_au</th>\n",
       "      <th>primary_cleaner.input.sulfate</th>\n",
       "      <th>...</th>\n",
       "      <th>secondary_cleaner.state.floatbank4_a_air</th>\n",
       "      <th>secondary_cleaner.state.floatbank4_a_level</th>\n",
       "      <th>secondary_cleaner.state.floatbank4_b_air</th>\n",
       "      <th>secondary_cleaner.state.floatbank4_b_level</th>\n",
       "      <th>secondary_cleaner.state.floatbank5_a_air</th>\n",
       "      <th>secondary_cleaner.state.floatbank5_a_level</th>\n",
       "      <th>secondary_cleaner.state.floatbank5_b_air</th>\n",
       "      <th>secondary_cleaner.state.floatbank5_b_level</th>\n",
       "      <th>secondary_cleaner.state.floatbank6_a_air</th>\n",
       "      <th>secondary_cleaner.state.floatbank6_a_level</th>\n",
       "    </tr>\n",
       "    <tr>\n",
       "      <th>date</th>\n",
       "      <th></th>\n",
       "      <th></th>\n",
       "      <th></th>\n",
       "      <th></th>\n",
       "      <th></th>\n",
       "      <th></th>\n",
       "      <th></th>\n",
       "      <th></th>\n",
       "      <th></th>\n",
       "      <th></th>\n",
       "      <th></th>\n",
       "      <th></th>\n",
       "      <th></th>\n",
       "      <th></th>\n",
       "      <th></th>\n",
       "      <th></th>\n",
       "      <th></th>\n",
       "      <th></th>\n",
       "      <th></th>\n",
       "      <th></th>\n",
       "      <th></th>\n",
       "    </tr>\n",
       "  </thead>\n",
       "  <tbody>\n",
       "    <tr>\n",
       "      <th>2016-01-15 00:00:00</th>\n",
       "      <td>6.055403</td>\n",
       "      <td>9.889648</td>\n",
       "      <td>5.507324</td>\n",
       "      <td>42.192020</td>\n",
       "      <td>70.541216</td>\n",
       "      <td>10.411962</td>\n",
       "      <td>0.895447</td>\n",
       "      <td>16.904297</td>\n",
       "      <td>2.143149</td>\n",
       "      <td>127.092003</td>\n",
       "      <td>...</td>\n",
       "      <td>14.016835</td>\n",
       "      <td>-502.488007</td>\n",
       "      <td>12.099931</td>\n",
       "      <td>-504.715942</td>\n",
       "      <td>9.925633</td>\n",
       "      <td>-498.310211</td>\n",
       "      <td>8.079666</td>\n",
       "      <td>-500.470978</td>\n",
       "      <td>14.151341</td>\n",
       "      <td>-605.841980</td>\n",
       "    </tr>\n",
       "    <tr>\n",
       "      <th>2016-01-15 01:00:00</th>\n",
       "      <td>6.029369</td>\n",
       "      <td>9.968944</td>\n",
       "      <td>5.257781</td>\n",
       "      <td>42.701629</td>\n",
       "      <td>69.266198</td>\n",
       "      <td>10.462676</td>\n",
       "      <td>0.927452</td>\n",
       "      <td>16.634514</td>\n",
       "      <td>2.224930</td>\n",
       "      <td>125.629232</td>\n",
       "      <td>...</td>\n",
       "      <td>13.992281</td>\n",
       "      <td>-505.503262</td>\n",
       "      <td>11.950531</td>\n",
       "      <td>-501.331529</td>\n",
       "      <td>10.039245</td>\n",
       "      <td>-500.169983</td>\n",
       "      <td>7.984757</td>\n",
       "      <td>-500.582168</td>\n",
       "      <td>13.998353</td>\n",
       "      <td>-599.787184</td>\n",
       "    </tr>\n",
       "    <tr>\n",
       "      <th>2016-01-15 02:00:00</th>\n",
       "      <td>6.055926</td>\n",
       "      <td>10.213995</td>\n",
       "      <td>5.383759</td>\n",
       "      <td>42.657501</td>\n",
       "      <td>68.116445</td>\n",
       "      <td>10.507046</td>\n",
       "      <td>0.953716</td>\n",
       "      <td>16.208849</td>\n",
       "      <td>2.257889</td>\n",
       "      <td>123.819808</td>\n",
       "      <td>...</td>\n",
       "      <td>14.015015</td>\n",
       "      <td>-502.520901</td>\n",
       "      <td>11.912783</td>\n",
       "      <td>-501.133383</td>\n",
       "      <td>10.070913</td>\n",
       "      <td>-500.129135</td>\n",
       "      <td>8.013877</td>\n",
       "      <td>-500.517572</td>\n",
       "      <td>14.028663</td>\n",
       "      <td>-601.427363</td>\n",
       "    </tr>\n",
       "    <tr>\n",
       "      <th>2016-01-15 03:00:00</th>\n",
       "      <td>6.047977</td>\n",
       "      <td>9.977019</td>\n",
       "      <td>4.858634</td>\n",
       "      <td>42.689819</td>\n",
       "      <td>68.347543</td>\n",
       "      <td>10.422762</td>\n",
       "      <td>0.883763</td>\n",
       "      <td>16.532835</td>\n",
       "      <td>2.146849</td>\n",
       "      <td>122.270188</td>\n",
       "      <td>...</td>\n",
       "      <td>14.036510</td>\n",
       "      <td>-500.857308</td>\n",
       "      <td>11.999550</td>\n",
       "      <td>-501.193686</td>\n",
       "      <td>9.970366</td>\n",
       "      <td>-499.201640</td>\n",
       "      <td>7.977324</td>\n",
       "      <td>-500.255908</td>\n",
       "      <td>14.005551</td>\n",
       "      <td>-599.996129</td>\n",
       "    </tr>\n",
       "    <tr>\n",
       "      <th>2016-01-15 04:00:00</th>\n",
       "      <td>6.148599</td>\n",
       "      <td>10.142511</td>\n",
       "      <td>4.939416</td>\n",
       "      <td>42.774141</td>\n",
       "      <td>66.927016</td>\n",
       "      <td>10.360302</td>\n",
       "      <td>0.792826</td>\n",
       "      <td>16.525686</td>\n",
       "      <td>2.055292</td>\n",
       "      <td>117.988169</td>\n",
       "      <td>...</td>\n",
       "      <td>14.027298</td>\n",
       "      <td>-499.838632</td>\n",
       "      <td>11.953070</td>\n",
       "      <td>-501.053894</td>\n",
       "      <td>9.925709</td>\n",
       "      <td>-501.686727</td>\n",
       "      <td>7.894242</td>\n",
       "      <td>-500.356035</td>\n",
       "      <td>13.996647</td>\n",
       "      <td>-601.496691</td>\n",
       "    </tr>\n",
       "    <tr>\n",
       "      <th>...</th>\n",
       "      <td>...</td>\n",
       "      <td>...</td>\n",
       "      <td>...</td>\n",
       "      <td>...</td>\n",
       "      <td>...</td>\n",
       "      <td>...</td>\n",
       "      <td>...</td>\n",
       "      <td>...</td>\n",
       "      <td>...</td>\n",
       "      <td>...</td>\n",
       "      <td>...</td>\n",
       "      <td>...</td>\n",
       "      <td>...</td>\n",
       "      <td>...</td>\n",
       "      <td>...</td>\n",
       "      <td>...</td>\n",
       "      <td>...</td>\n",
       "      <td>...</td>\n",
       "      <td>...</td>\n",
       "      <td>...</td>\n",
       "      <td>...</td>\n",
       "    </tr>\n",
       "    <tr>\n",
       "      <th>2018-08-18 06:59:59</th>\n",
       "      <td>3.224920</td>\n",
       "      <td>11.356233</td>\n",
       "      <td>6.803482</td>\n",
       "      <td>46.713954</td>\n",
       "      <td>73.755150</td>\n",
       "      <td>8.769645</td>\n",
       "      <td>3.141541</td>\n",
       "      <td>10.403181</td>\n",
       "      <td>1.529220</td>\n",
       "      <td>123.381787</td>\n",
       "      <td>...</td>\n",
       "      <td>23.031497</td>\n",
       "      <td>-501.167942</td>\n",
       "      <td>20.007571</td>\n",
       "      <td>-499.740028</td>\n",
       "      <td>18.006038</td>\n",
       "      <td>-499.834374</td>\n",
       "      <td>13.001114</td>\n",
       "      <td>-500.155694</td>\n",
       "      <td>20.007840</td>\n",
       "      <td>-501.296428</td>\n",
       "    </tr>\n",
       "    <tr>\n",
       "      <th>2018-08-18 07:59:59</th>\n",
       "      <td>3.195978</td>\n",
       "      <td>11.349355</td>\n",
       "      <td>6.862249</td>\n",
       "      <td>46.866780</td>\n",
       "      <td>69.049291</td>\n",
       "      <td>8.897321</td>\n",
       "      <td>3.130493</td>\n",
       "      <td>10.549470</td>\n",
       "      <td>1.612542</td>\n",
       "      <td>120.878188</td>\n",
       "      <td>...</td>\n",
       "      <td>22.960095</td>\n",
       "      <td>-501.612783</td>\n",
       "      <td>20.035660</td>\n",
       "      <td>-500.251357</td>\n",
       "      <td>17.998535</td>\n",
       "      <td>-500.395178</td>\n",
       "      <td>12.954048</td>\n",
       "      <td>-499.895163</td>\n",
       "      <td>19.968498</td>\n",
       "      <td>-501.041608</td>\n",
       "    </tr>\n",
       "    <tr>\n",
       "      <th>2018-08-18 08:59:59</th>\n",
       "      <td>3.109998</td>\n",
       "      <td>11.434366</td>\n",
       "      <td>6.886013</td>\n",
       "      <td>46.795691</td>\n",
       "      <td>67.002189</td>\n",
       "      <td>8.529606</td>\n",
       "      <td>2.911418</td>\n",
       "      <td>11.115147</td>\n",
       "      <td>1.596616</td>\n",
       "      <td>105.666118</td>\n",
       "      <td>...</td>\n",
       "      <td>23.015718</td>\n",
       "      <td>-501.711599</td>\n",
       "      <td>19.951231</td>\n",
       "      <td>-499.857027</td>\n",
       "      <td>18.019543</td>\n",
       "      <td>-500.451156</td>\n",
       "      <td>13.023431</td>\n",
       "      <td>-499.914391</td>\n",
       "      <td>19.990885</td>\n",
       "      <td>-501.518452</td>\n",
       "    </tr>\n",
       "    <tr>\n",
       "      <th>2018-08-18 09:59:59</th>\n",
       "      <td>3.367241</td>\n",
       "      <td>11.625587</td>\n",
       "      <td>6.799433</td>\n",
       "      <td>46.408188</td>\n",
       "      <td>65.523246</td>\n",
       "      <td>8.777171</td>\n",
       "      <td>2.819214</td>\n",
       "      <td>10.463847</td>\n",
       "      <td>1.602879</td>\n",
       "      <td>98.880538</td>\n",
       "      <td>...</td>\n",
       "      <td>23.024963</td>\n",
       "      <td>-501.153409</td>\n",
       "      <td>20.054122</td>\n",
       "      <td>-500.314711</td>\n",
       "      <td>17.979515</td>\n",
       "      <td>-499.272871</td>\n",
       "      <td>12.992404</td>\n",
       "      <td>-499.976268</td>\n",
       "      <td>20.013986</td>\n",
       "      <td>-500.625471</td>\n",
       "    </tr>\n",
       "    <tr>\n",
       "      <th>2018-08-18 10:59:59</th>\n",
       "      <td>3.598375</td>\n",
       "      <td>11.737832</td>\n",
       "      <td>6.717509</td>\n",
       "      <td>46.299438</td>\n",
       "      <td>70.281454</td>\n",
       "      <td>8.406690</td>\n",
       "      <td>2.517518</td>\n",
       "      <td>10.652193</td>\n",
       "      <td>1.389434</td>\n",
       "      <td>95.248427</td>\n",
       "      <td>...</td>\n",
       "      <td>23.018622</td>\n",
       "      <td>-500.492702</td>\n",
       "      <td>20.020205</td>\n",
       "      <td>-500.220296</td>\n",
       "      <td>17.963512</td>\n",
       "      <td>-499.939490</td>\n",
       "      <td>12.990306</td>\n",
       "      <td>-500.080993</td>\n",
       "      <td>19.990336</td>\n",
       "      <td>-499.191575</td>\n",
       "    </tr>\n",
       "  </tbody>\n",
       "</table>\n",
       "<p>19439 rows × 86 columns</p>\n",
       "</div>"
      ],
      "text/plain": [
       "                     final.output.concentrate_ag  final.output.concentrate_pb  \\\n",
       "date                                                                            \n",
       "2016-01-15 00:00:00                     6.055403                     9.889648   \n",
       "2016-01-15 01:00:00                     6.029369                     9.968944   \n",
       "2016-01-15 02:00:00                     6.055926                    10.213995   \n",
       "2016-01-15 03:00:00                     6.047977                     9.977019   \n",
       "2016-01-15 04:00:00                     6.148599                    10.142511   \n",
       "...                                          ...                          ...   \n",
       "2018-08-18 06:59:59                     3.224920                    11.356233   \n",
       "2018-08-18 07:59:59                     3.195978                    11.349355   \n",
       "2018-08-18 08:59:59                     3.109998                    11.434366   \n",
       "2018-08-18 09:59:59                     3.367241                    11.625587   \n",
       "2018-08-18 10:59:59                     3.598375                    11.737832   \n",
       "\n",
       "                     final.output.concentrate_sol  \\\n",
       "date                                                \n",
       "2016-01-15 00:00:00                      5.507324   \n",
       "2016-01-15 01:00:00                      5.257781   \n",
       "2016-01-15 02:00:00                      5.383759   \n",
       "2016-01-15 03:00:00                      4.858634   \n",
       "2016-01-15 04:00:00                      4.939416   \n",
       "...                                           ...   \n",
       "2018-08-18 06:59:59                      6.803482   \n",
       "2018-08-18 07:59:59                      6.862249   \n",
       "2018-08-18 08:59:59                      6.886013   \n",
       "2018-08-18 09:59:59                      6.799433   \n",
       "2018-08-18 10:59:59                      6.717509   \n",
       "\n",
       "                     final.output.concentrate_au  final.output.recovery  \\\n",
       "date                                                                      \n",
       "2016-01-15 00:00:00                    42.192020              70.541216   \n",
       "2016-01-15 01:00:00                    42.701629              69.266198   \n",
       "2016-01-15 02:00:00                    42.657501              68.116445   \n",
       "2016-01-15 03:00:00                    42.689819              68.347543   \n",
       "2016-01-15 04:00:00                    42.774141              66.927016   \n",
       "...                                          ...                    ...   \n",
       "2018-08-18 06:59:59                    46.713954              73.755150   \n",
       "2018-08-18 07:59:59                    46.866780              69.049291   \n",
       "2018-08-18 08:59:59                    46.795691              67.002189   \n",
       "2018-08-18 09:59:59                    46.408188              65.523246   \n",
       "2018-08-18 10:59:59                    46.299438              70.281454   \n",
       "\n",
       "                     final.output.tail_ag  final.output.tail_pb  \\\n",
       "date                                                              \n",
       "2016-01-15 00:00:00             10.411962              0.895447   \n",
       "2016-01-15 01:00:00             10.462676              0.927452   \n",
       "2016-01-15 02:00:00             10.507046              0.953716   \n",
       "2016-01-15 03:00:00             10.422762              0.883763   \n",
       "2016-01-15 04:00:00             10.360302              0.792826   \n",
       "...                                   ...                   ...   \n",
       "2018-08-18 06:59:59              8.769645              3.141541   \n",
       "2018-08-18 07:59:59              8.897321              3.130493   \n",
       "2018-08-18 08:59:59              8.529606              2.911418   \n",
       "2018-08-18 09:59:59              8.777171              2.819214   \n",
       "2018-08-18 10:59:59              8.406690              2.517518   \n",
       "\n",
       "                     final.output.tail_sol  final.output.tail_au  \\\n",
       "date                                                               \n",
       "2016-01-15 00:00:00              16.904297              2.143149   \n",
       "2016-01-15 01:00:00              16.634514              2.224930   \n",
       "2016-01-15 02:00:00              16.208849              2.257889   \n",
       "2016-01-15 03:00:00              16.532835              2.146849   \n",
       "2016-01-15 04:00:00              16.525686              2.055292   \n",
       "...                                    ...                   ...   \n",
       "2018-08-18 06:59:59              10.403181              1.529220   \n",
       "2018-08-18 07:59:59              10.549470              1.612542   \n",
       "2018-08-18 08:59:59              11.115147              1.596616   \n",
       "2018-08-18 09:59:59              10.463847              1.602879   \n",
       "2018-08-18 10:59:59              10.652193              1.389434   \n",
       "\n",
       "                     primary_cleaner.input.sulfate  ...  \\\n",
       "date                                                ...   \n",
       "2016-01-15 00:00:00                     127.092003  ...   \n",
       "2016-01-15 01:00:00                     125.629232  ...   \n",
       "2016-01-15 02:00:00                     123.819808  ...   \n",
       "2016-01-15 03:00:00                     122.270188  ...   \n",
       "2016-01-15 04:00:00                     117.988169  ...   \n",
       "...                                            ...  ...   \n",
       "2018-08-18 06:59:59                     123.381787  ...   \n",
       "2018-08-18 07:59:59                     120.878188  ...   \n",
       "2018-08-18 08:59:59                     105.666118  ...   \n",
       "2018-08-18 09:59:59                      98.880538  ...   \n",
       "2018-08-18 10:59:59                      95.248427  ...   \n",
       "\n",
       "                     secondary_cleaner.state.floatbank4_a_air  \\\n",
       "date                                                            \n",
       "2016-01-15 00:00:00                                 14.016835   \n",
       "2016-01-15 01:00:00                                 13.992281   \n",
       "2016-01-15 02:00:00                                 14.015015   \n",
       "2016-01-15 03:00:00                                 14.036510   \n",
       "2016-01-15 04:00:00                                 14.027298   \n",
       "...                                                       ...   \n",
       "2018-08-18 06:59:59                                 23.031497   \n",
       "2018-08-18 07:59:59                                 22.960095   \n",
       "2018-08-18 08:59:59                                 23.015718   \n",
       "2018-08-18 09:59:59                                 23.024963   \n",
       "2018-08-18 10:59:59                                 23.018622   \n",
       "\n",
       "                     secondary_cleaner.state.floatbank4_a_level  \\\n",
       "date                                                              \n",
       "2016-01-15 00:00:00                                 -502.488007   \n",
       "2016-01-15 01:00:00                                 -505.503262   \n",
       "2016-01-15 02:00:00                                 -502.520901   \n",
       "2016-01-15 03:00:00                                 -500.857308   \n",
       "2016-01-15 04:00:00                                 -499.838632   \n",
       "...                                                         ...   \n",
       "2018-08-18 06:59:59                                 -501.167942   \n",
       "2018-08-18 07:59:59                                 -501.612783   \n",
       "2018-08-18 08:59:59                                 -501.711599   \n",
       "2018-08-18 09:59:59                                 -501.153409   \n",
       "2018-08-18 10:59:59                                 -500.492702   \n",
       "\n",
       "                     secondary_cleaner.state.floatbank4_b_air  \\\n",
       "date                                                            \n",
       "2016-01-15 00:00:00                                 12.099931   \n",
       "2016-01-15 01:00:00                                 11.950531   \n",
       "2016-01-15 02:00:00                                 11.912783   \n",
       "2016-01-15 03:00:00                                 11.999550   \n",
       "2016-01-15 04:00:00                                 11.953070   \n",
       "...                                                       ...   \n",
       "2018-08-18 06:59:59                                 20.007571   \n",
       "2018-08-18 07:59:59                                 20.035660   \n",
       "2018-08-18 08:59:59                                 19.951231   \n",
       "2018-08-18 09:59:59                                 20.054122   \n",
       "2018-08-18 10:59:59                                 20.020205   \n",
       "\n",
       "                     secondary_cleaner.state.floatbank4_b_level  \\\n",
       "date                                                              \n",
       "2016-01-15 00:00:00                                 -504.715942   \n",
       "2016-01-15 01:00:00                                 -501.331529   \n",
       "2016-01-15 02:00:00                                 -501.133383   \n",
       "2016-01-15 03:00:00                                 -501.193686   \n",
       "2016-01-15 04:00:00                                 -501.053894   \n",
       "...                                                         ...   \n",
       "2018-08-18 06:59:59                                 -499.740028   \n",
       "2018-08-18 07:59:59                                 -500.251357   \n",
       "2018-08-18 08:59:59                                 -499.857027   \n",
       "2018-08-18 09:59:59                                 -500.314711   \n",
       "2018-08-18 10:59:59                                 -500.220296   \n",
       "\n",
       "                     secondary_cleaner.state.floatbank5_a_air  \\\n",
       "date                                                            \n",
       "2016-01-15 00:00:00                                  9.925633   \n",
       "2016-01-15 01:00:00                                 10.039245   \n",
       "2016-01-15 02:00:00                                 10.070913   \n",
       "2016-01-15 03:00:00                                  9.970366   \n",
       "2016-01-15 04:00:00                                  9.925709   \n",
       "...                                                       ...   \n",
       "2018-08-18 06:59:59                                 18.006038   \n",
       "2018-08-18 07:59:59                                 17.998535   \n",
       "2018-08-18 08:59:59                                 18.019543   \n",
       "2018-08-18 09:59:59                                 17.979515   \n",
       "2018-08-18 10:59:59                                 17.963512   \n",
       "\n",
       "                     secondary_cleaner.state.floatbank5_a_level  \\\n",
       "date                                                              \n",
       "2016-01-15 00:00:00                                 -498.310211   \n",
       "2016-01-15 01:00:00                                 -500.169983   \n",
       "2016-01-15 02:00:00                                 -500.129135   \n",
       "2016-01-15 03:00:00                                 -499.201640   \n",
       "2016-01-15 04:00:00                                 -501.686727   \n",
       "...                                                         ...   \n",
       "2018-08-18 06:59:59                                 -499.834374   \n",
       "2018-08-18 07:59:59                                 -500.395178   \n",
       "2018-08-18 08:59:59                                 -500.451156   \n",
       "2018-08-18 09:59:59                                 -499.272871   \n",
       "2018-08-18 10:59:59                                 -499.939490   \n",
       "\n",
       "                     secondary_cleaner.state.floatbank5_b_air  \\\n",
       "date                                                            \n",
       "2016-01-15 00:00:00                                  8.079666   \n",
       "2016-01-15 01:00:00                                  7.984757   \n",
       "2016-01-15 02:00:00                                  8.013877   \n",
       "2016-01-15 03:00:00                                  7.977324   \n",
       "2016-01-15 04:00:00                                  7.894242   \n",
       "...                                                       ...   \n",
       "2018-08-18 06:59:59                                 13.001114   \n",
       "2018-08-18 07:59:59                                 12.954048   \n",
       "2018-08-18 08:59:59                                 13.023431   \n",
       "2018-08-18 09:59:59                                 12.992404   \n",
       "2018-08-18 10:59:59                                 12.990306   \n",
       "\n",
       "                     secondary_cleaner.state.floatbank5_b_level  \\\n",
       "date                                                              \n",
       "2016-01-15 00:00:00                                 -500.470978   \n",
       "2016-01-15 01:00:00                                 -500.582168   \n",
       "2016-01-15 02:00:00                                 -500.517572   \n",
       "2016-01-15 03:00:00                                 -500.255908   \n",
       "2016-01-15 04:00:00                                 -500.356035   \n",
       "...                                                         ...   \n",
       "2018-08-18 06:59:59                                 -500.155694   \n",
       "2018-08-18 07:59:59                                 -499.895163   \n",
       "2018-08-18 08:59:59                                 -499.914391   \n",
       "2018-08-18 09:59:59                                 -499.976268   \n",
       "2018-08-18 10:59:59                                 -500.080993   \n",
       "\n",
       "                     secondary_cleaner.state.floatbank6_a_air  \\\n",
       "date                                                            \n",
       "2016-01-15 00:00:00                                 14.151341   \n",
       "2016-01-15 01:00:00                                 13.998353   \n",
       "2016-01-15 02:00:00                                 14.028663   \n",
       "2016-01-15 03:00:00                                 14.005551   \n",
       "2016-01-15 04:00:00                                 13.996647   \n",
       "...                                                       ...   \n",
       "2018-08-18 06:59:59                                 20.007840   \n",
       "2018-08-18 07:59:59                                 19.968498   \n",
       "2018-08-18 08:59:59                                 19.990885   \n",
       "2018-08-18 09:59:59                                 20.013986   \n",
       "2018-08-18 10:59:59                                 19.990336   \n",
       "\n",
       "                     secondary_cleaner.state.floatbank6_a_level  \n",
       "date                                                             \n",
       "2016-01-15 00:00:00                                 -605.841980  \n",
       "2016-01-15 01:00:00                                 -599.787184  \n",
       "2016-01-15 02:00:00                                 -601.427363  \n",
       "2016-01-15 03:00:00                                 -599.996129  \n",
       "2016-01-15 04:00:00                                 -601.496691  \n",
       "...                                                         ...  \n",
       "2018-08-18 06:59:59                                 -501.296428  \n",
       "2018-08-18 07:59:59                                 -501.041608  \n",
       "2018-08-18 08:59:59                                 -501.518452  \n",
       "2018-08-18 09:59:59                                 -500.625471  \n",
       "2018-08-18 10:59:59                                 -499.191575  \n",
       "\n",
       "[19439 rows x 86 columns]"
      ]
     },
     "metadata": {},
     "output_type": "display_data"
    }
   ],
   "source": [
    "data_sorted = data.sort_index()\n",
    "display(data_sorted)\n",
    "data_shifted = data_sorted.shift(-1, axis=0)\n"
   ]
  },
  {
   "cell_type": "code",
   "execution_count": 17,
   "metadata": {},
   "outputs": [],
   "source": [
    "columns_with_nan = ['secondary_cleaner.output.tail_sol',\n",
    "'rougher.input.floatbank11_xanthate', \n",
    "'rougher.state.floatbank10_e_air',\n",
    "'primary_cleaner.output.concentrate_sol',\n",
    "'secondary_cleaner.state.floatbank2_a_air', \n",
    "'final.output.concentrate_sol',\n",
    "'rougher.input.feed_size', \n",
    "'primary_cleaner.output.concentrate_pb', \n",
    "'primary_cleaner.input.xanthate',\n",
    "'final.output.tail_pb',  \n",
    "'rougher.input.feed_pb', \n",
    "'rougher.input.feed_sol', \n",
    "'primary_cleaner.output.tail_sol', \n",
    "'rougher.input.floatbank11_sulfate', \n",
    "'primary_cleaner.input.depressant',\n",
    "'rougher.input.floatbank10_sulfate',\n",
    "'primary_cleaner.input.sulfate', \n",
    "'secondary_cleaner.state.floatbank2_b_air',\n",
    "'rougher.output.concentrate_sol', \n",
    "'primary_cleaner.output.tail_pb',\n",
    "'secondary_cleaner.state.floatbank3_a_air', \n",
    "'secondary_cleaner.output.tail_pb',\n",
    "'rougher.input.feed_rate', \n",
    "'rougher.input.floatbank10_xanthate',\n",
    "'secondary_cleaner.state.floatbank4_a_air', \n",
    "'final.output.tail_sol',\n",
    "'primary_cleaner.state.floatbank8_a_air', \n",
    "'primary_cleaner.state.floatbank8_b_air',\n",
    "'primary_cleaner.output.tail_ag', \n",
    "'primary_cleaner.state.floatbank8_d_air',  \n",
    "'secondary_cleaner.state.floatbank6_a_air', \n",
    "'secondary_cleaner.output.tail_ag',\n",
    "'rougher.calculation.sulfate_to_au_concentrate', \n",
    "'rougher.calculation.floatbank11_sulfate_to_au_feed', \n",
    "'rougher.calculation.floatbank10_sulfate_to_au_feed',\n",
    "'primary_cleaner.state.floatbank8_c_air', \n",
    "'secondary_cleaner.state.floatbank2_a_level', \n",
    "'rougher.state.floatbank10_c_level',\n",
    "'rougher.state.floatbank10_c_air',  \n",
    "'final.output.concentrate_ag', \n",
    "'secondary_cleaner.state.floatbank3_b_air', \n",
    "'secondary_cleaner.state.floatbank2_b_level', \n",
    "'secondary_cleaner.state.floatbank3_a_level', \n",
    "'rougher.state.floatbank10_b_air',  \n",
    "'secondary_cleaner.state.floatbank3_b_level', \n",
    "'secondary_cleaner.state.floatbank4_a_level', \n",
    "'secondary_cleaner.state.floatbank4_b_air', \n",
    "'secondary_cleaner.state.floatbank4_b_level',  \n",
    "'secondary_cleaner.state.floatbank5_a_air', \n",
    "'secondary_cleaner.state.floatbank5_a_level', \n",
    "'secondary_cleaner.state.floatbank5_b_air', \n",
    "'secondary_cleaner.state.floatbank5_b_level', \n",
    "'rougher.state.floatbank10_b_level',  \n",
    "'secondary_cleaner.state.floatbank6_a_level', \n",
    "'rougher.state.floatbank10_a_level', \n",
    "'rougher.output.tail_ag', \n",
    "'final.output.concentrate_pb', \n",
    "'primary_cleaner.state.floatbank8_d_level', \n",
    "'primary_cleaner.state.floatbank8_c_level', \n",
    "'primary_cleaner.state.floatbank8_b_level', \n",
    "'primary_cleaner.state.floatbank8_a_level',\n",
    "'rougher.state.floatbank10_a_air',  \n",
    "'final.output.tail_ag']"
   ]
  },
  {
   "cell_type": "code",
   "execution_count": 18,
   "metadata": {},
   "outputs": [
    {
     "name": "stderr",
     "output_type": "stream",
     "text": [
      "/tmp/ipykernel_110/2648232850.py:4: RuntimeWarning: divide by zero encountered in double_scalars\n",
      "  r = data_sorted[column][index]/data_sorted[column][index+1]\n",
      "/tmp/ipykernel_110/2648232850.py:4: RuntimeWarning: invalid value encountered in double_scalars\n",
      "  r = data_sorted[column][index]/data_sorted[column][index+1]\n"
     ]
    },
    {
     "name": "stdout",
     "output_type": "stream",
     "text": [
      "1.0000      27494\n",
      "0.9999      23731\n",
      "1.0001      23703\n",
      "0.9998      21634\n",
      "1.0002      21534\n",
      "            ...  \n",
      "625.5308        1\n",
      "2.3378          1\n",
      "2.7342          1\n",
      "0.7375          1\n",
      "0.3671          1\n",
      "Length: 17839, dtype: int64\n"
     ]
    }
   ],
   "source": [
    "ratio = []\n",
    "for column in columns_with_nan:\n",
    "    for index in range(len(data_sorted[column])-1):\n",
    "        r = data_sorted[column][index]/data_sorted[column][index+1]\n",
    "        r=round(r,4)\n",
    "        ratio.append(r)\n",
    "ratio = pd.Series(ratio)\n",
    "#ratio=ratio.dropna()\n",
    "\n",
    "#plt.plot(ratio)\n",
    "#plt.show()\n",
    "print(ratio.sort_values().value_counts())\n",
    "\n",
    "#ratio.plot()  \n",
    "#sns.distplot(ratio)\n",
    "    "
   ]
  },
  {
   "cell_type": "markdown",
   "metadata": {},
   "source": [
    "В основном, результаты состредоточены вокруг единицы, поэтому можно считать, что сосоедние результаты действительно похожи. Следовательно, заполнение пропусков методом ffill корректно."
   ]
  },
  {
   "cell_type": "code",
   "execution_count": 20,
   "metadata": {},
   "outputs": [],
   "source": [
    "# заполним пропуски значениями соседними, поскольку они обычно похожи\n",
    "\n",
    "data_train = data_train.ffill(axis=0)\n",
    "data_test = data_test.ffill(axis=0)\n",
    "data = data.ffill(axis=0)"
   ]
  },
  {
   "cell_type": "code",
   "execution_count": 21,
   "metadata": {},
   "outputs": [
    {
     "name": "stdout",
     "output_type": "stream",
     "text": [
      "0\n"
     ]
    }
   ],
   "source": [
    "# дубликатов нет\n",
    "print(data_train.duplicated().sum())\n"
   ]
  },
  {
   "cell_type": "markdown",
   "metadata": {},
   "source": [
    "## Проверка правильности расчета recovery"
   ]
  },
  {
   "cell_type": "code",
   "execution_count": 22,
   "metadata": {},
   "outputs": [],
   "source": [
    "# проверим, правильно ли рассчитана recovery\n",
    "data_train['recovery'] = (data_train['rougher.output.concentrate_au']*(data_train['rougher.input.feed_au']-data_train['rougher.output.tail_au'])/data_train['rougher.input.feed_au']/(data_train['rougher.output.concentrate_au']- data_train['rougher.output.tail_au']))*100"
   ]
  },
  {
   "cell_type": "code",
   "execution_count": 23,
   "metadata": {},
   "outputs": [
    {
     "name": "stdout",
     "output_type": "stream",
     "text": [
      "date\n",
      "2016-01-15 00:00:00    87.107763\n",
      "2016-01-15 01:00:00    86.843261\n",
      "2016-01-15 02:00:00    86.842308\n",
      "2016-01-15 03:00:00    87.226430\n",
      "2016-01-15 04:00:00    86.688794\n",
      "                         ...    \n",
      "2018-08-18 06:59:59    89.574376\n",
      "2018-08-18 07:59:59    87.724007\n",
      "2018-08-18 08:59:59    88.890579\n",
      "2018-08-18 09:59:59    89.858126\n",
      "2018-08-18 10:59:59    89.514960\n",
      "Name: recovery, Length: 14149, dtype: float64\n"
     ]
    }
   ],
   "source": [
    "print(data_train['recovery'])"
   ]
  },
  {
   "cell_type": "code",
   "execution_count": 24,
   "metadata": {},
   "outputs": [
    {
     "name": "stdout",
     "output_type": "stream",
     "text": [
      "1.0748911125799084e-14\n"
     ]
    }
   ],
   "source": [
    "print(mean_absolute_error(data_train['rougher.output.recovery'], data_train['recovery']))"
   ]
  },
  {
   "cell_type": "markdown",
   "metadata": {},
   "source": [
    "Отклонение очень маленькое, поэтому можно считать, что значения в столбце rougher.output.recovery верные"
   ]
  },
  {
   "cell_type": "code",
   "execution_count": 25,
   "metadata": {},
   "outputs": [],
   "source": [
    "data_train=data_train.drop(['recovery'], axis=1)"
   ]
  },
  {
   "cell_type": "markdown",
   "metadata": {},
   "source": [
    "# Анализ данных"
   ]
  },
  {
   "cell_type": "markdown",
   "metadata": {},
   "source": [
    "## Распределение концентрации металлов на разных этапов очистки"
   ]
  },
  {
   "cell_type": "code",
   "execution_count": 26,
   "metadata": {},
   "outputs": [],
   "source": [
    "data_gold = data[['rougher.input.feed_au', 'rougher.output.concentrate_au', 'primary_cleaner.output.concentrate_au', 'final.output.concentrate_au']]\n",
    "data_ag = data[['rougher.input.feed_ag', 'rougher.output.concentrate_ag', 'primary_cleaner.output.concentrate_ag', 'final.output.concentrate_ag']]\n",
    "data_pb = data[['rougher.input.feed_pb', 'rougher.output.concentrate_pb', 'primary_cleaner.output.concentrate_pb', 'final.output.concentrate_pb']]"
   ]
  },
  {
   "cell_type": "code",
   "execution_count": 27,
   "metadata": {},
   "outputs": [
    {
     "data": {
      "text/html": [
       "<div>\n",
       "<style scoped>\n",
       "    .dataframe tbody tr th:only-of-type {\n",
       "        vertical-align: middle;\n",
       "    }\n",
       "\n",
       "    .dataframe tbody tr th {\n",
       "        vertical-align: top;\n",
       "    }\n",
       "\n",
       "    .dataframe thead th {\n",
       "        text-align: right;\n",
       "    }\n",
       "</style>\n",
       "<table border=\"1\" class=\"dataframe\">\n",
       "  <thead>\n",
       "    <tr style=\"text-align: right;\">\n",
       "      <th></th>\n",
       "      <th>rougher.input.feed_au</th>\n",
       "      <th>rougher.output.concentrate_au</th>\n",
       "      <th>primary_cleaner.output.concentrate_au</th>\n",
       "      <th>final.output.concentrate_au</th>\n",
       "    </tr>\n",
       "    <tr>\n",
       "      <th>date</th>\n",
       "      <th></th>\n",
       "      <th></th>\n",
       "      <th></th>\n",
       "      <th></th>\n",
       "    </tr>\n",
       "  </thead>\n",
       "  <tbody>\n",
       "    <tr>\n",
       "      <th>2016-01-15 00:00:00</th>\n",
       "      <td>6.486150</td>\n",
       "      <td>19.793808</td>\n",
       "      <td>34.174427</td>\n",
       "      <td>42.192020</td>\n",
       "    </tr>\n",
       "    <tr>\n",
       "      <th>2016-01-15 01:00:00</th>\n",
       "      <td>6.478583</td>\n",
       "      <td>20.050975</td>\n",
       "      <td>34.118526</td>\n",
       "      <td>42.701629</td>\n",
       "    </tr>\n",
       "    <tr>\n",
       "      <th>2016-01-15 02:00:00</th>\n",
       "      <td>6.362222</td>\n",
       "      <td>19.737170</td>\n",
       "      <td>33.969464</td>\n",
       "      <td>42.657501</td>\n",
       "    </tr>\n",
       "    <tr>\n",
       "      <th>2016-01-15 03:00:00</th>\n",
       "      <td>6.118189</td>\n",
       "      <td>19.320810</td>\n",
       "      <td>28.260743</td>\n",
       "      <td>42.689819</td>\n",
       "    </tr>\n",
       "    <tr>\n",
       "      <th>2016-01-15 04:00:00</th>\n",
       "      <td>5.663707</td>\n",
       "      <td>19.216101</td>\n",
       "      <td>33.044932</td>\n",
       "      <td>42.774141</td>\n",
       "    </tr>\n",
       "    <tr>\n",
       "      <th>...</th>\n",
       "      <td>...</td>\n",
       "      <td>...</td>\n",
       "      <td>...</td>\n",
       "      <td>...</td>\n",
       "    </tr>\n",
       "    <tr>\n",
       "      <th>2018-08-18 06:59:59</th>\n",
       "      <td>5.335862</td>\n",
       "      <td>18.603550</td>\n",
       "      <td>32.940215</td>\n",
       "      <td>46.713954</td>\n",
       "    </tr>\n",
       "    <tr>\n",
       "      <th>2018-08-18 07:59:59</th>\n",
       "      <td>4.838619</td>\n",
       "      <td>18.441436</td>\n",
       "      <td>32.925325</td>\n",
       "      <td>46.866780</td>\n",
       "    </tr>\n",
       "    <tr>\n",
       "      <th>2018-08-18 08:59:59</th>\n",
       "      <td>4.525061</td>\n",
       "      <td>15.111231</td>\n",
       "      <td>31.856742</td>\n",
       "      <td>46.795691</td>\n",
       "    </tr>\n",
       "    <tr>\n",
       "      <th>2018-08-18 09:59:59</th>\n",
       "      <td>4.362781</td>\n",
       "      <td>17.834772</td>\n",
       "      <td>30.770892</td>\n",
       "      <td>46.408188</td>\n",
       "    </tr>\n",
       "    <tr>\n",
       "      <th>2018-08-18 10:59:59</th>\n",
       "      <td>4.365491</td>\n",
       "      <td>17.804134</td>\n",
       "      <td>30.356618</td>\n",
       "      <td>46.299438</td>\n",
       "    </tr>\n",
       "  </tbody>\n",
       "</table>\n",
       "<p>19439 rows × 4 columns</p>\n",
       "</div>"
      ],
      "text/plain": [
       "                     rougher.input.feed_au  rougher.output.concentrate_au  \\\n",
       "date                                                                        \n",
       "2016-01-15 00:00:00               6.486150                      19.793808   \n",
       "2016-01-15 01:00:00               6.478583                      20.050975   \n",
       "2016-01-15 02:00:00               6.362222                      19.737170   \n",
       "2016-01-15 03:00:00               6.118189                      19.320810   \n",
       "2016-01-15 04:00:00               5.663707                      19.216101   \n",
       "...                                    ...                            ...   \n",
       "2018-08-18 06:59:59               5.335862                      18.603550   \n",
       "2018-08-18 07:59:59               4.838619                      18.441436   \n",
       "2018-08-18 08:59:59               4.525061                      15.111231   \n",
       "2018-08-18 09:59:59               4.362781                      17.834772   \n",
       "2018-08-18 10:59:59               4.365491                      17.804134   \n",
       "\n",
       "                     primary_cleaner.output.concentrate_au  \\\n",
       "date                                                         \n",
       "2016-01-15 00:00:00                              34.174427   \n",
       "2016-01-15 01:00:00                              34.118526   \n",
       "2016-01-15 02:00:00                              33.969464   \n",
       "2016-01-15 03:00:00                              28.260743   \n",
       "2016-01-15 04:00:00                              33.044932   \n",
       "...                                                    ...   \n",
       "2018-08-18 06:59:59                              32.940215   \n",
       "2018-08-18 07:59:59                              32.925325   \n",
       "2018-08-18 08:59:59                              31.856742   \n",
       "2018-08-18 09:59:59                              30.770892   \n",
       "2018-08-18 10:59:59                              30.356618   \n",
       "\n",
       "                     final.output.concentrate_au  \n",
       "date                                              \n",
       "2016-01-15 00:00:00                    42.192020  \n",
       "2016-01-15 01:00:00                    42.701629  \n",
       "2016-01-15 02:00:00                    42.657501  \n",
       "2016-01-15 03:00:00                    42.689819  \n",
       "2016-01-15 04:00:00                    42.774141  \n",
       "...                                          ...  \n",
       "2018-08-18 06:59:59                    46.713954  \n",
       "2018-08-18 07:59:59                    46.866780  \n",
       "2018-08-18 08:59:59                    46.795691  \n",
       "2018-08-18 09:59:59                    46.408188  \n",
       "2018-08-18 10:59:59                    46.299438  \n",
       "\n",
       "[19439 rows x 4 columns]"
      ]
     },
     "metadata": {},
     "output_type": "display_data"
    }
   ],
   "source": [
    "display(data_gold)"
   ]
  },
  {
   "cell_type": "code",
   "execution_count": 29,
   "metadata": {},
   "outputs": [],
   "source": [
    "def graph_concentrate(data, column1, column2, column3, column4, name):\n",
    "    plt.figure(figsize=(25,10))\n",
    "\n",
    "    sns.distplot(data[column1], color ='red', label='начальное сырье')\n",
    "    sns.distplot(data[column2], color='blue', label='после флотации')\n",
    "    sns.distplot(data[column3], color='green', label='после первичной очистки')\n",
    "    sns.distplot(data[column4], color='orange', label='после вторичной очистки')\n",
    "\n",
    "    plt.legend(fontsize=14)\n",
    "    plt.title(f'Концентрация {name} на этапах очистки', fontsize=20)\n",
    "    plt.xlabel(\"Концентрация\", fontsize=14)\n",
    "    plt.ylabel(\"Плотность распределения\", fontsize=14)\n",
    "\n",
    "    plt.show()"
   ]
  },
  {
   "cell_type": "code",
   "execution_count": 30,
   "metadata": {},
   "outputs": [],
   "source": [
    "column1_au, column2_au, column3_au, column4_au = list(data_gold)\n",
    "#print(column1_au, column2_au, column3_au, column4_au )\n",
    "column1_ag, column2_ag, column3_ag, column4_ag = list(data_ag)\n",
    "column1_pb, column2_pb, column3_pb, column4_pb = list(data_pb)"
   ]
  },
  {
   "cell_type": "markdown",
   "metadata": {},
   "source": [
    "### Концентрация золота на разных этапах"
   ]
  },
  {
   "cell_type": "code",
   "execution_count": 31,
   "metadata": {},
   "outputs": [
    {
     "name": "stderr",
     "output_type": "stream",
     "text": [
      "/opt/conda/lib/python3.9/site-packages/seaborn/distributions.py:2557: FutureWarning: `distplot` is a deprecated function and will be removed in a future version. Please adapt your code to use either `displot` (a figure-level function with similar flexibility) or `histplot` (an axes-level function for histograms).\n",
      "  warnings.warn(msg, FutureWarning)\n",
      "/opt/conda/lib/python3.9/site-packages/seaborn/distributions.py:2557: FutureWarning: `distplot` is a deprecated function and will be removed in a future version. Please adapt your code to use either `displot` (a figure-level function with similar flexibility) or `histplot` (an axes-level function for histograms).\n",
      "  warnings.warn(msg, FutureWarning)\n",
      "/opt/conda/lib/python3.9/site-packages/seaborn/distributions.py:2557: FutureWarning: `distplot` is a deprecated function and will be removed in a future version. Please adapt your code to use either `displot` (a figure-level function with similar flexibility) or `histplot` (an axes-level function for histograms).\n",
      "  warnings.warn(msg, FutureWarning)\n",
      "/opt/conda/lib/python3.9/site-packages/seaborn/distributions.py:2557: FutureWarning: `distplot` is a deprecated function and will be removed in a future version. Please adapt your code to use either `displot` (a figure-level function with similar flexibility) or `histplot` (an axes-level function for histograms).\n",
      "  warnings.warn(msg, FutureWarning)\n"
     ]
    },
    {
     "data": {
      "image/png": "[encoded data removed]",
      "text/plain": [
       "<Figure size 1800x720 with 1 Axes>"
      ]
     },
     "metadata": {
      "needs_background": "light"
     },
     "output_type": "display_data"
    }
   ],
   "source": [
    "graph_concentrate(data_gold, column1_au, column2_au, column3_au, column4_au, 'золото')"
   ]
  },
  {
   "cell_type": "markdown",
   "metadata": {},
   "source": [
    "### Концентрация серебра на разных этапах"
   ]
  },
  {
   "cell_type": "code",
   "execution_count": 32,
   "metadata": {},
   "outputs": [
    {
     "name": "stderr",
     "output_type": "stream",
     "text": [
      "/opt/conda/lib/python3.9/site-packages/seaborn/distributions.py:2557: FutureWarning: `distplot` is a deprecated function and will be removed in a future version. Please adapt your code to use either `displot` (a figure-level function with similar flexibility) or `histplot` (an axes-level function for histograms).\n",
      "  warnings.warn(msg, FutureWarning)\n",
      "/opt/conda/lib/python3.9/site-packages/seaborn/distributions.py:2557: FutureWarning: `distplot` is a deprecated function and will be removed in a future version. Please adapt your code to use either `displot` (a figure-level function with similar flexibility) or `histplot` (an axes-level function for histograms).\n",
      "  warnings.warn(msg, FutureWarning)\n",
      "/opt/conda/lib/python3.9/site-packages/seaborn/distributions.py:2557: FutureWarning: `distplot` is a deprecated function and will be removed in a future version. Please adapt your code to use either `displot` (a figure-level function with similar flexibility) or `histplot` (an axes-level function for histograms).\n",
      "  warnings.warn(msg, FutureWarning)\n",
      "/opt/conda/lib/python3.9/site-packages/seaborn/distributions.py:2557: FutureWarning: `distplot` is a deprecated function and will be removed in a future version. Please adapt your code to use either `displot` (a figure-level function with similar flexibility) or `histplot` (an axes-level function for histograms).\n",
      "  warnings.warn(msg, FutureWarning)\n"
     ]
    },
    {
     "data": {
      "image/png": "[encoded data removed]",
      "text/plain": [
       "<Figure size 1800x720 with 1 Axes>"
      ]
     },
     "metadata": {
      "needs_background": "light"
     },
     "output_type": "display_data"
    }
   ],
   "source": [
    "graph_concentrate(data_ag, column1_ag, column2_ag, column3_ag, column4_ag, 'серебро')"
   ]
  },
  {
   "cell_type": "markdown",
   "metadata": {},
   "source": [
    "### Концентрация свинца на разных этапах"
   ]
  },
  {
   "cell_type": "code",
   "execution_count": 33,
   "metadata": {
    "scrolled": true
   },
   "outputs": [
    {
     "name": "stderr",
     "output_type": "stream",
     "text": [
      "/opt/conda/lib/python3.9/site-packages/seaborn/distributions.py:2557: FutureWarning: `distplot` is a deprecated function and will be removed in a future version. Please adapt your code to use either `displot` (a figure-level function with similar flexibility) or `histplot` (an axes-level function for histograms).\n",
      "  warnings.warn(msg, FutureWarning)\n",
      "/opt/conda/lib/python3.9/site-packages/seaborn/distributions.py:2557: FutureWarning: `distplot` is a deprecated function and will be removed in a future version. Please adapt your code to use either `displot` (a figure-level function with similar flexibility) or `histplot` (an axes-level function for histograms).\n",
      "  warnings.warn(msg, FutureWarning)\n",
      "/opt/conda/lib/python3.9/site-packages/seaborn/distributions.py:2557: FutureWarning: `distplot` is a deprecated function and will be removed in a future version. Please adapt your code to use either `displot` (a figure-level function with similar flexibility) or `histplot` (an axes-level function for histograms).\n",
      "  warnings.warn(msg, FutureWarning)\n",
      "/opt/conda/lib/python3.9/site-packages/seaborn/distributions.py:2557: FutureWarning: `distplot` is a deprecated function and will be removed in a future version. Please adapt your code to use either `displot` (a figure-level function with similar flexibility) or `histplot` (an axes-level function for histograms).\n",
      "  warnings.warn(msg, FutureWarning)\n"
     ]
    },
    {
     "data": {
      "image/png": "[encoded data removed]",
      "text/plain": [
       "<Figure size 1800x720 with 1 Axes>"
      ]
     },
     "metadata": {
      "needs_background": "light"
     },
     "output_type": "display_data"
    }
   ],
   "source": [
    "graph_concentrate(data_pb, column1_pb, column2_pb, column3_pb, column4_pb, 'свинец')"
   ]
  },
  {
   "cell_type": "markdown",
   "metadata": {},
   "source": [
    "Можно заметить, что на каждом последующем этапе очистки концентрация золота становится все больше и больше. Концентрация серебра растет, а потом падает. То же самое можно сказать про свинец. Так происходит пртому что в начале удаляются другие металлы из руды, следоавтельно концентрация растет, а затем удаляются и серебро со свинцом, следовательно, концентрация падает.\n"
   ]
  },
  {
   "cell_type": "markdown",
   "metadata": {},
   "source": [
    "## Распределение размеров гранул в разных выборках"
   ]
  },
  {
   "cell_type": "code",
   "execution_count": 36,
   "metadata": {},
   "outputs": [
    {
     "name": "stderr",
     "output_type": "stream",
     "text": [
      "/opt/conda/lib/python3.9/site-packages/seaborn/distributions.py:2557: FutureWarning: `distplot` is a deprecated function and will be removed in a future version. Please adapt your code to use either `displot` (a figure-level function with similar flexibility) or `histplot` (an axes-level function for histograms).\n",
      "  warnings.warn(msg, FutureWarning)\n",
      "/opt/conda/lib/python3.9/site-packages/seaborn/distributions.py:2557: FutureWarning: `distplot` is a deprecated function and will be removed in a future version. Please adapt your code to use either `displot` (a figure-level function with similar flexibility) or `histplot` (an axes-level function for histograms).\n",
      "  warnings.warn(msg, FutureWarning)\n"
     ]
    },
    {
     "data": {
      "image/png": "[encoded data removed]",
      "text/plain": [
       "<Figure size 720x360 with 1 Axes>"
      ]
     },
     "metadata": {
      "needs_background": "light"
     },
     "output_type": "display_data"
    }
   ],
   "source": [
    "figure = plt.figure(figsize=(10,5))\n",
    "\n",
    "sns.distplot(data_train['rougher.input.feed_size'], label='train_rougher')\n",
    "sns.distplot(data_test['rougher.input.feed_size'], label='test_rougher')\n",
    "\n",
    "plt.xlim(0,200)\n",
    "\n",
    "plt.legend(fontsize=10)\n",
    "plt.title(f' Распределение размеров гранул в тестовой и обучающей выборке', fontsize=15)\n",
    "plt.xlabel(\"Размер гранул\", fontsize=14)\n",
    "plt.ylabel(\"Плотность распределения\", fontsize=14)\n",
    "\n",
    "plt.show()"
   ]
  },
  {
   "cell_type": "code",
   "execution_count": 37,
   "metadata": {},
   "outputs": [
    {
     "name": "stderr",
     "output_type": "stream",
     "text": [
      "/opt/conda/lib/python3.9/site-packages/seaborn/distributions.py:2557: FutureWarning: `distplot` is a deprecated function and will be removed in a future version. Please adapt your code to use either `displot` (a figure-level function with similar flexibility) or `histplot` (an axes-level function for histograms).\n",
      "  warnings.warn(msg, FutureWarning)\n",
      "/opt/conda/lib/python3.9/site-packages/seaborn/distributions.py:2557: FutureWarning: `distplot` is a deprecated function and will be removed in a future version. Please adapt your code to use either `displot` (a figure-level function with similar flexibility) or `histplot` (an axes-level function for histograms).\n",
      "  warnings.warn(msg, FutureWarning)\n"
     ]
    },
    {
     "data": {
      "image/png": "[encoded data removed]",
      "text/plain": [
       "<Figure size 720x360 with 1 Axes>"
      ]
     },
     "metadata": {
      "needs_background": "light"
     },
     "output_type": "display_data"
    }
   ],
   "source": [
    "figure = plt.figure(figsize=(10,5))\n",
    "\n",
    "sns.distplot(data_train['primary_cleaner.input.feed_size'], label='train_primary_cleaner', color='green')\n",
    "sns.distplot(data_test['primary_cleaner.input.feed_size'], label='test_primary_cleaner', color='red')\n",
    "\n",
    "plt.xlim(0,20)\n",
    "\n",
    "plt.legend(fontsize=10)\n",
    "plt.title(f' Распределение размеров гранул в тестовой и обучающей выборке', fontsize=15)\n",
    "plt.xlabel(\"Размер гранул\", fontsize=14)\n",
    "plt.ylabel(\"Плотность распределения\", fontsize=14)\n",
    "\n",
    "plt.show()"
   ]
  },
  {
   "cell_type": "markdown",
   "metadata": {},
   "source": [
    "Распределения не очень сильно отличаются, поэтому можно спокойно использовать эти выборки для обучения и тестирования модели"
   ]
  },
  {
   "cell_type": "markdown",
   "metadata": {},
   "source": [
    "## Исследуем суммарную концентрацию всех веществ на разных стадиях"
   ]
  },
  {
   "cell_type": "code",
   "execution_count": 39,
   "metadata": {},
   "outputs": [],
   "source": [
    "columns = list(data.columns)"
   ]
  },
  {
   "cell_type": "code",
   "execution_count": 40,
   "metadata": {},
   "outputs": [
    {
     "name": "stdout",
     "output_type": "stream",
     "text": [
      "['primary_cleaner.output.concentrate_ag', 'primary_cleaner.output.concentrate_pb', 'primary_cleaner.output.concentrate_au']\n"
     ]
    }
   ],
   "source": [
    "rougher = []\n",
    "rougher_output=[]\n",
    "primary_cleaner = []\n",
    "final=[]\n",
    "phases = [rougher, rougher_output, primary_cleaner, final]\n",
    "for column in columns:\n",
    "    if 'rougher.input.feed_a' in column or 'rougher.input.feed_p' in column:\n",
    "        rougher.append(column)\n",
    "    elif 'rougher.output.concentrate_a' in column or 'rougher.output.concentrate_p' in column:\n",
    "        rougher_output.append(column)\n",
    "    elif 'primary_cleaner.output.concentrate_a' in column or 'primary_cleaner.output.concentrate_p' in column:\n",
    "        primary_cleaner.append(column)\n",
    "    elif 'final.output.concentrate_a' in column or 'final.output.concentrate_p' in column:\n",
    "        final.append(column)\n",
    "print(primary_cleaner)"
   ]
  },
  {
   "cell_type": "code",
   "execution_count": 41,
   "metadata": {},
   "outputs": [
    {
     "name": "stdout",
     "output_type": "stream",
     "text": [
      "date\n",
      "2016-01-15 00:00:00    58.137072\n",
      "2016-01-15 01:00:00    58.699942\n",
      "2016-01-15 02:00:00    58.927421\n",
      "2016-01-15 03:00:00    58.714815\n",
      "2016-01-15 04:00:00    59.065251\n",
      "                         ...    \n",
      "2018-08-18 06:59:59    61.295107\n",
      "2018-08-18 07:59:59    61.412113\n",
      "2018-08-18 08:59:59    61.340054\n",
      "2018-08-18 09:59:59    61.401016\n",
      "2018-08-18 10:59:59    61.635645\n",
      "Name: final.output.concentrate_ag, Length: 19439, dtype: float64\n"
     ]
    }
   ],
   "source": [
    "total_rougher=0\n",
    "total_rougher_output=0\n",
    "total_primary_cleaner=0\n",
    "total_final=0\n",
    "#for r in rougher:\n",
    "        #total_rougher+=data[r]\n",
    "def summ(columns, total):\n",
    "    for r in columns:\n",
    "        total+=data[r]\n",
    "    return total\n",
    "total_rougher = summ(rougher,total_rougher)\n",
    "total_rougher_output=summ(rougher_output,total_rougher_output)\n",
    "total_primary_cleaner=summ(primary_cleaner,total_primary_cleaner)\n",
    "total_final=summ(final,total_final)\n",
    "print(total_final)   "
   ]
  },
  {
   "cell_type": "code",
   "execution_count": 42,
   "metadata": {},
   "outputs": [
    {
     "name": "stderr",
     "output_type": "stream",
     "text": [
      "/opt/conda/lib/python3.9/site-packages/seaborn/distributions.py:2557: FutureWarning: `distplot` is a deprecated function and will be removed in a future version. Please adapt your code to use either `displot` (a figure-level function with similar flexibility) or `histplot` (an axes-level function for histograms).\n",
      "  warnings.warn(msg, FutureWarning)\n",
      "/opt/conda/lib/python3.9/site-packages/seaborn/distributions.py:2557: FutureWarning: `distplot` is a deprecated function and will be removed in a future version. Please adapt your code to use either `displot` (a figure-level function with similar flexibility) or `histplot` (an axes-level function for histograms).\n",
      "  warnings.warn(msg, FutureWarning)\n",
      "/opt/conda/lib/python3.9/site-packages/seaborn/distributions.py:2557: FutureWarning: `distplot` is a deprecated function and will be removed in a future version. Please adapt your code to use either `displot` (a figure-level function with similar flexibility) or `histplot` (an axes-level function for histograms).\n",
      "  warnings.warn(msg, FutureWarning)\n",
      "/opt/conda/lib/python3.9/site-packages/seaborn/distributions.py:2557: FutureWarning: `distplot` is a deprecated function and will be removed in a future version. Please adapt your code to use either `displot` (a figure-level function with similar flexibility) or `histplot` (an axes-level function for histograms).\n",
      "  warnings.warn(msg, FutureWarning)\n"
     ]
    },
    {
     "data": {
      "image/png": "[encoded data removed]",
      "text/plain": [
       "<Figure size 1800x720 with 1 Axes>"
      ]
     },
     "metadata": {
      "needs_background": "light"
     },
     "output_type": "display_data"
    }
   ],
   "source": [
    "plt.figure(figsize=(25,10))\n",
    "\n",
    "sns.distplot(total_rougher, color ='red', label='начальное сырье')\n",
    "sns.distplot(total_rougher_output, color='blue', label='после флотации')\n",
    "sns.distplot(total_primary_cleaner, color='green', label='после первичной очистки')\n",
    "sns.distplot(total_final, color='orange', label='после вторичной очистки')\n",
    "\n",
    "plt.legend(fontsize=15)\n",
    "plt.title(f' Суммарная концентрация на этапах очистки', fontsize=20)\n",
    "plt.xlabel(\"Концентрация\", fontsize=14)\n",
    "plt.ylabel(\"Плотность распределения\", fontsize=14)\n",
    "\n",
    "plt.show()"
   ]
  },
  {
   "cell_type": "markdown",
   "metadata": {},
   "source": [
    "Заметны аномалии в окрестности нуля. Думаю, их стоит удалить в нашей тренировочной ввыборке, тк, очевидно, они возникли по ошибке. "
   ]
  },
  {
   "cell_type": "markdown",
   "metadata": {},
   "source": [
    "### Удаление аномалии в тренировочной выборке"
   ]
  },
  {
   "cell_type": "code",
   "execution_count": 44,
   "metadata": {},
   "outputs": [],
   "source": [
    "columns = list(data_train.columns)"
   ]
  },
  {
   "cell_type": "code",
   "execution_count": 45,
   "metadata": {},
   "outputs": [
    {
     "name": "stdout",
     "output_type": "stream",
     "text": [
      "['primary_cleaner.output.concentrate_ag', 'primary_cleaner.output.concentrate_pb', 'primary_cleaner.output.concentrate_au']\n"
     ]
    }
   ],
   "source": [
    "rougher = []\n",
    "rougher_output=[]\n",
    "primary_cleaner = []\n",
    "final=[]\n",
    "phases = [rougher, rougher_output, primary_cleaner, final]\n",
    "for column in columns:\n",
    "    if 'rougher.input.feed_a' in column or 'rougher.input.feed_p' in column:\n",
    "        rougher.append(column)\n",
    "    elif 'rougher.output.concentrate_a' in column or 'rougher.output.concentrate_p' in column:\n",
    "        rougher_output.append(column)\n",
    "    elif 'primary_cleaner.output.concentrate_a' in column or 'primary_cleaner.output.concentrate_p' in column:\n",
    "        primary_cleaner.append(column)\n",
    "    elif 'final.output.concentrate_a' in column or 'final.output.concentrate_p' in column:\n",
    "        final.append(column)\n",
    "print(primary_cleaner)"
   ]
  },
  {
   "cell_type": "code",
   "execution_count": 46,
   "metadata": {},
   "outputs": [],
   "source": [
    "total_rougher=0\n",
    "total_rougher_output=0\n",
    "total_primary_cleaner=0\n",
    "total_final=0\n",
    "def summ(columns, total):\n",
    "    for r in columns:\n",
    "        total+=data_train[r]\n",
    "    return total\n",
    "total_rougher = summ(rougher,total_rougher)\n",
    "total_rougher_output=summ(rougher_output,total_rougher_output)\n",
    "total_primary_cleaner=summ(primary_cleaner,total_primary_cleaner)\n",
    "total_final=summ(final,total_final)"
   ]
  },
  {
   "cell_type": "code",
   "execution_count": 47,
   "metadata": {},
   "outputs": [
    {
     "name": "stdout",
     "output_type": "stream",
     "text": [
      "count    14149.000000\n",
      "mean        19.951237\n",
      "std          4.431764\n",
      "min          0.030000\n",
      "25%         16.850944\n",
      "50%         19.179708\n",
      "75%         22.571605\n",
      "max         32.840164\n",
      "Name: rougher.input.feed_ag, dtype: float64\n"
     ]
    }
   ],
   "source": [
    "print(total_rougher.describe()) "
   ]
  },
  {
   "cell_type": "code",
   "execution_count": 48,
   "metadata": {},
   "outputs": [
    {
     "name": "stdout",
     "output_type": "stream",
     "text": [
      "(14149, 86)\n"
     ]
    }
   ],
   "source": [
    "print(data_train.shape)"
   ]
  },
  {
   "cell_type": "code",
   "execution_count": 49,
   "metadata": {},
   "outputs": [
    {
     "name": "stdout",
     "output_type": "stream",
     "text": [
      "(13591, 86)\n"
     ]
    }
   ],
   "source": [
    "#columns=['rougher.input.feed_au', 'rougher.input.feed_ag', 'rougher.input.feed_pb', 'rougher.input.feed_sol','rougher.output.concentrate_au', 'rougher.output.concentrate_ag', 'rougher.output.concentrate_pb', 'rougher.output.concentrate_sol', 'primary_cleaner.output.concentrate_au', 'primary_cleaner.output.concentrate_ag', 'primary_cleaner.output.concentrate_pb', 'primary_cleaner.output.concentrate_sol', 'final.output.concentrate_au', 'final.output.concentrate_ag', 'final.output.concentrate_pb', 'final.output.concentrate_sol']\n",
    "columns = rougher+rougher_output+primary_cleaner+final\n",
    "for column in columns:\n",
    "    data_train = data_train[data_train[column]>0.1]\n",
    "print(data_train.shape)\n",
    "#print(columns)"
   ]
  },
  {
   "cell_type": "markdown",
   "metadata": {},
   "source": [
    "# Построение модели и оценка ее качества"
   ]
  },
  {
   "cell_type": "markdown",
   "metadata": {},
   "source": [
    "В тестовой выборке у нас не хватает двух целевых признаков, стоит их добавить из полного датасете. А из обучающей нужно удалить те столбцы, которых нет в тестовой"
   ]
  },
  {
   "cell_type": "code",
   "execution_count": 50,
   "metadata": {},
   "outputs": [
    {
     "name": "stdout",
     "output_type": "stream",
     "text": [
      "(5290, 52)\n",
      "(13591, 86)\n"
     ]
    }
   ],
   "source": [
    "print(data_test.shape)\n",
    "print(data_train.shape)"
   ]
  },
  {
   "cell_type": "code",
   "execution_count": 51,
   "metadata": {},
   "outputs": [],
   "source": [
    "columns_target = data[['rougher.output.recovery', 'final.output.recovery']]\n",
    "data_test = data_test.join(columns_target)"
   ]
  },
  {
   "cell_type": "code",
   "execution_count": 52,
   "metadata": {},
   "outputs": [
    {
     "name": "stdout",
     "output_type": "stream",
     "text": [
      "(13591, 54)\n"
     ]
    }
   ],
   "source": [
    "data_train_targets=data_train[['rougher.output.recovery', 'final.output.recovery']]\n",
    "data_train=data_train[data_test.columns]\n",
    "print(data_train.shape)\n",
    "#data_train=data_train.join(data_train_targets)\n",
    "#print(data_train.shape)"
   ]
  },
  {
   "cell_type": "markdown",
   "metadata": {},
   "source": [
    "## Исследуем первый целевой признак - rougher.output.recovery"
   ]
  },
  {
   "cell_type": "code",
   "execution_count": 53,
   "metadata": {},
   "outputs": [
    {
     "name": "stdout",
     "output_type": "stream",
     "text": [
      "(13591,)\n",
      "(5290,)\n",
      "(13591, 52)\n",
      "(5290, 52)\n"
     ]
    }
   ],
   "source": [
    "data_train_rougher=data_train.drop(['final.output.recovery'] , axis=1)\n",
    "data_test_rougher = data_test.drop(['final.output.recovery'] , axis=1)\n",
    "\n",
    "target_train_rougher = data_train_rougher['rougher.output.recovery']\n",
    "features_train_rougher = data_train_rougher.drop(['rougher.output.recovery'] , axis=1)\n",
    "\n",
    "\n",
    "\n",
    "target_test_rougher = data_test['rougher.output.recovery']\n",
    "features_test_rougher = data_test.drop(['rougher.output.recovery','final.output.recovery'] , axis=1)\n",
    "\n",
    "print(target_train_rougher.shape)\n",
    "print(target_test_rougher.shape)\n",
    "print(features_train_rougher.shape)\n",
    "print(features_test_rougher.shape)"
   ]
  },
  {
   "cell_type": "code",
   "execution_count": 56,
   "metadata": {},
   "outputs": [],
   "source": [
    "def sMAPE(target, prediction):\n",
    "    summa = 0\n",
    "    for i in range(len(target)):\n",
    "        slagaemoe = abs(target[i]-prediction[i])*2/(abs(target[i])+abs(prediction[i]))\n",
    "        summa += slagaemoe\n",
    "    return (summa/len(target))*100\n",
    "#нам нужен минимум данной функции"
   ]
  },
  {
   "cell_type": "code",
   "execution_count": 57,
   "metadata": {},
   "outputs": [],
   "source": [
    "my_scorer = make_scorer(sMAPE, greater_is_better=False)\n",
    "#результат будет домножаться на минус 1, следовательно, находя самое большое значение, \n",
    "#мы получим самое маленькое по модулю"
   ]
  },
  {
   "cell_type": "code",
   "execution_count": 66,
   "metadata": {},
   "outputs": [],
   "source": [
    "pipeline_RF = Pipeline([('drop_correlations', DropCorrelatedFeatures()),\n",
    "                        ('mod', RandomForestRegressor(random_state=RS))])\n",
    "pipeline_DT = Pipeline([('drop_correlations', DropCorrelatedFeatures()),\n",
    "                        ('mod',DecisionTreeRegressor(random_state=RS))])\n",
    "pipeline = Pipeline([('scaler', StandardScaler()),\n",
    "                        ('drop_correlations', DropCorrelatedFeatures())])\n",
    "pipeline.steps.append(('mod', DummyRegressor()))"
   ]
  },
  {
   "cell_type": "code",
   "execution_count": 67,
   "metadata": {},
   "outputs": [
    {
     "data": {
      "text/html": [
       "<style>#sk-container-id-1 {color: black;background-color: white;}#sk-container-id-1 pre{padding: 0;}#sk-container-id-1 div.sk-toggleable {background-color: white;}#sk-container-id-1 label.sk-toggleable__label {cursor: pointer;display: block;width: 100%;margin-bottom: 0;padding: 0.3em;box-sizing: border-box;text-align: center;}#sk-container-id-1 label.sk-toggleable__label-arrow:before {content: \"▸\";float: left;margin-right: 0.25em;color: #696969;}#sk-container-id-1 label.sk-toggleable__label-arrow:hover:before {color: black;}#sk-container-id-1 div.sk-estimator:hover label.sk-toggleable__label-arrow:before {color: black;}#sk-container-id-1 div.sk-toggleable__content {max-height: 0;max-width: 0;overflow: hidden;text-align: left;background-color: #f0f8ff;}#sk-container-id-1 div.sk-toggleable__content pre {margin: 0.2em;color: black;border-radius: 0.25em;background-color: #f0f8ff;}#sk-container-id-1 input.sk-toggleable__control:checked~div.sk-toggleable__content {max-height: 200px;max-width: 100%;overflow: auto;}#sk-container-id-1 input.sk-toggleable__control:checked~label.sk-toggleable__label-arrow:before {content: \"▾\";}#sk-container-id-1 div.sk-estimator input.sk-toggleable__control:checked~label.sk-toggleable__label {background-color: #d4ebff;}#sk-container-id-1 div.sk-label input.sk-toggleable__control:checked~label.sk-toggleable__label {background-color: #d4ebff;}#sk-container-id-1 input.sk-hidden--visually {border: 0;clip: rect(1px 1px 1px 1px);clip: rect(1px, 1px, 1px, 1px);height: 1px;margin: -1px;overflow: hidden;padding: 0;position: absolute;width: 1px;}#sk-container-id-1 div.sk-estimator {font-family: monospace;background-color: #f0f8ff;border: 1px dotted black;border-radius: 0.25em;box-sizing: border-box;margin-bottom: 0.5em;}#sk-container-id-1 div.sk-estimator:hover {background-color: #d4ebff;}#sk-container-id-1 div.sk-parallel-item::after {content: \"\";width: 100%;border-bottom: 1px solid gray;flex-grow: 1;}#sk-container-id-1 div.sk-label:hover label.sk-toggleable__label {background-color: #d4ebff;}#sk-container-id-1 div.sk-serial::before {content: \"\";position: absolute;border-left: 1px solid gray;box-sizing: border-box;top: 0;bottom: 0;left: 50%;z-index: 0;}#sk-container-id-1 div.sk-serial {display: flex;flex-direction: column;align-items: center;background-color: white;padding-right: 0.2em;padding-left: 0.2em;position: relative;}#sk-container-id-1 div.sk-item {position: relative;z-index: 1;}#sk-container-id-1 div.sk-parallel {display: flex;align-items: stretch;justify-content: center;background-color: white;position: relative;}#sk-container-id-1 div.sk-item::before, #sk-container-id-1 div.sk-parallel-item::before {content: \"\";position: absolute;border-left: 1px solid gray;box-sizing: border-box;top: 0;bottom: 0;left: 50%;z-index: -1;}#sk-container-id-1 div.sk-parallel-item {display: flex;flex-direction: column;z-index: 1;position: relative;background-color: white;}#sk-container-id-1 div.sk-parallel-item:first-child::after {align-self: flex-end;width: 50%;}#sk-container-id-1 div.sk-parallel-item:last-child::after {align-self: flex-start;width: 50%;}#sk-container-id-1 div.sk-parallel-item:only-child::after {width: 0;}#sk-container-id-1 div.sk-dashed-wrapped {border: 1px dashed gray;margin: 0 0.4em 0.5em 0.4em;box-sizing: border-box;padding-bottom: 0.4em;background-color: white;}#sk-container-id-1 div.sk-label label {font-family: monospace;font-weight: bold;display: inline-block;line-height: 1.2em;}#sk-container-id-1 div.sk-label-container {text-align: center;}#sk-container-id-1 div.sk-container {/* jupyter's `normalize.less` sets `[hidden] { display: none; }` but bootstrap.min.css set `[hidden] { display: none !important; }` so we also need the `!important` here to be able to override the default hidden behavior on the sphinx rendered scikit-learn.org. See: https://github.com/scikit-learn/scikit-learn/issues/21755 */display: inline-block !important;position: relative;}#sk-container-id-1 div.sk-text-repr-fallback {display: none;}</style><div id=\"sk-container-id-1\" class=\"sk-top-container\"><div class=\"sk-text-repr-fallback\"><pre>Pipeline(steps=[(&#x27;drop_correlations&#x27;, DropCorrelatedFeatures()),\n",
       "                (&#x27;mod&#x27;, DecisionTreeRegressor(random_state=12345))])</pre><b>In a Jupyter environment, please rerun this cell to show the HTML representation or trust the notebook. <br />On GitHub, the HTML representation is unable to render, please try loading this page with nbviewer.org.</b></div><div class=\"sk-container\" hidden><div class=\"sk-item sk-dashed-wrapped\"><div class=\"sk-label-container\"><div class=\"sk-label sk-toggleable\"><input class=\"sk-toggleable__control sk-hidden--visually\" id=\"sk-estimator-id-1\" type=\"checkbox\" ><label for=\"sk-estimator-id-1\" class=\"sk-toggleable__label sk-toggleable__label-arrow\">Pipeline</label><div class=\"sk-toggleable__content\"><pre>Pipeline(steps=[(&#x27;drop_correlations&#x27;, DropCorrelatedFeatures()),\n",
       "                (&#x27;mod&#x27;, DecisionTreeRegressor(random_state=12345))])</pre></div></div></div><div class=\"sk-serial\"><div class=\"sk-item\"><div class=\"sk-estimator sk-toggleable\"><input class=\"sk-toggleable__control sk-hidden--visually\" id=\"sk-estimator-id-2\" type=\"checkbox\" ><label for=\"sk-estimator-id-2\" class=\"sk-toggleable__label sk-toggleable__label-arrow\">DropCorrelatedFeatures</label><div class=\"sk-toggleable__content\"><pre>DropCorrelatedFeatures()</pre></div></div></div><div class=\"sk-item\"><div class=\"sk-estimator sk-toggleable\"><input class=\"sk-toggleable__control sk-hidden--visually\" id=\"sk-estimator-id-3\" type=\"checkbox\" ><label for=\"sk-estimator-id-3\" class=\"sk-toggleable__label sk-toggleable__label-arrow\">DecisionTreeRegressor</label><div class=\"sk-toggleable__content\"><pre>DecisionTreeRegressor(random_state=12345)</pre></div></div></div></div></div></div></div>"
      ],
      "text/plain": [
       "Pipeline(steps=[('drop_correlations', DropCorrelatedFeatures()),\n",
       "                ('mod', DecisionTreeRegressor(random_state=12345))])"
      ]
     },
     "execution_count": 67,
     "metadata": {},
     "output_type": "execute_result"
    }
   ],
   "source": [
    "#pipeline.steps.append(('mod', DummyRegressor()))\n",
    "pipeline_RF\n",
    "pipeline_DT"
   ]
  },
  {
   "cell_type": "code",
   "execution_count": 68,
   "metadata": {},
   "outputs": [
    {
     "data": {
      "text/html": [
       "<style>#sk-container-id-2 {color: black;background-color: white;}#sk-container-id-2 pre{padding: 0;}#sk-container-id-2 div.sk-toggleable {background-color: white;}#sk-container-id-2 label.sk-toggleable__label {cursor: pointer;display: block;width: 100%;margin-bottom: 0;padding: 0.3em;box-sizing: border-box;text-align: center;}#sk-container-id-2 label.sk-toggleable__label-arrow:before {content: \"▸\";float: left;margin-right: 0.25em;color: #696969;}#sk-container-id-2 label.sk-toggleable__label-arrow:hover:before {color: black;}#sk-container-id-2 div.sk-estimator:hover label.sk-toggleable__label-arrow:before {color: black;}#sk-container-id-2 div.sk-toggleable__content {max-height: 0;max-width: 0;overflow: hidden;text-align: left;background-color: #f0f8ff;}#sk-container-id-2 div.sk-toggleable__content pre {margin: 0.2em;color: black;border-radius: 0.25em;background-color: #f0f8ff;}#sk-container-id-2 input.sk-toggleable__control:checked~div.sk-toggleable__content {max-height: 200px;max-width: 100%;overflow: auto;}#sk-container-id-2 input.sk-toggleable__control:checked~label.sk-toggleable__label-arrow:before {content: \"▾\";}#sk-container-id-2 div.sk-estimator input.sk-toggleable__control:checked~label.sk-toggleable__label {background-color: #d4ebff;}#sk-container-id-2 div.sk-label input.sk-toggleable__control:checked~label.sk-toggleable__label {background-color: #d4ebff;}#sk-container-id-2 input.sk-hidden--visually {border: 0;clip: rect(1px 1px 1px 1px);clip: rect(1px, 1px, 1px, 1px);height: 1px;margin: -1px;overflow: hidden;padding: 0;position: absolute;width: 1px;}#sk-container-id-2 div.sk-estimator {font-family: monospace;background-color: #f0f8ff;border: 1px dotted black;border-radius: 0.25em;box-sizing: border-box;margin-bottom: 0.5em;}#sk-container-id-2 div.sk-estimator:hover {background-color: #d4ebff;}#sk-container-id-2 div.sk-parallel-item::after {content: \"\";width: 100%;border-bottom: 1px solid gray;flex-grow: 1;}#sk-container-id-2 div.sk-label:hover label.sk-toggleable__label {background-color: #d4ebff;}#sk-container-id-2 div.sk-serial::before {content: \"\";position: absolute;border-left: 1px solid gray;box-sizing: border-box;top: 0;bottom: 0;left: 50%;z-index: 0;}#sk-container-id-2 div.sk-serial {display: flex;flex-direction: column;align-items: center;background-color: white;padding-right: 0.2em;padding-left: 0.2em;position: relative;}#sk-container-id-2 div.sk-item {position: relative;z-index: 1;}#sk-container-id-2 div.sk-parallel {display: flex;align-items: stretch;justify-content: center;background-color: white;position: relative;}#sk-container-id-2 div.sk-item::before, #sk-container-id-2 div.sk-parallel-item::before {content: \"\";position: absolute;border-left: 1px solid gray;box-sizing: border-box;top: 0;bottom: 0;left: 50%;z-index: -1;}#sk-container-id-2 div.sk-parallel-item {display: flex;flex-direction: column;z-index: 1;position: relative;background-color: white;}#sk-container-id-2 div.sk-parallel-item:first-child::after {align-self: flex-end;width: 50%;}#sk-container-id-2 div.sk-parallel-item:last-child::after {align-self: flex-start;width: 50%;}#sk-container-id-2 div.sk-parallel-item:only-child::after {width: 0;}#sk-container-id-2 div.sk-dashed-wrapped {border: 1px dashed gray;margin: 0 0.4em 0.5em 0.4em;box-sizing: border-box;padding-bottom: 0.4em;background-color: white;}#sk-container-id-2 div.sk-label label {font-family: monospace;font-weight: bold;display: inline-block;line-height: 1.2em;}#sk-container-id-2 div.sk-label-container {text-align: center;}#sk-container-id-2 div.sk-container {/* jupyter's `normalize.less` sets `[hidden] { display: none; }` but bootstrap.min.css set `[hidden] { display: none !important; }` so we also need the `!important` here to be able to override the default hidden behavior on the sphinx rendered scikit-learn.org. See: https://github.com/scikit-learn/scikit-learn/issues/21755 */display: inline-block !important;position: relative;}#sk-container-id-2 div.sk-text-repr-fallback {display: none;}</style><div id=\"sk-container-id-2\" class=\"sk-top-container\"><div class=\"sk-text-repr-fallback\"><pre>Pipeline(steps=[(&#x27;drop_correlations&#x27;, DropCorrelatedFeatures()),\n",
       "                (&#x27;mod&#x27;, RandomForestRegressor(random_state=12345))])</pre><b>In a Jupyter environment, please rerun this cell to show the HTML representation or trust the notebook. <br />On GitHub, the HTML representation is unable to render, please try loading this page with nbviewer.org.</b></div><div class=\"sk-container\" hidden><div class=\"sk-item sk-dashed-wrapped\"><div class=\"sk-label-container\"><div class=\"sk-label sk-toggleable\"><input class=\"sk-toggleable__control sk-hidden--visually\" id=\"sk-estimator-id-4\" type=\"checkbox\" ><label for=\"sk-estimator-id-4\" class=\"sk-toggleable__label sk-toggleable__label-arrow\">Pipeline</label><div class=\"sk-toggleable__content\"><pre>Pipeline(steps=[(&#x27;drop_correlations&#x27;, DropCorrelatedFeatures()),\n",
       "                (&#x27;mod&#x27;, RandomForestRegressor(random_state=12345))])</pre></div></div></div><div class=\"sk-serial\"><div class=\"sk-item\"><div class=\"sk-estimator sk-toggleable\"><input class=\"sk-toggleable__control sk-hidden--visually\" id=\"sk-estimator-id-5\" type=\"checkbox\" ><label for=\"sk-estimator-id-5\" class=\"sk-toggleable__label sk-toggleable__label-arrow\">DropCorrelatedFeatures</label><div class=\"sk-toggleable__content\"><pre>DropCorrelatedFeatures()</pre></div></div></div><div class=\"sk-item\"><div class=\"sk-estimator sk-toggleable\"><input class=\"sk-toggleable__control sk-hidden--visually\" id=\"sk-estimator-id-6\" type=\"checkbox\" ><label for=\"sk-estimator-id-6\" class=\"sk-toggleable__label sk-toggleable__label-arrow\">RandomForestRegressor</label><div class=\"sk-toggleable__content\"><pre>RandomForestRegressor(random_state=12345)</pre></div></div></div></div></div></div></div>"
      ],
      "text/plain": [
       "Pipeline(steps=[('drop_correlations', DropCorrelatedFeatures()),\n",
       "                ('mod', RandomForestRegressor(random_state=12345))])"
      ]
     },
     "execution_count": 68,
     "metadata": {},
     "output_type": "execute_result"
    }
   ],
   "source": [
    "pipeline_RF"
   ]
  },
  {
   "cell_type": "code",
   "execution_count": 69,
   "metadata": {},
   "outputs": [],
   "source": [
    "params_RF = [{\n",
    "        'mod__n_estimators': range(2,200),\n",
    "        'mod__max_depth': range(5,50),\n",
    "        \n",
    "    }]\n",
    "\n",
    "grid_RF = RandomizedSearchCV(pipeline_RF,\n",
    "                    params_RF,\n",
    "                    n_iter=30,\n",
    "                    cv=3,\n",
    "                    verbose=1,\n",
    "                    random_state=RS,\n",
    "                    scoring=my_scorer,\n",
    "                    n_jobs=-1)\n",
    "params_DT = [{\n",
    "        'mod__max_depth': range(5,50),\n",
    "        \n",
    "    }]\n",
    "\n",
    "grid_DT = RandomizedSearchCV(pipeline_DT,\n",
    "                    params_DT,\n",
    "                    n_iter=20,\n",
    "                    cv=3,\n",
    "                    verbose=1,\n",
    "                    random_state=RS,\n",
    "                    scoring=my_scorer,\n",
    "                    n_jobs=-1)"
   ]
  },
  {
   "cell_type": "code",
   "execution_count": 70,
   "metadata": {},
   "outputs": [
    {
     "name": "stdout",
     "output_type": "stream",
     "text": [
      "Fitting 3 folds for each of 30 candidates, totalling 90 fits\n",
      "CPU times: user 37min 1s, sys: 6.1 s, total: 37min 7s\n",
      "Wall time: 37min 10s\n"
     ]
    },
    {
     "data": {
      "text/html": [
       "<style>#sk-container-id-3 {color: black;background-color: white;}#sk-container-id-3 pre{padding: 0;}#sk-container-id-3 div.sk-toggleable {background-color: white;}#sk-container-id-3 label.sk-toggleable__label {cursor: pointer;display: block;width: 100%;margin-bottom: 0;padding: 0.3em;box-sizing: border-box;text-align: center;}#sk-container-id-3 label.sk-toggleable__label-arrow:before {content: \"▸\";float: left;margin-right: 0.25em;color: #696969;}#sk-container-id-3 label.sk-toggleable__label-arrow:hover:before {color: black;}#sk-container-id-3 div.sk-estimator:hover label.sk-toggleable__label-arrow:before {color: black;}#sk-container-id-3 div.sk-toggleable__content {max-height: 0;max-width: 0;overflow: hidden;text-align: left;background-color: #f0f8ff;}#sk-container-id-3 div.sk-toggleable__content pre {margin: 0.2em;color: black;border-radius: 0.25em;background-color: #f0f8ff;}#sk-container-id-3 input.sk-toggleable__control:checked~div.sk-toggleable__content {max-height: 200px;max-width: 100%;overflow: auto;}#sk-container-id-3 input.sk-toggleable__control:checked~label.sk-toggleable__label-arrow:before {content: \"▾\";}#sk-container-id-3 div.sk-estimator input.sk-toggleable__control:checked~label.sk-toggleable__label {background-color: #d4ebff;}#sk-container-id-3 div.sk-label input.sk-toggleable__control:checked~label.sk-toggleable__label {background-color: #d4ebff;}#sk-container-id-3 input.sk-hidden--visually {border: 0;clip: rect(1px 1px 1px 1px);clip: rect(1px, 1px, 1px, 1px);height: 1px;margin: -1px;overflow: hidden;padding: 0;position: absolute;width: 1px;}#sk-container-id-3 div.sk-estimator {font-family: monospace;background-color: #f0f8ff;border: 1px dotted black;border-radius: 0.25em;box-sizing: border-box;margin-bottom: 0.5em;}#sk-container-id-3 div.sk-estimator:hover {background-color: #d4ebff;}#sk-container-id-3 div.sk-parallel-item::after {content: \"\";width: 100%;border-bottom: 1px solid gray;flex-grow: 1;}#sk-container-id-3 div.sk-label:hover label.sk-toggleable__label {background-color: #d4ebff;}#sk-container-id-3 div.sk-serial::before {content: \"\";position: absolute;border-left: 1px solid gray;box-sizing: border-box;top: 0;bottom: 0;left: 50%;z-index: 0;}#sk-container-id-3 div.sk-serial {display: flex;flex-direction: column;align-items: center;background-color: white;padding-right: 0.2em;padding-left: 0.2em;position: relative;}#sk-container-id-3 div.sk-item {position: relative;z-index: 1;}#sk-container-id-3 div.sk-parallel {display: flex;align-items: stretch;justify-content: center;background-color: white;position: relative;}#sk-container-id-3 div.sk-item::before, #sk-container-id-3 div.sk-parallel-item::before {content: \"\";position: absolute;border-left: 1px solid gray;box-sizing: border-box;top: 0;bottom: 0;left: 50%;z-index: -1;}#sk-container-id-3 div.sk-parallel-item {display: flex;flex-direction: column;z-index: 1;position: relative;background-color: white;}#sk-container-id-3 div.sk-parallel-item:first-child::after {align-self: flex-end;width: 50%;}#sk-container-id-3 div.sk-parallel-item:last-child::after {align-self: flex-start;width: 50%;}#sk-container-id-3 div.sk-parallel-item:only-child::after {width: 0;}#sk-container-id-3 div.sk-dashed-wrapped {border: 1px dashed gray;margin: 0 0.4em 0.5em 0.4em;box-sizing: border-box;padding-bottom: 0.4em;background-color: white;}#sk-container-id-3 div.sk-label label {font-family: monospace;font-weight: bold;display: inline-block;line-height: 1.2em;}#sk-container-id-3 div.sk-label-container {text-align: center;}#sk-container-id-3 div.sk-container {/* jupyter's `normalize.less` sets `[hidden] { display: none; }` but bootstrap.min.css set `[hidden] { display: none !important; }` so we also need the `!important` here to be able to override the default hidden behavior on the sphinx rendered scikit-learn.org. See: https://github.com/scikit-learn/scikit-learn/issues/21755 */display: inline-block !important;position: relative;}#sk-container-id-3 div.sk-text-repr-fallback {display: none;}</style><div id=\"sk-container-id-3\" class=\"sk-top-container\"><div class=\"sk-text-repr-fallback\"><pre>RandomizedSearchCV(cv=3,\n",
       "                   estimator=Pipeline(steps=[(&#x27;drop_correlations&#x27;,\n",
       "                                              DropCorrelatedFeatures()),\n",
       "                                             (&#x27;mod&#x27;,\n",
       "                                              RandomForestRegressor(random_state=12345))]),\n",
       "                   n_iter=30, n_jobs=-1,\n",
       "                   param_distributions=[{&#x27;mod__max_depth&#x27;: range(5, 50),\n",
       "                                         &#x27;mod__n_estimators&#x27;: range(2, 200)}],\n",
       "                   random_state=12345,\n",
       "                   scoring=make_scorer(sMAPE, greater_is_better=False),\n",
       "                   verbose=1)</pre><b>In a Jupyter environment, please rerun this cell to show the HTML representation or trust the notebook. <br />On GitHub, the HTML representation is unable to render, please try loading this page with nbviewer.org.</b></div><div class=\"sk-container\" hidden><div class=\"sk-item sk-dashed-wrapped\"><div class=\"sk-label-container\"><div class=\"sk-label sk-toggleable\"><input class=\"sk-toggleable__control sk-hidden--visually\" id=\"sk-estimator-id-7\" type=\"checkbox\" ><label for=\"sk-estimator-id-7\" class=\"sk-toggleable__label sk-toggleable__label-arrow\">RandomizedSearchCV</label><div class=\"sk-toggleable__content\"><pre>RandomizedSearchCV(cv=3,\n",
       "                   estimator=Pipeline(steps=[(&#x27;drop_correlations&#x27;,\n",
       "                                              DropCorrelatedFeatures()),\n",
       "                                             (&#x27;mod&#x27;,\n",
       "                                              RandomForestRegressor(random_state=12345))]),\n",
       "                   n_iter=30, n_jobs=-1,\n",
       "                   param_distributions=[{&#x27;mod__max_depth&#x27;: range(5, 50),\n",
       "                                         &#x27;mod__n_estimators&#x27;: range(2, 200)}],\n",
       "                   random_state=12345,\n",
       "                   scoring=make_scorer(sMAPE, greater_is_better=False),\n",
       "                   verbose=1)</pre></div></div></div><div class=\"sk-parallel\"><div class=\"sk-parallel-item\"><div class=\"sk-item\"><div class=\"sk-label-container\"><div class=\"sk-label sk-toggleable\"><input class=\"sk-toggleable__control sk-hidden--visually\" id=\"sk-estimator-id-8\" type=\"checkbox\" ><label for=\"sk-estimator-id-8\" class=\"sk-toggleable__label sk-toggleable__label-arrow\">estimator: Pipeline</label><div class=\"sk-toggleable__content\"><pre>Pipeline(steps=[(&#x27;drop_correlations&#x27;, DropCorrelatedFeatures()),\n",
       "                (&#x27;mod&#x27;, RandomForestRegressor(random_state=12345))])</pre></div></div></div><div class=\"sk-serial\"><div class=\"sk-item\"><div class=\"sk-serial\"><div class=\"sk-item\"><div class=\"sk-estimator sk-toggleable\"><input class=\"sk-toggleable__control sk-hidden--visually\" id=\"sk-estimator-id-9\" type=\"checkbox\" ><label for=\"sk-estimator-id-9\" class=\"sk-toggleable__label sk-toggleable__label-arrow\">DropCorrelatedFeatures</label><div class=\"sk-toggleable__content\"><pre>DropCorrelatedFeatures()</pre></div></div></div><div class=\"sk-item\"><div class=\"sk-estimator sk-toggleable\"><input class=\"sk-toggleable__control sk-hidden--visually\" id=\"sk-estimator-id-10\" type=\"checkbox\" ><label for=\"sk-estimator-id-10\" class=\"sk-toggleable__label sk-toggleable__label-arrow\">RandomForestRegressor</label><div class=\"sk-toggleable__content\"><pre>RandomForestRegressor(random_state=12345)</pre></div></div></div></div></div></div></div></div></div></div></div></div>"
      ],
      "text/plain": [
       "RandomizedSearchCV(cv=3,\n",
       "                   estimator=Pipeline(steps=[('drop_correlations',\n",
       "                                              DropCorrelatedFeatures()),\n",
       "                                             ('mod',\n",
       "                                              RandomForestRegressor(random_state=12345))]),\n",
       "                   n_iter=30, n_jobs=-1,\n",
       "                   param_distributions=[{'mod__max_depth': range(5, 50),\n",
       "                                         'mod__n_estimators': range(2, 200)}],\n",
       "                   random_state=12345,\n",
       "                   scoring=make_scorer(sMAPE, greater_is_better=False),\n",
       "                   verbose=1)"
      ]
     },
     "execution_count": 70,
     "metadata": {},
     "output_type": "execute_result"
    }
   ],
   "source": [
    "%%time\n",
    "\n",
    "grid_RF.fit(features_train_rougher, target_train_rougher)"
   ]
  },
  {
   "cell_type": "code",
   "execution_count": 71,
   "metadata": {},
   "outputs": [
    {
     "data": {
      "text/html": [
       "<style>#sk-container-id-4 {color: black;background-color: white;}#sk-container-id-4 pre{padding: 0;}#sk-container-id-4 div.sk-toggleable {background-color: white;}#sk-container-id-4 label.sk-toggleable__label {cursor: pointer;display: block;width: 100%;margin-bottom: 0;padding: 0.3em;box-sizing: border-box;text-align: center;}#sk-container-id-4 label.sk-toggleable__label-arrow:before {content: \"▸\";float: left;margin-right: 0.25em;color: #696969;}#sk-container-id-4 label.sk-toggleable__label-arrow:hover:before {color: black;}#sk-container-id-4 div.sk-estimator:hover label.sk-toggleable__label-arrow:before {color: black;}#sk-container-id-4 div.sk-toggleable__content {max-height: 0;max-width: 0;overflow: hidden;text-align: left;background-color: #f0f8ff;}#sk-container-id-4 div.sk-toggleable__content pre {margin: 0.2em;color: black;border-radius: 0.25em;background-color: #f0f8ff;}#sk-container-id-4 input.sk-toggleable__control:checked~div.sk-toggleable__content {max-height: 200px;max-width: 100%;overflow: auto;}#sk-container-id-4 input.sk-toggleable__control:checked~label.sk-toggleable__label-arrow:before {content: \"▾\";}#sk-container-id-4 div.sk-estimator input.sk-toggleable__control:checked~label.sk-toggleable__label {background-color: #d4ebff;}#sk-container-id-4 div.sk-label input.sk-toggleable__control:checked~label.sk-toggleable__label {background-color: #d4ebff;}#sk-container-id-4 input.sk-hidden--visually {border: 0;clip: rect(1px 1px 1px 1px);clip: rect(1px, 1px, 1px, 1px);height: 1px;margin: -1px;overflow: hidden;padding: 0;position: absolute;width: 1px;}#sk-container-id-4 div.sk-estimator {font-family: monospace;background-color: #f0f8ff;border: 1px dotted black;border-radius: 0.25em;box-sizing: border-box;margin-bottom: 0.5em;}#sk-container-id-4 div.sk-estimator:hover {background-color: #d4ebff;}#sk-container-id-4 div.sk-parallel-item::after {content: \"\";width: 100%;border-bottom: 1px solid gray;flex-grow: 1;}#sk-container-id-4 div.sk-label:hover label.sk-toggleable__label {background-color: #d4ebff;}#sk-container-id-4 div.sk-serial::before {content: \"\";position: absolute;border-left: 1px solid gray;box-sizing: border-box;top: 0;bottom: 0;left: 50%;z-index: 0;}#sk-container-id-4 div.sk-serial {display: flex;flex-direction: column;align-items: center;background-color: white;padding-right: 0.2em;padding-left: 0.2em;position: relative;}#sk-container-id-4 div.sk-item {position: relative;z-index: 1;}#sk-container-id-4 div.sk-parallel {display: flex;align-items: stretch;justify-content: center;background-color: white;position: relative;}#sk-container-id-4 div.sk-item::before, #sk-container-id-4 div.sk-parallel-item::before {content: \"\";position: absolute;border-left: 1px solid gray;box-sizing: border-box;top: 0;bottom: 0;left: 50%;z-index: -1;}#sk-container-id-4 div.sk-parallel-item {display: flex;flex-direction: column;z-index: 1;position: relative;background-color: white;}#sk-container-id-4 div.sk-parallel-item:first-child::after {align-self: flex-end;width: 50%;}#sk-container-id-4 div.sk-parallel-item:last-child::after {align-self: flex-start;width: 50%;}#sk-container-id-4 div.sk-parallel-item:only-child::after {width: 0;}#sk-container-id-4 div.sk-dashed-wrapped {border: 1px dashed gray;margin: 0 0.4em 0.5em 0.4em;box-sizing: border-box;padding-bottom: 0.4em;background-color: white;}#sk-container-id-4 div.sk-label label {font-family: monospace;font-weight: bold;display: inline-block;line-height: 1.2em;}#sk-container-id-4 div.sk-label-container {text-align: center;}#sk-container-id-4 div.sk-container {/* jupyter's `normalize.less` sets `[hidden] { display: none; }` but bootstrap.min.css set `[hidden] { display: none !important; }` so we also need the `!important` here to be able to override the default hidden behavior on the sphinx rendered scikit-learn.org. See: https://github.com/scikit-learn/scikit-learn/issues/21755 */display: inline-block !important;position: relative;}#sk-container-id-4 div.sk-text-repr-fallback {display: none;}</style><div id=\"sk-container-id-4\" class=\"sk-top-container\"><div class=\"sk-text-repr-fallback\"><pre>Pipeline(steps=[(&#x27;drop_correlations&#x27;, DropCorrelatedFeatures()),\n",
       "                (&#x27;mod&#x27;,\n",
       "                 RandomForestRegressor(max_depth=9, n_estimators=65,\n",
       "                                       random_state=12345))])</pre><b>In a Jupyter environment, please rerun this cell to show the HTML representation or trust the notebook. <br />On GitHub, the HTML representation is unable to render, please try loading this page with nbviewer.org.</b></div><div class=\"sk-container\" hidden><div class=\"sk-item sk-dashed-wrapped\"><div class=\"sk-label-container\"><div class=\"sk-label sk-toggleable\"><input class=\"sk-toggleable__control sk-hidden--visually\" id=\"sk-estimator-id-11\" type=\"checkbox\" ><label for=\"sk-estimator-id-11\" class=\"sk-toggleable__label sk-toggleable__label-arrow\">Pipeline</label><div class=\"sk-toggleable__content\"><pre>Pipeline(steps=[(&#x27;drop_correlations&#x27;, DropCorrelatedFeatures()),\n",
       "                (&#x27;mod&#x27;,\n",
       "                 RandomForestRegressor(max_depth=9, n_estimators=65,\n",
       "                                       random_state=12345))])</pre></div></div></div><div class=\"sk-serial\"><div class=\"sk-item\"><div class=\"sk-estimator sk-toggleable\"><input class=\"sk-toggleable__control sk-hidden--visually\" id=\"sk-estimator-id-12\" type=\"checkbox\" ><label for=\"sk-estimator-id-12\" class=\"sk-toggleable__label sk-toggleable__label-arrow\">DropCorrelatedFeatures</label><div class=\"sk-toggleable__content\"><pre>DropCorrelatedFeatures()</pre></div></div></div><div class=\"sk-item\"><div class=\"sk-estimator sk-toggleable\"><input class=\"sk-toggleable__control sk-hidden--visually\" id=\"sk-estimator-id-13\" type=\"checkbox\" ><label for=\"sk-estimator-id-13\" class=\"sk-toggleable__label sk-toggleable__label-arrow\">RandomForestRegressor</label><div class=\"sk-toggleable__content\"><pre>RandomForestRegressor(max_depth=9, n_estimators=65, random_state=12345)</pre></div></div></div></div></div></div></div>"
      ],
      "text/plain": [
       "Pipeline(steps=[('drop_correlations', DropCorrelatedFeatures()),\n",
       "                ('mod',\n",
       "                 RandomForestRegressor(max_depth=9, n_estimators=65,\n",
       "                                       random_state=12345))])"
      ]
     },
     "execution_count": 71,
     "metadata": {},
     "output_type": "execute_result"
    }
   ],
   "source": [
    "grid_RF.best_estimator_"
   ]
  },
  {
   "cell_type": "code",
   "execution_count": 72,
   "metadata": {},
   "outputs": [],
   "source": [
    "model_RF = grid_RF.best_estimator_"
   ]
  },
  {
   "cell_type": "code",
   "execution_count": 73,
   "metadata": {},
   "outputs": [
    {
     "name": "stdout",
     "output_type": "stream",
     "text": [
      "Fitting 3 folds for each of 20 candidates, totalling 60 fits\n",
      "CPU times: user 25.5 s, sys: 124 ms, total: 25.7 s\n",
      "Wall time: 25.7 s\n"
     ]
    },
    {
     "data": {
      "text/html": [
       "<style>#sk-container-id-5 {color: black;background-color: white;}#sk-container-id-5 pre{padding: 0;}#sk-container-id-5 div.sk-toggleable {background-color: white;}#sk-container-id-5 label.sk-toggleable__label {cursor: pointer;display: block;width: 100%;margin-bottom: 0;padding: 0.3em;box-sizing: border-box;text-align: center;}#sk-container-id-5 label.sk-toggleable__label-arrow:before {content: \"▸\";float: left;margin-right: 0.25em;color: #696969;}#sk-container-id-5 label.sk-toggleable__label-arrow:hover:before {color: black;}#sk-container-id-5 div.sk-estimator:hover label.sk-toggleable__label-arrow:before {color: black;}#sk-container-id-5 div.sk-toggleable__content {max-height: 0;max-width: 0;overflow: hidden;text-align: left;background-color: #f0f8ff;}#sk-container-id-5 div.sk-toggleable__content pre {margin: 0.2em;color: black;border-radius: 0.25em;background-color: #f0f8ff;}#sk-container-id-5 input.sk-toggleable__control:checked~div.sk-toggleable__content {max-height: 200px;max-width: 100%;overflow: auto;}#sk-container-id-5 input.sk-toggleable__control:checked~label.sk-toggleable__label-arrow:before {content: \"▾\";}#sk-container-id-5 div.sk-estimator input.sk-toggleable__control:checked~label.sk-toggleable__label {background-color: #d4ebff;}#sk-container-id-5 div.sk-label input.sk-toggleable__control:checked~label.sk-toggleable__label {background-color: #d4ebff;}#sk-container-id-5 input.sk-hidden--visually {border: 0;clip: rect(1px 1px 1px 1px);clip: rect(1px, 1px, 1px, 1px);height: 1px;margin: -1px;overflow: hidden;padding: 0;position: absolute;width: 1px;}#sk-container-id-5 div.sk-estimator {font-family: monospace;background-color: #f0f8ff;border: 1px dotted black;border-radius: 0.25em;box-sizing: border-box;margin-bottom: 0.5em;}#sk-container-id-5 div.sk-estimator:hover {background-color: #d4ebff;}#sk-container-id-5 div.sk-parallel-item::after {content: \"\";width: 100%;border-bottom: 1px solid gray;flex-grow: 1;}#sk-container-id-5 div.sk-label:hover label.sk-toggleable__label {background-color: #d4ebff;}#sk-container-id-5 div.sk-serial::before {content: \"\";position: absolute;border-left: 1px solid gray;box-sizing: border-box;top: 0;bottom: 0;left: 50%;z-index: 0;}#sk-container-id-5 div.sk-serial {display: flex;flex-direction: column;align-items: center;background-color: white;padding-right: 0.2em;padding-left: 0.2em;position: relative;}#sk-container-id-5 div.sk-item {position: relative;z-index: 1;}#sk-container-id-5 div.sk-parallel {display: flex;align-items: stretch;justify-content: center;background-color: white;position: relative;}#sk-container-id-5 div.sk-item::before, #sk-container-id-5 div.sk-parallel-item::before {content: \"\";position: absolute;border-left: 1px solid gray;box-sizing: border-box;top: 0;bottom: 0;left: 50%;z-index: -1;}#sk-container-id-5 div.sk-parallel-item {display: flex;flex-direction: column;z-index: 1;position: relative;background-color: white;}#sk-container-id-5 div.sk-parallel-item:first-child::after {align-self: flex-end;width: 50%;}#sk-container-id-5 div.sk-parallel-item:last-child::after {align-self: flex-start;width: 50%;}#sk-container-id-5 div.sk-parallel-item:only-child::after {width: 0;}#sk-container-id-5 div.sk-dashed-wrapped {border: 1px dashed gray;margin: 0 0.4em 0.5em 0.4em;box-sizing: border-box;padding-bottom: 0.4em;background-color: white;}#sk-container-id-5 div.sk-label label {font-family: monospace;font-weight: bold;display: inline-block;line-height: 1.2em;}#sk-container-id-5 div.sk-label-container {text-align: center;}#sk-container-id-5 div.sk-container {/* jupyter's `normalize.less` sets `[hidden] { display: none; }` but bootstrap.min.css set `[hidden] { display: none !important; }` so we also need the `!important` here to be able to override the default hidden behavior on the sphinx rendered scikit-learn.org. See: https://github.com/scikit-learn/scikit-learn/issues/21755 */display: inline-block !important;position: relative;}#sk-container-id-5 div.sk-text-repr-fallback {display: none;}</style><div id=\"sk-container-id-5\" class=\"sk-top-container\"><div class=\"sk-text-repr-fallback\"><pre>RandomizedSearchCV(cv=3,\n",
       "                   estimator=Pipeline(steps=[(&#x27;drop_correlations&#x27;,\n",
       "                                              DropCorrelatedFeatures()),\n",
       "                                             (&#x27;mod&#x27;,\n",
       "                                              DecisionTreeRegressor(random_state=12345))]),\n",
       "                   n_iter=20, n_jobs=-1,\n",
       "                   param_distributions=[{&#x27;mod__max_depth&#x27;: range(5, 50)}],\n",
       "                   random_state=12345,\n",
       "                   scoring=make_scorer(sMAPE, greater_is_better=False),\n",
       "                   verbose=1)</pre><b>In a Jupyter environment, please rerun this cell to show the HTML representation or trust the notebook. <br />On GitHub, the HTML representation is unable to render, please try loading this page with nbviewer.org.</b></div><div class=\"sk-container\" hidden><div class=\"sk-item sk-dashed-wrapped\"><div class=\"sk-label-container\"><div class=\"sk-label sk-toggleable\"><input class=\"sk-toggleable__control sk-hidden--visually\" id=\"sk-estimator-id-14\" type=\"checkbox\" ><label for=\"sk-estimator-id-14\" class=\"sk-toggleable__label sk-toggleable__label-arrow\">RandomizedSearchCV</label><div class=\"sk-toggleable__content\"><pre>RandomizedSearchCV(cv=3,\n",
       "                   estimator=Pipeline(steps=[(&#x27;drop_correlations&#x27;,\n",
       "                                              DropCorrelatedFeatures()),\n",
       "                                             (&#x27;mod&#x27;,\n",
       "                                              DecisionTreeRegressor(random_state=12345))]),\n",
       "                   n_iter=20, n_jobs=-1,\n",
       "                   param_distributions=[{&#x27;mod__max_depth&#x27;: range(5, 50)}],\n",
       "                   random_state=12345,\n",
       "                   scoring=make_scorer(sMAPE, greater_is_better=False),\n",
       "                   verbose=1)</pre></div></div></div><div class=\"sk-parallel\"><div class=\"sk-parallel-item\"><div class=\"sk-item\"><div class=\"sk-label-container\"><div class=\"sk-label sk-toggleable\"><input class=\"sk-toggleable__control sk-hidden--visually\" id=\"sk-estimator-id-15\" type=\"checkbox\" ><label for=\"sk-estimator-id-15\" class=\"sk-toggleable__label sk-toggleable__label-arrow\">estimator: Pipeline</label><div class=\"sk-toggleable__content\"><pre>Pipeline(steps=[(&#x27;drop_correlations&#x27;, DropCorrelatedFeatures()),\n",
       "                (&#x27;mod&#x27;, DecisionTreeRegressor(random_state=12345))])</pre></div></div></div><div class=\"sk-serial\"><div class=\"sk-item\"><div class=\"sk-serial\"><div class=\"sk-item\"><div class=\"sk-estimator sk-toggleable\"><input class=\"sk-toggleable__control sk-hidden--visually\" id=\"sk-estimator-id-16\" type=\"checkbox\" ><label for=\"sk-estimator-id-16\" class=\"sk-toggleable__label sk-toggleable__label-arrow\">DropCorrelatedFeatures</label><div class=\"sk-toggleable__content\"><pre>DropCorrelatedFeatures()</pre></div></div></div><div class=\"sk-item\"><div class=\"sk-estimator sk-toggleable\"><input class=\"sk-toggleable__control sk-hidden--visually\" id=\"sk-estimator-id-17\" type=\"checkbox\" ><label for=\"sk-estimator-id-17\" class=\"sk-toggleable__label sk-toggleable__label-arrow\">DecisionTreeRegressor</label><div class=\"sk-toggleable__content\"><pre>DecisionTreeRegressor(random_state=12345)</pre></div></div></div></div></div></div></div></div></div></div></div></div>"
      ],
      "text/plain": [
       "RandomizedSearchCV(cv=3,\n",
       "                   estimator=Pipeline(steps=[('drop_correlations',\n",
       "                                              DropCorrelatedFeatures()),\n",
       "                                             ('mod',\n",
       "                                              DecisionTreeRegressor(random_state=12345))]),\n",
       "                   n_iter=20, n_jobs=-1,\n",
       "                   param_distributions=[{'mod__max_depth': range(5, 50)}],\n",
       "                   random_state=12345,\n",
       "                   scoring=make_scorer(sMAPE, greater_is_better=False),\n",
       "                   verbose=1)"
      ]
     },
     "execution_count": 73,
     "metadata": {},
     "output_type": "execute_result"
    }
   ],
   "source": [
    "%%time\n",
    "\n",
    "grid_DT.fit(features_train_rougher, target_train_rougher)"
   ]
  },
  {
   "cell_type": "code",
   "execution_count": 74,
   "metadata": {},
   "outputs": [
    {
     "data": {
      "text/html": [
       "<style>#sk-container-id-6 {color: black;background-color: white;}#sk-container-id-6 pre{padding: 0;}#sk-container-id-6 div.sk-toggleable {background-color: white;}#sk-container-id-6 label.sk-toggleable__label {cursor: pointer;display: block;width: 100%;margin-bottom: 0;padding: 0.3em;box-sizing: border-box;text-align: center;}#sk-container-id-6 label.sk-toggleable__label-arrow:before {content: \"▸\";float: left;margin-right: 0.25em;color: #696969;}#sk-container-id-6 label.sk-toggleable__label-arrow:hover:before {color: black;}#sk-container-id-6 div.sk-estimator:hover label.sk-toggleable__label-arrow:before {color: black;}#sk-container-id-6 div.sk-toggleable__content {max-height: 0;max-width: 0;overflow: hidden;text-align: left;background-color: #f0f8ff;}#sk-container-id-6 div.sk-toggleable__content pre {margin: 0.2em;color: black;border-radius: 0.25em;background-color: #f0f8ff;}#sk-container-id-6 input.sk-toggleable__control:checked~div.sk-toggleable__content {max-height: 200px;max-width: 100%;overflow: auto;}#sk-container-id-6 input.sk-toggleable__control:checked~label.sk-toggleable__label-arrow:before {content: \"▾\";}#sk-container-id-6 div.sk-estimator input.sk-toggleable__control:checked~label.sk-toggleable__label {background-color: #d4ebff;}#sk-container-id-6 div.sk-label input.sk-toggleable__control:checked~label.sk-toggleable__label {background-color: #d4ebff;}#sk-container-id-6 input.sk-hidden--visually {border: 0;clip: rect(1px 1px 1px 1px);clip: rect(1px, 1px, 1px, 1px);height: 1px;margin: -1px;overflow: hidden;padding: 0;position: absolute;width: 1px;}#sk-container-id-6 div.sk-estimator {font-family: monospace;background-color: #f0f8ff;border: 1px dotted black;border-radius: 0.25em;box-sizing: border-box;margin-bottom: 0.5em;}#sk-container-id-6 div.sk-estimator:hover {background-color: #d4ebff;}#sk-container-id-6 div.sk-parallel-item::after {content: \"\";width: 100%;border-bottom: 1px solid gray;flex-grow: 1;}#sk-container-id-6 div.sk-label:hover label.sk-toggleable__label {background-color: #d4ebff;}#sk-container-id-6 div.sk-serial::before {content: \"\";position: absolute;border-left: 1px solid gray;box-sizing: border-box;top: 0;bottom: 0;left: 50%;z-index: 0;}#sk-container-id-6 div.sk-serial {display: flex;flex-direction: column;align-items: center;background-color: white;padding-right: 0.2em;padding-left: 0.2em;position: relative;}#sk-container-id-6 div.sk-item {position: relative;z-index: 1;}#sk-container-id-6 div.sk-parallel {display: flex;align-items: stretch;justify-content: center;background-color: white;position: relative;}#sk-container-id-6 div.sk-item::before, #sk-container-id-6 div.sk-parallel-item::before {content: \"\";position: absolute;border-left: 1px solid gray;box-sizing: border-box;top: 0;bottom: 0;left: 50%;z-index: -1;}#sk-container-id-6 div.sk-parallel-item {display: flex;flex-direction: column;z-index: 1;position: relative;background-color: white;}#sk-container-id-6 div.sk-parallel-item:first-child::after {align-self: flex-end;width: 50%;}#sk-container-id-6 div.sk-parallel-item:last-child::after {align-self: flex-start;width: 50%;}#sk-container-id-6 div.sk-parallel-item:only-child::after {width: 0;}#sk-container-id-6 div.sk-dashed-wrapped {border: 1px dashed gray;margin: 0 0.4em 0.5em 0.4em;box-sizing: border-box;padding-bottom: 0.4em;background-color: white;}#sk-container-id-6 div.sk-label label {font-family: monospace;font-weight: bold;display: inline-block;line-height: 1.2em;}#sk-container-id-6 div.sk-label-container {text-align: center;}#sk-container-id-6 div.sk-container {/* jupyter's `normalize.less` sets `[hidden] { display: none; }` but bootstrap.min.css set `[hidden] { display: none !important; }` so we also need the `!important` here to be able to override the default hidden behavior on the sphinx rendered scikit-learn.org. See: https://github.com/scikit-learn/scikit-learn/issues/21755 */display: inline-block !important;position: relative;}#sk-container-id-6 div.sk-text-repr-fallback {display: none;}</style><div id=\"sk-container-id-6\" class=\"sk-top-container\"><div class=\"sk-text-repr-fallback\"><pre>Pipeline(steps=[(&#x27;drop_correlations&#x27;, DropCorrelatedFeatures()),\n",
       "                (&#x27;mod&#x27;,\n",
       "                 DecisionTreeRegressor(max_depth=7, random_state=12345))])</pre><b>In a Jupyter environment, please rerun this cell to show the HTML representation or trust the notebook. <br />On GitHub, the HTML representation is unable to render, please try loading this page with nbviewer.org.</b></div><div class=\"sk-container\" hidden><div class=\"sk-item sk-dashed-wrapped\"><div class=\"sk-label-container\"><div class=\"sk-label sk-toggleable\"><input class=\"sk-toggleable__control sk-hidden--visually\" id=\"sk-estimator-id-18\" type=\"checkbox\" ><label for=\"sk-estimator-id-18\" class=\"sk-toggleable__label sk-toggleable__label-arrow\">Pipeline</label><div class=\"sk-toggleable__content\"><pre>Pipeline(steps=[(&#x27;drop_correlations&#x27;, DropCorrelatedFeatures()),\n",
       "                (&#x27;mod&#x27;,\n",
       "                 DecisionTreeRegressor(max_depth=7, random_state=12345))])</pre></div></div></div><div class=\"sk-serial\"><div class=\"sk-item\"><div class=\"sk-estimator sk-toggleable\"><input class=\"sk-toggleable__control sk-hidden--visually\" id=\"sk-estimator-id-19\" type=\"checkbox\" ><label for=\"sk-estimator-id-19\" class=\"sk-toggleable__label sk-toggleable__label-arrow\">DropCorrelatedFeatures</label><div class=\"sk-toggleable__content\"><pre>DropCorrelatedFeatures()</pre></div></div></div><div class=\"sk-item\"><div class=\"sk-estimator sk-toggleable\"><input class=\"sk-toggleable__control sk-hidden--visually\" id=\"sk-estimator-id-20\" type=\"checkbox\" ><label for=\"sk-estimator-id-20\" class=\"sk-toggleable__label sk-toggleable__label-arrow\">DecisionTreeRegressor</label><div class=\"sk-toggleable__content\"><pre>DecisionTreeRegressor(max_depth=7, random_state=12345)</pre></div></div></div></div></div></div></div>"
      ],
      "text/plain": [
       "Pipeline(steps=[('drop_correlations', DropCorrelatedFeatures()),\n",
       "                ('mod',\n",
       "                 DecisionTreeRegressor(max_depth=7, random_state=12345))])"
      ]
     },
     "execution_count": 74,
     "metadata": {},
     "output_type": "execute_result"
    }
   ],
   "source": [
    "grid_DT.best_estimator_"
   ]
  },
  {
   "cell_type": "code",
   "execution_count": 75,
   "metadata": {},
   "outputs": [],
   "source": [
    "model_DT = grid_DT.best_estimator_"
   ]
  },
  {
   "cell_type": "code",
   "execution_count": 76,
   "metadata": {},
   "outputs": [],
   "source": [
    "params = [{\n",
    "    'mod': [LinearRegression()] \n",
    "    },\n",
    "        \n",
    "    \n",
    "    {\n",
    "        'mod': [model_DT],\n",
    "        'scaler': [None],\n",
    "    },\n",
    "\n",
    "    \n",
    "    {\n",
    "        'mod': [model_RF],\n",
    "        'scaler': [None],\n",
    "    },\n",
    "    \n",
    "    {'mod':  [DummyRegressor()]\n",
    "    \n",
    "    },\n",
    "\n",
    "\n",
    "]\n",
    "\n",
    "grid = RandomizedSearchCV(pipeline,\n",
    "                    params,\n",
    "                    n_iter=4,\n",
    "                    cv=3,\n",
    "                    verbose=1,\n",
    "                    random_state=RS,\n",
    "                    scoring=my_scorer,\n",
    "                    n_jobs=-1)"
   ]
  },
  {
   "cell_type": "code",
   "execution_count": 77,
   "metadata": {},
   "outputs": [
    {
     "name": "stdout",
     "output_type": "stream",
     "text": [
      "Fitting 3 folds for each of 4 candidates, totalling 12 fits\n",
      "CPU times: user 44.2 s, sys: 604 ms, total: 44.8 s\n",
      "Wall time: 44.8 s\n"
     ]
    },
    {
     "data": {
      "text/html": [
       "<style>#sk-container-id-7 {color: black;background-color: white;}#sk-container-id-7 pre{padding: 0;}#sk-container-id-7 div.sk-toggleable {background-color: white;}#sk-container-id-7 label.sk-toggleable__label {cursor: pointer;display: block;width: 100%;margin-bottom: 0;padding: 0.3em;box-sizing: border-box;text-align: center;}#sk-container-id-7 label.sk-toggleable__label-arrow:before {content: \"▸\";float: left;margin-right: 0.25em;color: #696969;}#sk-container-id-7 label.sk-toggleable__label-arrow:hover:before {color: black;}#sk-container-id-7 div.sk-estimator:hover label.sk-toggleable__label-arrow:before {color: black;}#sk-container-id-7 div.sk-toggleable__content {max-height: 0;max-width: 0;overflow: hidden;text-align: left;background-color: #f0f8ff;}#sk-container-id-7 div.sk-toggleable__content pre {margin: 0.2em;color: black;border-radius: 0.25em;background-color: #f0f8ff;}#sk-container-id-7 input.sk-toggleable__control:checked~div.sk-toggleable__content {max-height: 200px;max-width: 100%;overflow: auto;}#sk-container-id-7 input.sk-toggleable__control:checked~label.sk-toggleable__label-arrow:before {content: \"▾\";}#sk-container-id-7 div.sk-estimator input.sk-toggleable__control:checked~label.sk-toggleable__label {background-color: #d4ebff;}#sk-container-id-7 div.sk-label input.sk-toggleable__control:checked~label.sk-toggleable__label {background-color: #d4ebff;}#sk-container-id-7 input.sk-hidden--visually {border: 0;clip: rect(1px 1px 1px 1px);clip: rect(1px, 1px, 1px, 1px);height: 1px;margin: -1px;overflow: hidden;padding: 0;position: absolute;width: 1px;}#sk-container-id-7 div.sk-estimator {font-family: monospace;background-color: #f0f8ff;border: 1px dotted black;border-radius: 0.25em;box-sizing: border-box;margin-bottom: 0.5em;}#sk-container-id-7 div.sk-estimator:hover {background-color: #d4ebff;}#sk-container-id-7 div.sk-parallel-item::after {content: \"\";width: 100%;border-bottom: 1px solid gray;flex-grow: 1;}#sk-container-id-7 div.sk-label:hover label.sk-toggleable__label {background-color: #d4ebff;}#sk-container-id-7 div.sk-serial::before {content: \"\";position: absolute;border-left: 1px solid gray;box-sizing: border-box;top: 0;bottom: 0;left: 50%;z-index: 0;}#sk-container-id-7 div.sk-serial {display: flex;flex-direction: column;align-items: center;background-color: white;padding-right: 0.2em;padding-left: 0.2em;position: relative;}#sk-container-id-7 div.sk-item {position: relative;z-index: 1;}#sk-container-id-7 div.sk-parallel {display: flex;align-items: stretch;justify-content: center;background-color: white;position: relative;}#sk-container-id-7 div.sk-item::before, #sk-container-id-7 div.sk-parallel-item::before {content: \"\";position: absolute;border-left: 1px solid gray;box-sizing: border-box;top: 0;bottom: 0;left: 50%;z-index: -1;}#sk-container-id-7 div.sk-parallel-item {display: flex;flex-direction: column;z-index: 1;position: relative;background-color: white;}#sk-container-id-7 div.sk-parallel-item:first-child::after {align-self: flex-end;width: 50%;}#sk-container-id-7 div.sk-parallel-item:last-child::after {align-self: flex-start;width: 50%;}#sk-container-id-7 div.sk-parallel-item:only-child::after {width: 0;}#sk-container-id-7 div.sk-dashed-wrapped {border: 1px dashed gray;margin: 0 0.4em 0.5em 0.4em;box-sizing: border-box;padding-bottom: 0.4em;background-color: white;}#sk-container-id-7 div.sk-label label {font-family: monospace;font-weight: bold;display: inline-block;line-height: 1.2em;}#sk-container-id-7 div.sk-label-container {text-align: center;}#sk-container-id-7 div.sk-container {/* jupyter's `normalize.less` sets `[hidden] { display: none; }` but bootstrap.min.css set `[hidden] { display: none !important; }` so we also need the `!important` here to be able to override the default hidden behavior on the sphinx rendered scikit-learn.org. See: https://github.com/scikit-learn/scikit-learn/issues/21755 */display: inline-block !important;position: relative;}#sk-container-id-7 div.sk-text-repr-fallback {display: none;}</style><div id=\"sk-container-id-7\" class=\"sk-top-container\"><div class=\"sk-text-repr-fallback\"><pre>RandomizedSearchCV(cv=3,\n",
       "                   estimator=Pipeline(steps=[(&#x27;scaler&#x27;, StandardScaler()),\n",
       "                                             (&#x27;drop_correlations&#x27;,\n",
       "                                              DropCorrelatedFeatures()),\n",
       "                                             (&#x27;mod&#x27;, DummyRegressor())]),\n",
       "                   n_iter=4, n_jobs=-1,\n",
       "                   param_distributions=[{&#x27;mod&#x27;: [LinearRegression()]},\n",
       "                                        {&#x27;mod&#x27;: [Pipeline(steps=[(&#x27;drop_correlations&#x27;,\n",
       "                                                                  DropCorrelatedFeatures()),\n",
       "                                                                 (&#x27;mod&#x27;,\n",
       "                                                                  DecisionTreeRegressor(max_depth=7,\n",
       "                                                                                        random_state=12345))])],\n",
       "                                         &#x27;scaler&#x27;: [None]},\n",
       "                                        {&#x27;mod&#x27;: [Pipeline(steps=[(&#x27;drop_correlations&#x27;,\n",
       "                                                                  DropCorrelatedFeatures()),\n",
       "                                                                 (&#x27;mod&#x27;,\n",
       "                                                                  RandomForestRegressor(max_depth=9,\n",
       "                                                                                        n_estimators=65,\n",
       "                                                                                        random_state=12345))])],\n",
       "                                         &#x27;scaler&#x27;: [None]},\n",
       "                                        {&#x27;mod&#x27;: [DummyRegressor()]}],\n",
       "                   random_state=12345,\n",
       "                   scoring=make_scorer(sMAPE, greater_is_better=False),\n",
       "                   verbose=1)</pre><b>In a Jupyter environment, please rerun this cell to show the HTML representation or trust the notebook. <br />On GitHub, the HTML representation is unable to render, please try loading this page with nbviewer.org.</b></div><div class=\"sk-container\" hidden><div class=\"sk-item sk-dashed-wrapped\"><div class=\"sk-label-container\"><div class=\"sk-label sk-toggleable\"><input class=\"sk-toggleable__control sk-hidden--visually\" id=\"sk-estimator-id-21\" type=\"checkbox\" ><label for=\"sk-estimator-id-21\" class=\"sk-toggleable__label sk-toggleable__label-arrow\">RandomizedSearchCV</label><div class=\"sk-toggleable__content\"><pre>RandomizedSearchCV(cv=3,\n",
       "                   estimator=Pipeline(steps=[(&#x27;scaler&#x27;, StandardScaler()),\n",
       "                                             (&#x27;drop_correlations&#x27;,\n",
       "                                              DropCorrelatedFeatures()),\n",
       "                                             (&#x27;mod&#x27;, DummyRegressor())]),\n",
       "                   n_iter=4, n_jobs=-1,\n",
       "                   param_distributions=[{&#x27;mod&#x27;: [LinearRegression()]},\n",
       "                                        {&#x27;mod&#x27;: [Pipeline(steps=[(&#x27;drop_correlations&#x27;,\n",
       "                                                                  DropCorrelatedFeatures()),\n",
       "                                                                 (&#x27;mod&#x27;,\n",
       "                                                                  DecisionTreeRegressor(max_depth=7,\n",
       "                                                                                        random_state=12345))])],\n",
       "                                         &#x27;scaler&#x27;: [None]},\n",
       "                                        {&#x27;mod&#x27;: [Pipeline(steps=[(&#x27;drop_correlations&#x27;,\n",
       "                                                                  DropCorrelatedFeatures()),\n",
       "                                                                 (&#x27;mod&#x27;,\n",
       "                                                                  RandomForestRegressor(max_depth=9,\n",
       "                                                                                        n_estimators=65,\n",
       "                                                                                        random_state=12345))])],\n",
       "                                         &#x27;scaler&#x27;: [None]},\n",
       "                                        {&#x27;mod&#x27;: [DummyRegressor()]}],\n",
       "                   random_state=12345,\n",
       "                   scoring=make_scorer(sMAPE, greater_is_better=False),\n",
       "                   verbose=1)</pre></div></div></div><div class=\"sk-parallel\"><div class=\"sk-parallel-item\"><div class=\"sk-item\"><div class=\"sk-label-container\"><div class=\"sk-label sk-toggleable\"><input class=\"sk-toggleable__control sk-hidden--visually\" id=\"sk-estimator-id-22\" type=\"checkbox\" ><label for=\"sk-estimator-id-22\" class=\"sk-toggleable__label sk-toggleable__label-arrow\">estimator: Pipeline</label><div class=\"sk-toggleable__content\"><pre>Pipeline(steps=[(&#x27;scaler&#x27;, StandardScaler()),\n",
       "                (&#x27;drop_correlations&#x27;, DropCorrelatedFeatures()),\n",
       "                (&#x27;mod&#x27;, DummyRegressor())])</pre></div></div></div><div class=\"sk-serial\"><div class=\"sk-item\"><div class=\"sk-serial\"><div class=\"sk-item\"><div class=\"sk-estimator sk-toggleable\"><input class=\"sk-toggleable__control sk-hidden--visually\" id=\"sk-estimator-id-23\" type=\"checkbox\" ><label for=\"sk-estimator-id-23\" class=\"sk-toggleable__label sk-toggleable__label-arrow\">StandardScaler</label><div class=\"sk-toggleable__content\"><pre>StandardScaler()</pre></div></div></div><div class=\"sk-item\"><div class=\"sk-estimator sk-toggleable\"><input class=\"sk-toggleable__control sk-hidden--visually\" id=\"sk-estimator-id-24\" type=\"checkbox\" ><label for=\"sk-estimator-id-24\" class=\"sk-toggleable__label sk-toggleable__label-arrow\">DropCorrelatedFeatures</label><div class=\"sk-toggleable__content\"><pre>DropCorrelatedFeatures()</pre></div></div></div><div class=\"sk-item\"><div class=\"sk-estimator sk-toggleable\"><input class=\"sk-toggleable__control sk-hidden--visually\" id=\"sk-estimator-id-25\" type=\"checkbox\" ><label for=\"sk-estimator-id-25\" class=\"sk-toggleable__label sk-toggleable__label-arrow\">DummyRegressor</label><div class=\"sk-toggleable__content\"><pre>DummyRegressor()</pre></div></div></div></div></div></div></div></div></div></div></div></div>"
      ],
      "text/plain": [
       "RandomizedSearchCV(cv=3,\n",
       "                   estimator=Pipeline(steps=[('scaler', StandardScaler()),\n",
       "                                             ('drop_correlations',\n",
       "                                              DropCorrelatedFeatures()),\n",
       "                                             ('mod', DummyRegressor())]),\n",
       "                   n_iter=4, n_jobs=-1,\n",
       "                   param_distributions=[{'mod': [LinearRegression()]},\n",
       "                                        {'mod': [Pipeline(steps=[('drop_correlations',\n",
       "                                                                  DropCorrelatedFeatures()),\n",
       "                                                                 ('mod',\n",
       "                                                                  DecisionTreeRegressor(max_depth=7,\n",
       "                                                                                        random_state=12345))])],\n",
       "                                         'scaler': [None]},\n",
       "                                        {'mod': [Pipeline(steps=[('drop_correlations',\n",
       "                                                                  DropCorrelatedFeatures()),\n",
       "                                                                 ('mod',\n",
       "                                                                  RandomForestRegressor(max_depth=9,\n",
       "                                                                                        n_estimators=65,\n",
       "                                                                                        random_state=12345))])],\n",
       "                                         'scaler': [None]},\n",
       "                                        {'mod': [DummyRegressor()]}],\n",
       "                   random_state=12345,\n",
       "                   scoring=make_scorer(sMAPE, greater_is_better=False),\n",
       "                   verbose=1)"
      ]
     },
     "execution_count": 77,
     "metadata": {},
     "output_type": "execute_result"
    }
   ],
   "source": [
    "%%time\n",
    "\n",
    "grid.fit(features_train_rougher, target_train_rougher)"
   ]
  },
  {
   "cell_type": "code",
   "execution_count": 78,
   "metadata": {},
   "outputs": [
    {
     "data": {
      "text/html": [
       "<style>#sk-container-id-8 {color: black;background-color: white;}#sk-container-id-8 pre{padding: 0;}#sk-container-id-8 div.sk-toggleable {background-color: white;}#sk-container-id-8 label.sk-toggleable__label {cursor: pointer;display: block;width: 100%;margin-bottom: 0;padding: 0.3em;box-sizing: border-box;text-align: center;}#sk-container-id-8 label.sk-toggleable__label-arrow:before {content: \"▸\";float: left;margin-right: 0.25em;color: #696969;}#sk-container-id-8 label.sk-toggleable__label-arrow:hover:before {color: black;}#sk-container-id-8 div.sk-estimator:hover label.sk-toggleable__label-arrow:before {color: black;}#sk-container-id-8 div.sk-toggleable__content {max-height: 0;max-width: 0;overflow: hidden;text-align: left;background-color: #f0f8ff;}#sk-container-id-8 div.sk-toggleable__content pre {margin: 0.2em;color: black;border-radius: 0.25em;background-color: #f0f8ff;}#sk-container-id-8 input.sk-toggleable__control:checked~div.sk-toggleable__content {max-height: 200px;max-width: 100%;overflow: auto;}#sk-container-id-8 input.sk-toggleable__control:checked~label.sk-toggleable__label-arrow:before {content: \"▾\";}#sk-container-id-8 div.sk-estimator input.sk-toggleable__control:checked~label.sk-toggleable__label {background-color: #d4ebff;}#sk-container-id-8 div.sk-label input.sk-toggleable__control:checked~label.sk-toggleable__label {background-color: #d4ebff;}#sk-container-id-8 input.sk-hidden--visually {border: 0;clip: rect(1px 1px 1px 1px);clip: rect(1px, 1px, 1px, 1px);height: 1px;margin: -1px;overflow: hidden;padding: 0;position: absolute;width: 1px;}#sk-container-id-8 div.sk-estimator {font-family: monospace;background-color: #f0f8ff;border: 1px dotted black;border-radius: 0.25em;box-sizing: border-box;margin-bottom: 0.5em;}#sk-container-id-8 div.sk-estimator:hover {background-color: #d4ebff;}#sk-container-id-8 div.sk-parallel-item::after {content: \"\";width: 100%;border-bottom: 1px solid gray;flex-grow: 1;}#sk-container-id-8 div.sk-label:hover label.sk-toggleable__label {background-color: #d4ebff;}#sk-container-id-8 div.sk-serial::before {content: \"\";position: absolute;border-left: 1px solid gray;box-sizing: border-box;top: 0;bottom: 0;left: 50%;z-index: 0;}#sk-container-id-8 div.sk-serial {display: flex;flex-direction: column;align-items: center;background-color: white;padding-right: 0.2em;padding-left: 0.2em;position: relative;}#sk-container-id-8 div.sk-item {position: relative;z-index: 1;}#sk-container-id-8 div.sk-parallel {display: flex;align-items: stretch;justify-content: center;background-color: white;position: relative;}#sk-container-id-8 div.sk-item::before, #sk-container-id-8 div.sk-parallel-item::before {content: \"\";position: absolute;border-left: 1px solid gray;box-sizing: border-box;top: 0;bottom: 0;left: 50%;z-index: -1;}#sk-container-id-8 div.sk-parallel-item {display: flex;flex-direction: column;z-index: 1;position: relative;background-color: white;}#sk-container-id-8 div.sk-parallel-item:first-child::after {align-self: flex-end;width: 50%;}#sk-container-id-8 div.sk-parallel-item:last-child::after {align-self: flex-start;width: 50%;}#sk-container-id-8 div.sk-parallel-item:only-child::after {width: 0;}#sk-container-id-8 div.sk-dashed-wrapped {border: 1px dashed gray;margin: 0 0.4em 0.5em 0.4em;box-sizing: border-box;padding-bottom: 0.4em;background-color: white;}#sk-container-id-8 div.sk-label label {font-family: monospace;font-weight: bold;display: inline-block;line-height: 1.2em;}#sk-container-id-8 div.sk-label-container {text-align: center;}#sk-container-id-8 div.sk-container {/* jupyter's `normalize.less` sets `[hidden] { display: none; }` but bootstrap.min.css set `[hidden] { display: none !important; }` so we also need the `!important` here to be able to override the default hidden behavior on the sphinx rendered scikit-learn.org. See: https://github.com/scikit-learn/scikit-learn/issues/21755 */display: inline-block !important;position: relative;}#sk-container-id-8 div.sk-text-repr-fallback {display: none;}</style><div id=\"sk-container-id-8\" class=\"sk-top-container\"><div class=\"sk-text-repr-fallback\"><pre>Pipeline(steps=[(&#x27;scaler&#x27;, None),\n",
       "                (&#x27;drop_correlations&#x27;, DropCorrelatedFeatures()),\n",
       "                (&#x27;mod&#x27;,\n",
       "                 Pipeline(steps=[(&#x27;drop_correlations&#x27;,\n",
       "                                  DropCorrelatedFeatures()),\n",
       "                                 (&#x27;mod&#x27;,\n",
       "                                  RandomForestRegressor(max_depth=9,\n",
       "                                                        n_estimators=65,\n",
       "                                                        random_state=12345))]))])</pre><b>In a Jupyter environment, please rerun this cell to show the HTML representation or trust the notebook. <br />On GitHub, the HTML representation is unable to render, please try loading this page with nbviewer.org.</b></div><div class=\"sk-container\" hidden><div class=\"sk-item sk-dashed-wrapped\"><div class=\"sk-label-container\"><div class=\"sk-label sk-toggleable\"><input class=\"sk-toggleable__control sk-hidden--visually\" id=\"sk-estimator-id-26\" type=\"checkbox\" ><label for=\"sk-estimator-id-26\" class=\"sk-toggleable__label sk-toggleable__label-arrow\">Pipeline</label><div class=\"sk-toggleable__content\"><pre>Pipeline(steps=[(&#x27;scaler&#x27;, None),\n",
       "                (&#x27;drop_correlations&#x27;, DropCorrelatedFeatures()),\n",
       "                (&#x27;mod&#x27;,\n",
       "                 Pipeline(steps=[(&#x27;drop_correlations&#x27;,\n",
       "                                  DropCorrelatedFeatures()),\n",
       "                                 (&#x27;mod&#x27;,\n",
       "                                  RandomForestRegressor(max_depth=9,\n",
       "                                                        n_estimators=65,\n",
       "                                                        random_state=12345))]))])</pre></div></div></div><div class=\"sk-serial\"><div class=\"sk-item\"><div class=\"sk-estimator sk-toggleable\"><input class=\"sk-toggleable__control sk-hidden--visually\" id=\"sk-estimator-id-27\" type=\"checkbox\" ><label for=\"sk-estimator-id-27\" class=\"sk-toggleable__label sk-toggleable__label-arrow\">None</label><div class=\"sk-toggleable__content\"><pre>None</pre></div></div></div><div class=\"sk-item\"><div class=\"sk-estimator sk-toggleable\"><input class=\"sk-toggleable__control sk-hidden--visually\" id=\"sk-estimator-id-28\" type=\"checkbox\" ><label for=\"sk-estimator-id-28\" class=\"sk-toggleable__label sk-toggleable__label-arrow\">DropCorrelatedFeatures</label><div class=\"sk-toggleable__content\"><pre>DropCorrelatedFeatures()</pre></div></div></div><div class=\"sk-item\"><div class=\"sk-label-container\"><div class=\"sk-label sk-toggleable\"><input class=\"sk-toggleable__control sk-hidden--visually\" id=\"sk-estimator-id-29\" type=\"checkbox\" ><label for=\"sk-estimator-id-29\" class=\"sk-toggleable__label sk-toggleable__label-arrow\">mod: Pipeline</label><div class=\"sk-toggleable__content\"><pre>Pipeline(steps=[(&#x27;drop_correlations&#x27;, DropCorrelatedFeatures()),\n",
       "                (&#x27;mod&#x27;,\n",
       "                 RandomForestRegressor(max_depth=9, n_estimators=65,\n",
       "                                       random_state=12345))])</pre></div></div></div><div class=\"sk-serial\"><div class=\"sk-item\"><div class=\"sk-estimator sk-toggleable\"><input class=\"sk-toggleable__control sk-hidden--visually\" id=\"sk-estimator-id-30\" type=\"checkbox\" ><label for=\"sk-estimator-id-30\" class=\"sk-toggleable__label sk-toggleable__label-arrow\">DropCorrelatedFeatures</label><div class=\"sk-toggleable__content\"><pre>DropCorrelatedFeatures()</pre></div></div></div><div class=\"sk-item\"><div class=\"sk-estimator sk-toggleable\"><input class=\"sk-toggleable__control sk-hidden--visually\" id=\"sk-estimator-id-31\" type=\"checkbox\" ><label for=\"sk-estimator-id-31\" class=\"sk-toggleable__label sk-toggleable__label-arrow\">RandomForestRegressor</label><div class=\"sk-toggleable__content\"><pre>RandomForestRegressor(max_depth=9, n_estimators=65, random_state=12345)</pre></div></div></div></div></div></div></div></div></div>"
      ],
      "text/plain": [
       "Pipeline(steps=[('scaler', None),\n",
       "                ('drop_correlations', DropCorrelatedFeatures()),\n",
       "                ('mod',\n",
       "                 Pipeline(steps=[('drop_correlations',\n",
       "                                  DropCorrelatedFeatures()),\n",
       "                                 ('mod',\n",
       "                                  RandomForestRegressor(max_depth=9,\n",
       "                                                        n_estimators=65,\n",
       "                                                        random_state=12345))]))])"
      ]
     },
     "execution_count": 78,
     "metadata": {},
     "output_type": "execute_result"
    }
   ],
   "source": [
    "grid.best_estimator_"
   ]
  },
  {
   "cell_type": "code",
   "execution_count": 79,
   "metadata": {},
   "outputs": [],
   "source": [
    "model_rougher = grid.best_estimator_"
   ]
  },
  {
   "cell_type": "code",
   "execution_count": 80,
   "metadata": {},
   "outputs": [],
   "source": [
    "#grid.best_params_"
   ]
  },
  {
   "cell_type": "code",
   "execution_count": 81,
   "metadata": {},
   "outputs": [
    {
     "data": {
      "text/plain": [
       "-8.094270948977304"
      ]
     },
     "execution_count": 81,
     "metadata": {},
     "output_type": "execute_result"
    }
   ],
   "source": [
    "grid.best_score_"
   ]
  },
  {
   "cell_type": "markdown",
   "metadata": {},
   "source": [
    "Лучшая модель: RandomForestRegressor(max_depth=18, n_estimators=52, random_state=12345)"
   ]
  },
  {
   "cell_type": "markdown",
   "metadata": {},
   "source": [
    "## Исследуем второй целевой признак - final.output.recovery"
   ]
  },
  {
   "cell_type": "code",
   "execution_count": 82,
   "metadata": {},
   "outputs": [
    {
     "name": "stdout",
     "output_type": "stream",
     "text": [
      "(13591,)\n",
      "(5290,)\n",
      "(13591, 52)\n",
      "(5290, 52)\n"
     ]
    }
   ],
   "source": [
    "data_train_final=data_train.drop(['rougher.output.recovery'] , axis=1)\n",
    "data_test_final = data_test.drop(['rougher.output.recovery'] , axis=1)\n",
    "\n",
    "target_train_final = data_train_final['final.output.recovery']\n",
    "features_train_final = data_train_final.drop(['final.output.recovery'] , axis=1)\n",
    "\n",
    "\n",
    "\n",
    "target_test_final = data_test['final.output.recovery']\n",
    "features_test_final = data_test.drop(['rougher.output.recovery','final.output.recovery'] , axis=1)\n",
    "\n",
    "print(target_train_final.shape)\n",
    "print(target_test_final.shape)\n",
    "print(features_train_final.shape)\n",
    "print(features_test_final.shape)"
   ]
  },
  {
   "cell_type": "code",
   "execution_count": 83,
   "metadata": {},
   "outputs": [
    {
     "name": "stdout",
     "output_type": "stream",
     "text": [
      "Fitting 3 folds for each of 30 candidates, totalling 90 fits\n",
      "CPU times: user 40min 46s, sys: 6.34 s, total: 40min 53s\n",
      "Wall time: 40min 54s\n"
     ]
    },
    {
     "data": {
      "text/html": [
       "<style>#sk-container-id-9 {color: black;background-color: white;}#sk-container-id-9 pre{padding: 0;}#sk-container-id-9 div.sk-toggleable {background-color: white;}#sk-container-id-9 label.sk-toggleable__label {cursor: pointer;display: block;width: 100%;margin-bottom: 0;padding: 0.3em;box-sizing: border-box;text-align: center;}#sk-container-id-9 label.sk-toggleable__label-arrow:before {content: \"▸\";float: left;margin-right: 0.25em;color: #696969;}#sk-container-id-9 label.sk-toggleable__label-arrow:hover:before {color: black;}#sk-container-id-9 div.sk-estimator:hover label.sk-toggleable__label-arrow:before {color: black;}#sk-container-id-9 div.sk-toggleable__content {max-height: 0;max-width: 0;overflow: hidden;text-align: left;background-color: #f0f8ff;}#sk-container-id-9 div.sk-toggleable__content pre {margin: 0.2em;color: black;border-radius: 0.25em;background-color: #f0f8ff;}#sk-container-id-9 input.sk-toggleable__control:checked~div.sk-toggleable__content {max-height: 200px;max-width: 100%;overflow: auto;}#sk-container-id-9 input.sk-toggleable__control:checked~label.sk-toggleable__label-arrow:before {content: \"▾\";}#sk-container-id-9 div.sk-estimator input.sk-toggleable__control:checked~label.sk-toggleable__label {background-color: #d4ebff;}#sk-container-id-9 div.sk-label input.sk-toggleable__control:checked~label.sk-toggleable__label {background-color: #d4ebff;}#sk-container-id-9 input.sk-hidden--visually {border: 0;clip: rect(1px 1px 1px 1px);clip: rect(1px, 1px, 1px, 1px);height: 1px;margin: -1px;overflow: hidden;padding: 0;position: absolute;width: 1px;}#sk-container-id-9 div.sk-estimator {font-family: monospace;background-color: #f0f8ff;border: 1px dotted black;border-radius: 0.25em;box-sizing: border-box;margin-bottom: 0.5em;}#sk-container-id-9 div.sk-estimator:hover {background-color: #d4ebff;}#sk-container-id-9 div.sk-parallel-item::after {content: \"\";width: 100%;border-bottom: 1px solid gray;flex-grow: 1;}#sk-container-id-9 div.sk-label:hover label.sk-toggleable__label {background-color: #d4ebff;}#sk-container-id-9 div.sk-serial::before {content: \"\";position: absolute;border-left: 1px solid gray;box-sizing: border-box;top: 0;bottom: 0;left: 50%;z-index: 0;}#sk-container-id-9 div.sk-serial {display: flex;flex-direction: column;align-items: center;background-color: white;padding-right: 0.2em;padding-left: 0.2em;position: relative;}#sk-container-id-9 div.sk-item {position: relative;z-index: 1;}#sk-container-id-9 div.sk-parallel {display: flex;align-items: stretch;justify-content: center;background-color: white;position: relative;}#sk-container-id-9 div.sk-item::before, #sk-container-id-9 div.sk-parallel-item::before {content: \"\";position: absolute;border-left: 1px solid gray;box-sizing: border-box;top: 0;bottom: 0;left: 50%;z-index: -1;}#sk-container-id-9 div.sk-parallel-item {display: flex;flex-direction: column;z-index: 1;position: relative;background-color: white;}#sk-container-id-9 div.sk-parallel-item:first-child::after {align-self: flex-end;width: 50%;}#sk-container-id-9 div.sk-parallel-item:last-child::after {align-self: flex-start;width: 50%;}#sk-container-id-9 div.sk-parallel-item:only-child::after {width: 0;}#sk-container-id-9 div.sk-dashed-wrapped {border: 1px dashed gray;margin: 0 0.4em 0.5em 0.4em;box-sizing: border-box;padding-bottom: 0.4em;background-color: white;}#sk-container-id-9 div.sk-label label {font-family: monospace;font-weight: bold;display: inline-block;line-height: 1.2em;}#sk-container-id-9 div.sk-label-container {text-align: center;}#sk-container-id-9 div.sk-container {/* jupyter's `normalize.less` sets `[hidden] { display: none; }` but bootstrap.min.css set `[hidden] { display: none !important; }` so we also need the `!important` here to be able to override the default hidden behavior on the sphinx rendered scikit-learn.org. See: https://github.com/scikit-learn/scikit-learn/issues/21755 */display: inline-block !important;position: relative;}#sk-container-id-9 div.sk-text-repr-fallback {display: none;}</style><div id=\"sk-container-id-9\" class=\"sk-top-container\"><div class=\"sk-text-repr-fallback\"><pre>RandomizedSearchCV(cv=3,\n",
       "                   estimator=Pipeline(steps=[(&#x27;drop_correlations&#x27;,\n",
       "                                              DropCorrelatedFeatures()),\n",
       "                                             (&#x27;mod&#x27;,\n",
       "                                              RandomForestRegressor(random_state=12345))]),\n",
       "                   n_iter=30, n_jobs=-1,\n",
       "                   param_distributions=[{&#x27;mod__max_depth&#x27;: range(5, 50),\n",
       "                                         &#x27;mod__n_estimators&#x27;: range(2, 200)}],\n",
       "                   random_state=12345,\n",
       "                   scoring=make_scorer(sMAPE, greater_is_better=False),\n",
       "                   verbose=1)</pre><b>In a Jupyter environment, please rerun this cell to show the HTML representation or trust the notebook. <br />On GitHub, the HTML representation is unable to render, please try loading this page with nbviewer.org.</b></div><div class=\"sk-container\" hidden><div class=\"sk-item sk-dashed-wrapped\"><div class=\"sk-label-container\"><div class=\"sk-label sk-toggleable\"><input class=\"sk-toggleable__control sk-hidden--visually\" id=\"sk-estimator-id-32\" type=\"checkbox\" ><label for=\"sk-estimator-id-32\" class=\"sk-toggleable__label sk-toggleable__label-arrow\">RandomizedSearchCV</label><div class=\"sk-toggleable__content\"><pre>RandomizedSearchCV(cv=3,\n",
       "                   estimator=Pipeline(steps=[(&#x27;drop_correlations&#x27;,\n",
       "                                              DropCorrelatedFeatures()),\n",
       "                                             (&#x27;mod&#x27;,\n",
       "                                              RandomForestRegressor(random_state=12345))]),\n",
       "                   n_iter=30, n_jobs=-1,\n",
       "                   param_distributions=[{&#x27;mod__max_depth&#x27;: range(5, 50),\n",
       "                                         &#x27;mod__n_estimators&#x27;: range(2, 200)}],\n",
       "                   random_state=12345,\n",
       "                   scoring=make_scorer(sMAPE, greater_is_better=False),\n",
       "                   verbose=1)</pre></div></div></div><div class=\"sk-parallel\"><div class=\"sk-parallel-item\"><div class=\"sk-item\"><div class=\"sk-label-container\"><div class=\"sk-label sk-toggleable\"><input class=\"sk-toggleable__control sk-hidden--visually\" id=\"sk-estimator-id-33\" type=\"checkbox\" ><label for=\"sk-estimator-id-33\" class=\"sk-toggleable__label sk-toggleable__label-arrow\">estimator: Pipeline</label><div class=\"sk-toggleable__content\"><pre>Pipeline(steps=[(&#x27;drop_correlations&#x27;, DropCorrelatedFeatures()),\n",
       "                (&#x27;mod&#x27;, RandomForestRegressor(random_state=12345))])</pre></div></div></div><div class=\"sk-serial\"><div class=\"sk-item\"><div class=\"sk-serial\"><div class=\"sk-item\"><div class=\"sk-estimator sk-toggleable\"><input class=\"sk-toggleable__control sk-hidden--visually\" id=\"sk-estimator-id-34\" type=\"checkbox\" ><label for=\"sk-estimator-id-34\" class=\"sk-toggleable__label sk-toggleable__label-arrow\">DropCorrelatedFeatures</label><div class=\"sk-toggleable__content\"><pre>DropCorrelatedFeatures()</pre></div></div></div><div class=\"sk-item\"><div class=\"sk-estimator sk-toggleable\"><input class=\"sk-toggleable__control sk-hidden--visually\" id=\"sk-estimator-id-35\" type=\"checkbox\" ><label for=\"sk-estimator-id-35\" class=\"sk-toggleable__label sk-toggleable__label-arrow\">RandomForestRegressor</label><div class=\"sk-toggleable__content\"><pre>RandomForestRegressor(random_state=12345)</pre></div></div></div></div></div></div></div></div></div></div></div></div>"
      ],
      "text/plain": [
       "RandomizedSearchCV(cv=3,\n",
       "                   estimator=Pipeline(steps=[('drop_correlations',\n",
       "                                              DropCorrelatedFeatures()),\n",
       "                                             ('mod',\n",
       "                                              RandomForestRegressor(random_state=12345))]),\n",
       "                   n_iter=30, n_jobs=-1,\n",
       "                   param_distributions=[{'mod__max_depth': range(5, 50),\n",
       "                                         'mod__n_estimators': range(2, 200)}],\n",
       "                   random_state=12345,\n",
       "                   scoring=make_scorer(sMAPE, greater_is_better=False),\n",
       "                   verbose=1)"
      ]
     },
     "execution_count": 83,
     "metadata": {},
     "output_type": "execute_result"
    }
   ],
   "source": [
    "%%time\n",
    "\n",
    "grid_RF.fit(features_train_final, target_train_final)"
   ]
  },
  {
   "cell_type": "code",
   "execution_count": 84,
   "metadata": {},
   "outputs": [],
   "source": [
    "model_RF = grid_RF.best_estimator_"
   ]
  },
  {
   "cell_type": "code",
   "execution_count": 85,
   "metadata": {},
   "outputs": [
    {
     "name": "stdout",
     "output_type": "stream",
     "text": [
      "Fitting 3 folds for each of 20 candidates, totalling 60 fits\n",
      "CPU times: user 26.9 s, sys: 87.9 ms, total: 26.9 s\n",
      "Wall time: 27 s\n"
     ]
    },
    {
     "data": {
      "text/html": [
       "<style>#sk-container-id-10 {color: black;background-color: white;}#sk-container-id-10 pre{padding: 0;}#sk-container-id-10 div.sk-toggleable {background-color: white;}#sk-container-id-10 label.sk-toggleable__label {cursor: pointer;display: block;width: 100%;margin-bottom: 0;padding: 0.3em;box-sizing: border-box;text-align: center;}#sk-container-id-10 label.sk-toggleable__label-arrow:before {content: \"▸\";float: left;margin-right: 0.25em;color: #696969;}#sk-container-id-10 label.sk-toggleable__label-arrow:hover:before {color: black;}#sk-container-id-10 div.sk-estimator:hover label.sk-toggleable__label-arrow:before {color: black;}#sk-container-id-10 div.sk-toggleable__content {max-height: 0;max-width: 0;overflow: hidden;text-align: left;background-color: #f0f8ff;}#sk-container-id-10 div.sk-toggleable__content pre {margin: 0.2em;color: black;border-radius: 0.25em;background-color: #f0f8ff;}#sk-container-id-10 input.sk-toggleable__control:checked~div.sk-toggleable__content {max-height: 200px;max-width: 100%;overflow: auto;}#sk-container-id-10 input.sk-toggleable__control:checked~label.sk-toggleable__label-arrow:before {content: \"▾\";}#sk-container-id-10 div.sk-estimator input.sk-toggleable__control:checked~label.sk-toggleable__label {background-color: #d4ebff;}#sk-container-id-10 div.sk-label input.sk-toggleable__control:checked~label.sk-toggleable__label {background-color: #d4ebff;}#sk-container-id-10 input.sk-hidden--visually {border: 0;clip: rect(1px 1px 1px 1px);clip: rect(1px, 1px, 1px, 1px);height: 1px;margin: -1px;overflow: hidden;padding: 0;position: absolute;width: 1px;}#sk-container-id-10 div.sk-estimator {font-family: monospace;background-color: #f0f8ff;border: 1px dotted black;border-radius: 0.25em;box-sizing: border-box;margin-bottom: 0.5em;}#sk-container-id-10 div.sk-estimator:hover {background-color: #d4ebff;}#sk-container-id-10 div.sk-parallel-item::after {content: \"\";width: 100%;border-bottom: 1px solid gray;flex-grow: 1;}#sk-container-id-10 div.sk-label:hover label.sk-toggleable__label {background-color: #d4ebff;}#sk-container-id-10 div.sk-serial::before {content: \"\";position: absolute;border-left: 1px solid gray;box-sizing: border-box;top: 0;bottom: 0;left: 50%;z-index: 0;}#sk-container-id-10 div.sk-serial {display: flex;flex-direction: column;align-items: center;background-color: white;padding-right: 0.2em;padding-left: 0.2em;position: relative;}#sk-container-id-10 div.sk-item {position: relative;z-index: 1;}#sk-container-id-10 div.sk-parallel {display: flex;align-items: stretch;justify-content: center;background-color: white;position: relative;}#sk-container-id-10 div.sk-item::before, #sk-container-id-10 div.sk-parallel-item::before {content: \"\";position: absolute;border-left: 1px solid gray;box-sizing: border-box;top: 0;bottom: 0;left: 50%;z-index: -1;}#sk-container-id-10 div.sk-parallel-item {display: flex;flex-direction: column;z-index: 1;position: relative;background-color: white;}#sk-container-id-10 div.sk-parallel-item:first-child::after {align-self: flex-end;width: 50%;}#sk-container-id-10 div.sk-parallel-item:last-child::after {align-self: flex-start;width: 50%;}#sk-container-id-10 div.sk-parallel-item:only-child::after {width: 0;}#sk-container-id-10 div.sk-dashed-wrapped {border: 1px dashed gray;margin: 0 0.4em 0.5em 0.4em;box-sizing: border-box;padding-bottom: 0.4em;background-color: white;}#sk-container-id-10 div.sk-label label {font-family: monospace;font-weight: bold;display: inline-block;line-height: 1.2em;}#sk-container-id-10 div.sk-label-container {text-align: center;}#sk-container-id-10 div.sk-container {/* jupyter's `normalize.less` sets `[hidden] { display: none; }` but bootstrap.min.css set `[hidden] { display: none !important; }` so we also need the `!important` here to be able to override the default hidden behavior on the sphinx rendered scikit-learn.org. See: https://github.com/scikit-learn/scikit-learn/issues/21755 */display: inline-block !important;position: relative;}#sk-container-id-10 div.sk-text-repr-fallback {display: none;}</style><div id=\"sk-container-id-10\" class=\"sk-top-container\"><div class=\"sk-text-repr-fallback\"><pre>RandomizedSearchCV(cv=3,\n",
       "                   estimator=Pipeline(steps=[(&#x27;drop_correlations&#x27;,\n",
       "                                              DropCorrelatedFeatures()),\n",
       "                                             (&#x27;mod&#x27;,\n",
       "                                              DecisionTreeRegressor(random_state=12345))]),\n",
       "                   n_iter=20, n_jobs=-1,\n",
       "                   param_distributions=[{&#x27;mod__max_depth&#x27;: range(5, 50)}],\n",
       "                   random_state=12345,\n",
       "                   scoring=make_scorer(sMAPE, greater_is_better=False),\n",
       "                   verbose=1)</pre><b>In a Jupyter environment, please rerun this cell to show the HTML representation or trust the notebook. <br />On GitHub, the HTML representation is unable to render, please try loading this page with nbviewer.org.</b></div><div class=\"sk-container\" hidden><div class=\"sk-item sk-dashed-wrapped\"><div class=\"sk-label-container\"><div class=\"sk-label sk-toggleable\"><input class=\"sk-toggleable__control sk-hidden--visually\" id=\"sk-estimator-id-36\" type=\"checkbox\" ><label for=\"sk-estimator-id-36\" class=\"sk-toggleable__label sk-toggleable__label-arrow\">RandomizedSearchCV</label><div class=\"sk-toggleable__content\"><pre>RandomizedSearchCV(cv=3,\n",
       "                   estimator=Pipeline(steps=[(&#x27;drop_correlations&#x27;,\n",
       "                                              DropCorrelatedFeatures()),\n",
       "                                             (&#x27;mod&#x27;,\n",
       "                                              DecisionTreeRegressor(random_state=12345))]),\n",
       "                   n_iter=20, n_jobs=-1,\n",
       "                   param_distributions=[{&#x27;mod__max_depth&#x27;: range(5, 50)}],\n",
       "                   random_state=12345,\n",
       "                   scoring=make_scorer(sMAPE, greater_is_better=False),\n",
       "                   verbose=1)</pre></div></div></div><div class=\"sk-parallel\"><div class=\"sk-parallel-item\"><div class=\"sk-item\"><div class=\"sk-label-container\"><div class=\"sk-label sk-toggleable\"><input class=\"sk-toggleable__control sk-hidden--visually\" id=\"sk-estimator-id-37\" type=\"checkbox\" ><label for=\"sk-estimator-id-37\" class=\"sk-toggleable__label sk-toggleable__label-arrow\">estimator: Pipeline</label><div class=\"sk-toggleable__content\"><pre>Pipeline(steps=[(&#x27;drop_correlations&#x27;, DropCorrelatedFeatures()),\n",
       "                (&#x27;mod&#x27;, DecisionTreeRegressor(random_state=12345))])</pre></div></div></div><div class=\"sk-serial\"><div class=\"sk-item\"><div class=\"sk-serial\"><div class=\"sk-item\"><div class=\"sk-estimator sk-toggleable\"><input class=\"sk-toggleable__control sk-hidden--visually\" id=\"sk-estimator-id-38\" type=\"checkbox\" ><label for=\"sk-estimator-id-38\" class=\"sk-toggleable__label sk-toggleable__label-arrow\">DropCorrelatedFeatures</label><div class=\"sk-toggleable__content\"><pre>DropCorrelatedFeatures()</pre></div></div></div><div class=\"sk-item\"><div class=\"sk-estimator sk-toggleable\"><input class=\"sk-toggleable__control sk-hidden--visually\" id=\"sk-estimator-id-39\" type=\"checkbox\" ><label for=\"sk-estimator-id-39\" class=\"sk-toggleable__label sk-toggleable__label-arrow\">DecisionTreeRegressor</label><div class=\"sk-toggleable__content\"><pre>DecisionTreeRegressor(random_state=12345)</pre></div></div></div></div></div></div></div></div></div></div></div></div>"
      ],
      "text/plain": [
       "RandomizedSearchCV(cv=3,\n",
       "                   estimator=Pipeline(steps=[('drop_correlations',\n",
       "                                              DropCorrelatedFeatures()),\n",
       "                                             ('mod',\n",
       "                                              DecisionTreeRegressor(random_state=12345))]),\n",
       "                   n_iter=20, n_jobs=-1,\n",
       "                   param_distributions=[{'mod__max_depth': range(5, 50)}],\n",
       "                   random_state=12345,\n",
       "                   scoring=make_scorer(sMAPE, greater_is_better=False),\n",
       "                   verbose=1)"
      ]
     },
     "execution_count": 85,
     "metadata": {},
     "output_type": "execute_result"
    }
   ],
   "source": [
    "%%time\n",
    "\n",
    "grid_DT.fit(features_train_final, target_train_final)"
   ]
  },
  {
   "cell_type": "code",
   "execution_count": 86,
   "metadata": {},
   "outputs": [],
   "source": [
    "model_DT = grid_DT.best_estimator_"
   ]
  },
  {
   "cell_type": "code",
   "execution_count": 87,
   "metadata": {},
   "outputs": [
    {
     "name": "stdout",
     "output_type": "stream",
     "text": [
      "Fitting 3 folds for each of 4 candidates, totalling 12 fits\n",
      "CPU times: user 44.4 s, sys: 540 ms, total: 45 s\n",
      "Wall time: 45 s\n"
     ]
    },
    {
     "data": {
      "text/html": [
       "<style>#sk-container-id-11 {color: black;background-color: white;}#sk-container-id-11 pre{padding: 0;}#sk-container-id-11 div.sk-toggleable {background-color: white;}#sk-container-id-11 label.sk-toggleable__label {cursor: pointer;display: block;width: 100%;margin-bottom: 0;padding: 0.3em;box-sizing: border-box;text-align: center;}#sk-container-id-11 label.sk-toggleable__label-arrow:before {content: \"▸\";float: left;margin-right: 0.25em;color: #696969;}#sk-container-id-11 label.sk-toggleable__label-arrow:hover:before {color: black;}#sk-container-id-11 div.sk-estimator:hover label.sk-toggleable__label-arrow:before {color: black;}#sk-container-id-11 div.sk-toggleable__content {max-height: 0;max-width: 0;overflow: hidden;text-align: left;background-color: #f0f8ff;}#sk-container-id-11 div.sk-toggleable__content pre {margin: 0.2em;color: black;border-radius: 0.25em;background-color: #f0f8ff;}#sk-container-id-11 input.sk-toggleable__control:checked~div.sk-toggleable__content {max-height: 200px;max-width: 100%;overflow: auto;}#sk-container-id-11 input.sk-toggleable__control:checked~label.sk-toggleable__label-arrow:before {content: \"▾\";}#sk-container-id-11 div.sk-estimator input.sk-toggleable__control:checked~label.sk-toggleable__label {background-color: #d4ebff;}#sk-container-id-11 div.sk-label input.sk-toggleable__control:checked~label.sk-toggleable__label {background-color: #d4ebff;}#sk-container-id-11 input.sk-hidden--visually {border: 0;clip: rect(1px 1px 1px 1px);clip: rect(1px, 1px, 1px, 1px);height: 1px;margin: -1px;overflow: hidden;padding: 0;position: absolute;width: 1px;}#sk-container-id-11 div.sk-estimator {font-family: monospace;background-color: #f0f8ff;border: 1px dotted black;border-radius: 0.25em;box-sizing: border-box;margin-bottom: 0.5em;}#sk-container-id-11 div.sk-estimator:hover {background-color: #d4ebff;}#sk-container-id-11 div.sk-parallel-item::after {content: \"\";width: 100%;border-bottom: 1px solid gray;flex-grow: 1;}#sk-container-id-11 div.sk-label:hover label.sk-toggleable__label {background-color: #d4ebff;}#sk-container-id-11 div.sk-serial::before {content: \"\";position: absolute;border-left: 1px solid gray;box-sizing: border-box;top: 0;bottom: 0;left: 50%;z-index: 0;}#sk-container-id-11 div.sk-serial {display: flex;flex-direction: column;align-items: center;background-color: white;padding-right: 0.2em;padding-left: 0.2em;position: relative;}#sk-container-id-11 div.sk-item {position: relative;z-index: 1;}#sk-container-id-11 div.sk-parallel {display: flex;align-items: stretch;justify-content: center;background-color: white;position: relative;}#sk-container-id-11 div.sk-item::before, #sk-container-id-11 div.sk-parallel-item::before {content: \"\";position: absolute;border-left: 1px solid gray;box-sizing: border-box;top: 0;bottom: 0;left: 50%;z-index: -1;}#sk-container-id-11 div.sk-parallel-item {display: flex;flex-direction: column;z-index: 1;position: relative;background-color: white;}#sk-container-id-11 div.sk-parallel-item:first-child::after {align-self: flex-end;width: 50%;}#sk-container-id-11 div.sk-parallel-item:last-child::after {align-self: flex-start;width: 50%;}#sk-container-id-11 div.sk-parallel-item:only-child::after {width: 0;}#sk-container-id-11 div.sk-dashed-wrapped {border: 1px dashed gray;margin: 0 0.4em 0.5em 0.4em;box-sizing: border-box;padding-bottom: 0.4em;background-color: white;}#sk-container-id-11 div.sk-label label {font-family: monospace;font-weight: bold;display: inline-block;line-height: 1.2em;}#sk-container-id-11 div.sk-label-container {text-align: center;}#sk-container-id-11 div.sk-container {/* jupyter's `normalize.less` sets `[hidden] { display: none; }` but bootstrap.min.css set `[hidden] { display: none !important; }` so we also need the `!important` here to be able to override the default hidden behavior on the sphinx rendered scikit-learn.org. See: https://github.com/scikit-learn/scikit-learn/issues/21755 */display: inline-block !important;position: relative;}#sk-container-id-11 div.sk-text-repr-fallback {display: none;}</style><div id=\"sk-container-id-11\" class=\"sk-top-container\"><div class=\"sk-text-repr-fallback\"><pre>RandomizedSearchCV(cv=3,\n",
       "                   estimator=Pipeline(steps=[(&#x27;scaler&#x27;, StandardScaler()),\n",
       "                                             (&#x27;drop_correlations&#x27;,\n",
       "                                              DropCorrelatedFeatures()),\n",
       "                                             (&#x27;mod&#x27;, DummyRegressor())]),\n",
       "                   n_iter=4, n_jobs=-1,\n",
       "                   param_distributions=[{&#x27;mod&#x27;: [LinearRegression()]},\n",
       "                                        {&#x27;mod&#x27;: [Pipeline(steps=[(&#x27;drop_correlations&#x27;,\n",
       "                                                                  DropCorrelatedFeatures()),\n",
       "                                                                 (&#x27;mod&#x27;,\n",
       "                                                                  DecisionTreeRegressor(max_depth=7,\n",
       "                                                                                        random_state=12345))])],\n",
       "                                         &#x27;scaler&#x27;: [None]},\n",
       "                                        {&#x27;mod&#x27;: [Pipeline(steps=[(&#x27;drop_correlations&#x27;,\n",
       "                                                                  DropCorrelatedFeatures()),\n",
       "                                                                 (&#x27;mod&#x27;,\n",
       "                                                                  RandomForestRegressor(max_depth=9,\n",
       "                                                                                        n_estimators=65,\n",
       "                                                                                        random_state=12345))])],\n",
       "                                         &#x27;scaler&#x27;: [None]},\n",
       "                                        {&#x27;mod&#x27;: [DummyRegressor()]}],\n",
       "                   random_state=12345,\n",
       "                   scoring=make_scorer(sMAPE, greater_is_better=False),\n",
       "                   verbose=1)</pre><b>In a Jupyter environment, please rerun this cell to show the HTML representation or trust the notebook. <br />On GitHub, the HTML representation is unable to render, please try loading this page with nbviewer.org.</b></div><div class=\"sk-container\" hidden><div class=\"sk-item sk-dashed-wrapped\"><div class=\"sk-label-container\"><div class=\"sk-label sk-toggleable\"><input class=\"sk-toggleable__control sk-hidden--visually\" id=\"sk-estimator-id-40\" type=\"checkbox\" ><label for=\"sk-estimator-id-40\" class=\"sk-toggleable__label sk-toggleable__label-arrow\">RandomizedSearchCV</label><div class=\"sk-toggleable__content\"><pre>RandomizedSearchCV(cv=3,\n",
       "                   estimator=Pipeline(steps=[(&#x27;scaler&#x27;, StandardScaler()),\n",
       "                                             (&#x27;drop_correlations&#x27;,\n",
       "                                              DropCorrelatedFeatures()),\n",
       "                                             (&#x27;mod&#x27;, DummyRegressor())]),\n",
       "                   n_iter=4, n_jobs=-1,\n",
       "                   param_distributions=[{&#x27;mod&#x27;: [LinearRegression()]},\n",
       "                                        {&#x27;mod&#x27;: [Pipeline(steps=[(&#x27;drop_correlations&#x27;,\n",
       "                                                                  DropCorrelatedFeatures()),\n",
       "                                                                 (&#x27;mod&#x27;,\n",
       "                                                                  DecisionTreeRegressor(max_depth=7,\n",
       "                                                                                        random_state=12345))])],\n",
       "                                         &#x27;scaler&#x27;: [None]},\n",
       "                                        {&#x27;mod&#x27;: [Pipeline(steps=[(&#x27;drop_correlations&#x27;,\n",
       "                                                                  DropCorrelatedFeatures()),\n",
       "                                                                 (&#x27;mod&#x27;,\n",
       "                                                                  RandomForestRegressor(max_depth=9,\n",
       "                                                                                        n_estimators=65,\n",
       "                                                                                        random_state=12345))])],\n",
       "                                         &#x27;scaler&#x27;: [None]},\n",
       "                                        {&#x27;mod&#x27;: [DummyRegressor()]}],\n",
       "                   random_state=12345,\n",
       "                   scoring=make_scorer(sMAPE, greater_is_better=False),\n",
       "                   verbose=1)</pre></div></div></div><div class=\"sk-parallel\"><div class=\"sk-parallel-item\"><div class=\"sk-item\"><div class=\"sk-label-container\"><div class=\"sk-label sk-toggleable\"><input class=\"sk-toggleable__control sk-hidden--visually\" id=\"sk-estimator-id-41\" type=\"checkbox\" ><label for=\"sk-estimator-id-41\" class=\"sk-toggleable__label sk-toggleable__label-arrow\">estimator: Pipeline</label><div class=\"sk-toggleable__content\"><pre>Pipeline(steps=[(&#x27;scaler&#x27;, StandardScaler()),\n",
       "                (&#x27;drop_correlations&#x27;, DropCorrelatedFeatures()),\n",
       "                (&#x27;mod&#x27;, DummyRegressor())])</pre></div></div></div><div class=\"sk-serial\"><div class=\"sk-item\"><div class=\"sk-serial\"><div class=\"sk-item\"><div class=\"sk-estimator sk-toggleable\"><input class=\"sk-toggleable__control sk-hidden--visually\" id=\"sk-estimator-id-42\" type=\"checkbox\" ><label for=\"sk-estimator-id-42\" class=\"sk-toggleable__label sk-toggleable__label-arrow\">StandardScaler</label><div class=\"sk-toggleable__content\"><pre>StandardScaler()</pre></div></div></div><div class=\"sk-item\"><div class=\"sk-estimator sk-toggleable\"><input class=\"sk-toggleable__control sk-hidden--visually\" id=\"sk-estimator-id-43\" type=\"checkbox\" ><label for=\"sk-estimator-id-43\" class=\"sk-toggleable__label sk-toggleable__label-arrow\">DropCorrelatedFeatures</label><div class=\"sk-toggleable__content\"><pre>DropCorrelatedFeatures()</pre></div></div></div><div class=\"sk-item\"><div class=\"sk-estimator sk-toggleable\"><input class=\"sk-toggleable__control sk-hidden--visually\" id=\"sk-estimator-id-44\" type=\"checkbox\" ><label for=\"sk-estimator-id-44\" class=\"sk-toggleable__label sk-toggleable__label-arrow\">DummyRegressor</label><div class=\"sk-toggleable__content\"><pre>DummyRegressor()</pre></div></div></div></div></div></div></div></div></div></div></div></div>"
      ],
      "text/plain": [
       "RandomizedSearchCV(cv=3,\n",
       "                   estimator=Pipeline(steps=[('scaler', StandardScaler()),\n",
       "                                             ('drop_correlations',\n",
       "                                              DropCorrelatedFeatures()),\n",
       "                                             ('mod', DummyRegressor())]),\n",
       "                   n_iter=4, n_jobs=-1,\n",
       "                   param_distributions=[{'mod': [LinearRegression()]},\n",
       "                                        {'mod': [Pipeline(steps=[('drop_correlations',\n",
       "                                                                  DropCorrelatedFeatures()),\n",
       "                                                                 ('mod',\n",
       "                                                                  DecisionTreeRegressor(max_depth=7,\n",
       "                                                                                        random_state=12345))])],\n",
       "                                         'scaler': [None]},\n",
       "                                        {'mod': [Pipeline(steps=[('drop_correlations',\n",
       "                                                                  DropCorrelatedFeatures()),\n",
       "                                                                 ('mod',\n",
       "                                                                  RandomForestRegressor(max_depth=9,\n",
       "                                                                                        n_estimators=65,\n",
       "                                                                                        random_state=12345))])],\n",
       "                                         'scaler': [None]},\n",
       "                                        {'mod': [DummyRegressor()]}],\n",
       "                   random_state=12345,\n",
       "                   scoring=make_scorer(sMAPE, greater_is_better=False),\n",
       "                   verbose=1)"
      ]
     },
     "execution_count": 87,
     "metadata": {},
     "output_type": "execute_result"
    }
   ],
   "source": [
    "%%time\n",
    "\n",
    "grid.fit(features_train_final, target_train_final)"
   ]
  },
  {
   "cell_type": "code",
   "execution_count": 88,
   "metadata": {},
   "outputs": [
    {
     "data": {
      "text/html": [
       "<style>#sk-container-id-12 {color: black;background-color: white;}#sk-container-id-12 pre{padding: 0;}#sk-container-id-12 div.sk-toggleable {background-color: white;}#sk-container-id-12 label.sk-toggleable__label {cursor: pointer;display: block;width: 100%;margin-bottom: 0;padding: 0.3em;box-sizing: border-box;text-align: center;}#sk-container-id-12 label.sk-toggleable__label-arrow:before {content: \"▸\";float: left;margin-right: 0.25em;color: #696969;}#sk-container-id-12 label.sk-toggleable__label-arrow:hover:before {color: black;}#sk-container-id-12 div.sk-estimator:hover label.sk-toggleable__label-arrow:before {color: black;}#sk-container-id-12 div.sk-toggleable__content {max-height: 0;max-width: 0;overflow: hidden;text-align: left;background-color: #f0f8ff;}#sk-container-id-12 div.sk-toggleable__content pre {margin: 0.2em;color: black;border-radius: 0.25em;background-color: #f0f8ff;}#sk-container-id-12 input.sk-toggleable__control:checked~div.sk-toggleable__content {max-height: 200px;max-width: 100%;overflow: auto;}#sk-container-id-12 input.sk-toggleable__control:checked~label.sk-toggleable__label-arrow:before {content: \"▾\";}#sk-container-id-12 div.sk-estimator input.sk-toggleable__control:checked~label.sk-toggleable__label {background-color: #d4ebff;}#sk-container-id-12 div.sk-label input.sk-toggleable__control:checked~label.sk-toggleable__label {background-color: #d4ebff;}#sk-container-id-12 input.sk-hidden--visually {border: 0;clip: rect(1px 1px 1px 1px);clip: rect(1px, 1px, 1px, 1px);height: 1px;margin: -1px;overflow: hidden;padding: 0;position: absolute;width: 1px;}#sk-container-id-12 div.sk-estimator {font-family: monospace;background-color: #f0f8ff;border: 1px dotted black;border-radius: 0.25em;box-sizing: border-box;margin-bottom: 0.5em;}#sk-container-id-12 div.sk-estimator:hover {background-color: #d4ebff;}#sk-container-id-12 div.sk-parallel-item::after {content: \"\";width: 100%;border-bottom: 1px solid gray;flex-grow: 1;}#sk-container-id-12 div.sk-label:hover label.sk-toggleable__label {background-color: #d4ebff;}#sk-container-id-12 div.sk-serial::before {content: \"\";position: absolute;border-left: 1px solid gray;box-sizing: border-box;top: 0;bottom: 0;left: 50%;z-index: 0;}#sk-container-id-12 div.sk-serial {display: flex;flex-direction: column;align-items: center;background-color: white;padding-right: 0.2em;padding-left: 0.2em;position: relative;}#sk-container-id-12 div.sk-item {position: relative;z-index: 1;}#sk-container-id-12 div.sk-parallel {display: flex;align-items: stretch;justify-content: center;background-color: white;position: relative;}#sk-container-id-12 div.sk-item::before, #sk-container-id-12 div.sk-parallel-item::before {content: \"\";position: absolute;border-left: 1px solid gray;box-sizing: border-box;top: 0;bottom: 0;left: 50%;z-index: -1;}#sk-container-id-12 div.sk-parallel-item {display: flex;flex-direction: column;z-index: 1;position: relative;background-color: white;}#sk-container-id-12 div.sk-parallel-item:first-child::after {align-self: flex-end;width: 50%;}#sk-container-id-12 div.sk-parallel-item:last-child::after {align-self: flex-start;width: 50%;}#sk-container-id-12 div.sk-parallel-item:only-child::after {width: 0;}#sk-container-id-12 div.sk-dashed-wrapped {border: 1px dashed gray;margin: 0 0.4em 0.5em 0.4em;box-sizing: border-box;padding-bottom: 0.4em;background-color: white;}#sk-container-id-12 div.sk-label label {font-family: monospace;font-weight: bold;display: inline-block;line-height: 1.2em;}#sk-container-id-12 div.sk-label-container {text-align: center;}#sk-container-id-12 div.sk-container {/* jupyter's `normalize.less` sets `[hidden] { display: none; }` but bootstrap.min.css set `[hidden] { display: none !important; }` so we also need the `!important` here to be able to override the default hidden behavior on the sphinx rendered scikit-learn.org. See: https://github.com/scikit-learn/scikit-learn/issues/21755 */display: inline-block !important;position: relative;}#sk-container-id-12 div.sk-text-repr-fallback {display: none;}</style><div id=\"sk-container-id-12\" class=\"sk-top-container\"><div class=\"sk-text-repr-fallback\"><pre>Pipeline(steps=[(&#x27;scaler&#x27;, None),\n",
       "                (&#x27;drop_correlations&#x27;, DropCorrelatedFeatures()),\n",
       "                (&#x27;mod&#x27;,\n",
       "                 Pipeline(steps=[(&#x27;drop_correlations&#x27;,\n",
       "                                  DropCorrelatedFeatures()),\n",
       "                                 (&#x27;mod&#x27;,\n",
       "                                  RandomForestRegressor(max_depth=9,\n",
       "                                                        n_estimators=65,\n",
       "                                                        random_state=12345))]))])</pre><b>In a Jupyter environment, please rerun this cell to show the HTML representation or trust the notebook. <br />On GitHub, the HTML representation is unable to render, please try loading this page with nbviewer.org.</b></div><div class=\"sk-container\" hidden><div class=\"sk-item sk-dashed-wrapped\"><div class=\"sk-label-container\"><div class=\"sk-label sk-toggleable\"><input class=\"sk-toggleable__control sk-hidden--visually\" id=\"sk-estimator-id-45\" type=\"checkbox\" ><label for=\"sk-estimator-id-45\" class=\"sk-toggleable__label sk-toggleable__label-arrow\">Pipeline</label><div class=\"sk-toggleable__content\"><pre>Pipeline(steps=[(&#x27;scaler&#x27;, None),\n",
       "                (&#x27;drop_correlations&#x27;, DropCorrelatedFeatures()),\n",
       "                (&#x27;mod&#x27;,\n",
       "                 Pipeline(steps=[(&#x27;drop_correlations&#x27;,\n",
       "                                  DropCorrelatedFeatures()),\n",
       "                                 (&#x27;mod&#x27;,\n",
       "                                  RandomForestRegressor(max_depth=9,\n",
       "                                                        n_estimators=65,\n",
       "                                                        random_state=12345))]))])</pre></div></div></div><div class=\"sk-serial\"><div class=\"sk-item\"><div class=\"sk-estimator sk-toggleable\"><input class=\"sk-toggleable__control sk-hidden--visually\" id=\"sk-estimator-id-46\" type=\"checkbox\" ><label for=\"sk-estimator-id-46\" class=\"sk-toggleable__label sk-toggleable__label-arrow\">None</label><div class=\"sk-toggleable__content\"><pre>None</pre></div></div></div><div class=\"sk-item\"><div class=\"sk-estimator sk-toggleable\"><input class=\"sk-toggleable__control sk-hidden--visually\" id=\"sk-estimator-id-47\" type=\"checkbox\" ><label for=\"sk-estimator-id-47\" class=\"sk-toggleable__label sk-toggleable__label-arrow\">DropCorrelatedFeatures</label><div class=\"sk-toggleable__content\"><pre>DropCorrelatedFeatures()</pre></div></div></div><div class=\"sk-item\"><div class=\"sk-label-container\"><div class=\"sk-label sk-toggleable\"><input class=\"sk-toggleable__control sk-hidden--visually\" id=\"sk-estimator-id-48\" type=\"checkbox\" ><label for=\"sk-estimator-id-48\" class=\"sk-toggleable__label sk-toggleable__label-arrow\">mod: Pipeline</label><div class=\"sk-toggleable__content\"><pre>Pipeline(steps=[(&#x27;drop_correlations&#x27;, DropCorrelatedFeatures()),\n",
       "                (&#x27;mod&#x27;,\n",
       "                 RandomForestRegressor(max_depth=9, n_estimators=65,\n",
       "                                       random_state=12345))])</pre></div></div></div><div class=\"sk-serial\"><div class=\"sk-item\"><div class=\"sk-estimator sk-toggleable\"><input class=\"sk-toggleable__control sk-hidden--visually\" id=\"sk-estimator-id-49\" type=\"checkbox\" ><label for=\"sk-estimator-id-49\" class=\"sk-toggleable__label sk-toggleable__label-arrow\">DropCorrelatedFeatures</label><div class=\"sk-toggleable__content\"><pre>DropCorrelatedFeatures()</pre></div></div></div><div class=\"sk-item\"><div class=\"sk-estimator sk-toggleable\"><input class=\"sk-toggleable__control sk-hidden--visually\" id=\"sk-estimator-id-50\" type=\"checkbox\" ><label for=\"sk-estimator-id-50\" class=\"sk-toggleable__label sk-toggleable__label-arrow\">RandomForestRegressor</label><div class=\"sk-toggleable__content\"><pre>RandomForestRegressor(max_depth=9, n_estimators=65, random_state=12345)</pre></div></div></div></div></div></div></div></div></div>"
      ],
      "text/plain": [
       "Pipeline(steps=[('scaler', None),\n",
       "                ('drop_correlations', DropCorrelatedFeatures()),\n",
       "                ('mod',\n",
       "                 Pipeline(steps=[('drop_correlations',\n",
       "                                  DropCorrelatedFeatures()),\n",
       "                                 ('mod',\n",
       "                                  RandomForestRegressor(max_depth=9,\n",
       "                                                        n_estimators=65,\n",
       "                                                        random_state=12345))]))])"
      ]
     },
     "execution_count": 88,
     "metadata": {},
     "output_type": "execute_result"
    }
   ],
   "source": [
    "grid.best_estimator_"
   ]
  },
  {
   "cell_type": "code",
   "execution_count": 89,
   "metadata": {},
   "outputs": [],
   "source": [
    "model_final = grid.best_estimator_"
   ]
  },
  {
   "cell_type": "code",
   "execution_count": 90,
   "metadata": {},
   "outputs": [
    {
     "data": {
      "text/plain": [
       "-10.274139045503793"
      ]
     },
     "execution_count": 90,
     "metadata": {},
     "output_type": "execute_result"
    }
   ],
   "source": [
    "grid.best_score_"
   ]
  },
  {
   "cell_type": "markdown",
   "metadata": {},
   "source": [
    "Лучшая модель: RandomForestRegressor(max_depth=18, n_estimators=52, random_state=12345)"
   ]
  },
  {
   "cell_type": "markdown",
   "metadata": {},
   "source": [
    "## Итоговая метрика"
   ]
  },
  {
   "cell_type": "code",
   "execution_count": 100,
   "metadata": {},
   "outputs": [
    {
     "name": "stdout",
     "output_type": "stream",
     "text": [
      "8.740661863649803\n"
     ]
    }
   ],
   "source": [
    "predicted_rougher = model_rougher.predict(features_test_rougher)\n",
    "score_rougher = sMAPE(target_test_rougher, predicted_rougher)\n",
    "print(score_rougher)"
   ]
  },
  {
   "cell_type": "code",
   "execution_count": 101,
   "metadata": {},
   "outputs": [
    {
     "name": "stdout",
     "output_type": "stream",
     "text": [
      "9.551768818787497\n"
     ]
    }
   ],
   "source": [
    "predicted_final = model_final.predict(features_test_final)\n",
    "score_final = sMAPE(target_test_final, predicted_final)\n",
    "print(score_final)"
   ]
  },
  {
   "cell_type": "code",
   "execution_count": 102,
   "metadata": {
    "scrolled": true
   },
   "outputs": [
    {
     "name": "stdout",
     "output_type": "stream",
     "text": [
      "9.348992080003073\n"
     ]
    }
   ],
   "source": [
    "Final_sMAPE = 25*score_rougher/100+75*score_final/100\n",
    "print(Final_sMAPE)"
   ]
  },
  {
   "cell_type": "markdown",
   "metadata": {},
   "source": [
    "# Вывод"
   ]
  },
  {
   "cell_type": "markdown",
   "metadata": {},
   "source": [
    "Данные для анализа и построения модели были получены в виде цельного датасета и двух датасетов(тренировочный и тестовый), которые являются частями исходного. Для анализа данных мы использовади цельный датасет, были обнаружены пропуски, в дальнейшем мы их заполнили, опираясь на сходство соседних строк датасета. Проанализировав концентрации веществ на разных этапах очистки, можно прийти к выводу, что очистка происходит корректно, концентрация золота увеличивается, посторонние вещества удаляются из смеси. Данные полные, хорошо описывающие весь процесс, следовательно, можно было приступать к построению модели. Лучшей моделью для предсказания признака rougher.output.recovery стала RandomForestRegressor(max_depth=18, n_estimators=52, random_state=12345). Для второго признака -- RandomForestRegressor(max_depth=18, n_estimators=52, random_state=12345). Итоговая метрика качества моделей по обоим признакам равна 9,85."
   ]
  }
 ],
 "metadata": {
  "ExecuteTimeLog": [
   {
    "duration": 2081,
    "start_time": "2023-01-08T14:52:07.574Z"
   },
   {
    "duration": 0,
    "start_time": "2023-01-08T14:52:09.656Z"
   },
   {
    "duration": 0,
    "start_time": "2023-01-08T14:52:09.657Z"
   },
   {
    "duration": 0,
    "start_time": "2023-01-08T14:52:09.658Z"
   },
   {
    "duration": 0,
    "start_time": "2023-01-08T14:52:09.659Z"
   },
   {
    "duration": 0,
    "start_time": "2023-01-08T14:52:09.660Z"
   },
   {
    "duration": 8,
    "start_time": "2023-01-08T14:52:09.678Z"
   },
   {
    "duration": 8,
    "start_time": "2023-01-08T14:52:09.941Z"
   },
   {
    "duration": 9,
    "start_time": "2023-01-08T14:52:10.239Z"
   },
   {
    "duration": 11,
    "start_time": "2023-01-08T14:52:10.494Z"
   },
   {
    "duration": 9,
    "start_time": "2023-01-08T14:52:10.930Z"
   },
   {
    "duration": 7250,
    "start_time": "2023-01-08T14:53:08.944Z"
   },
   {
    "duration": 1259,
    "start_time": "2023-01-08T14:53:17.633Z"
   },
   {
    "duration": 4774,
    "start_time": "2023-01-08T14:53:59.305Z"
   },
   {
    "duration": 1249,
    "start_time": "2023-01-08T14:54:08.023Z"
   },
   {
    "duration": 2,
    "start_time": "2023-01-08T14:54:09.822Z"
   },
   {
    "duration": 3,
    "start_time": "2023-01-08T14:54:11.088Z"
   },
   {
    "duration": 1596,
    "start_time": "2023-01-08T14:54:11.471Z"
   },
   {
    "duration": 24,
    "start_time": "2023-01-08T14:54:13.069Z"
   },
   {
    "duration": 20,
    "start_time": "2023-01-08T14:54:13.094Z"
   },
   {
    "duration": 4,
    "start_time": "2023-01-08T14:54:13.763Z"
   },
   {
    "duration": 4,
    "start_time": "2023-01-08T14:54:14.290Z"
   },
   {
    "duration": 4,
    "start_time": "2023-01-08T14:54:15.026Z"
   },
   {
    "duration": 5,
    "start_time": "2023-01-08T14:54:15.766Z"
   },
   {
    "duration": 6,
    "start_time": "2023-01-08T14:54:16.349Z"
   },
   {
    "duration": 9,
    "start_time": "2023-01-08T14:54:25.016Z"
   },
   {
    "duration": 2,
    "start_time": "2023-01-08T14:54:26.986Z"
   },
   {
    "duration": 2,
    "start_time": "2023-01-08T14:54:28.800Z"
   },
   {
    "duration": 25,
    "start_time": "2023-01-08T14:57:08.059Z"
   },
   {
    "duration": 4,
    "start_time": "2023-01-08T14:57:13.445Z"
   },
   {
    "duration": 116,
    "start_time": "2023-01-08T14:57:26.754Z"
   },
   {
    "duration": 8,
    "start_time": "2023-01-08T14:57:41.458Z"
   },
   {
    "duration": 18,
    "start_time": "2023-01-08T14:58:01.685Z"
   },
   {
    "duration": 7,
    "start_time": "2023-01-08T14:58:12.702Z"
   },
   {
    "duration": 8,
    "start_time": "2023-01-08T14:58:47.976Z"
   },
   {
    "duration": 11,
    "start_time": "2023-01-08T14:58:57.300Z"
   },
   {
    "duration": 19,
    "start_time": "2023-01-08T14:59:34.966Z"
   },
   {
    "duration": 14,
    "start_time": "2023-01-08T14:59:43.750Z"
   },
   {
    "duration": 11,
    "start_time": "2023-01-08T15:01:02.829Z"
   },
   {
    "duration": 14,
    "start_time": "2023-01-08T15:01:44.158Z"
   },
   {
    "duration": 12,
    "start_time": "2023-01-08T15:01:56.646Z"
   },
   {
    "duration": 12,
    "start_time": "2023-01-08T15:02:59.499Z"
   },
   {
    "duration": 14,
    "start_time": "2023-01-08T15:04:18.023Z"
   },
   {
    "duration": 26,
    "start_time": "2023-01-08T15:05:38.124Z"
   },
   {
    "duration": 19,
    "start_time": "2023-01-08T15:06:02.361Z"
   },
   {
    "duration": 21,
    "start_time": "2023-01-08T15:07:58.367Z"
   },
   {
    "duration": 12,
    "start_time": "2023-01-08T15:09:22.664Z"
   },
   {
    "duration": 11,
    "start_time": "2023-01-08T15:11:32.600Z"
   },
   {
    "duration": 17,
    "start_time": "2023-01-08T15:12:09.869Z"
   },
   {
    "duration": 73,
    "start_time": "2023-01-08T15:13:48.594Z"
   },
   {
    "duration": 15,
    "start_time": "2023-01-08T15:13:56.496Z"
   },
   {
    "duration": 11,
    "start_time": "2023-01-08T15:14:05.060Z"
   },
   {
    "duration": 27,
    "start_time": "2023-01-08T15:14:49.811Z"
   },
   {
    "duration": 13,
    "start_time": "2023-01-08T15:15:31.117Z"
   },
   {
    "duration": 13,
    "start_time": "2023-01-08T15:15:55.216Z"
   },
   {
    "duration": 11,
    "start_time": "2023-01-08T15:16:04.378Z"
   },
   {
    "duration": 11,
    "start_time": "2023-01-08T15:16:10.026Z"
   },
   {
    "duration": 11,
    "start_time": "2023-01-08T16:06:13.327Z"
   },
   {
    "duration": 34,
    "start_time": "2023-01-08T16:16:59.534Z"
   },
   {
    "duration": 7,
    "start_time": "2023-01-08T16:28:15.268Z"
   },
   {
    "duration": 21,
    "start_time": "2023-01-08T16:29:23.001Z"
   },
   {
    "duration": 9,
    "start_time": "2023-01-08T16:30:54.558Z"
   },
   {
    "duration": 5,
    "start_time": "2023-01-08T16:31:56.092Z"
   },
   {
    "duration": 14,
    "start_time": "2023-01-08T16:48:04.900Z"
   },
   {
    "duration": 11,
    "start_time": "2023-01-08T16:48:23.589Z"
   },
   {
    "duration": 9,
    "start_time": "2023-01-08T17:43:23.397Z"
   },
   {
    "duration": 48,
    "start_time": "2023-01-08T17:44:13.092Z"
   },
   {
    "duration": 260,
    "start_time": "2023-01-08T17:44:48.939Z"
   },
   {
    "duration": 74,
    "start_time": "2023-01-08T17:45:51.181Z"
   },
   {
    "duration": 253,
    "start_time": "2023-01-08T17:45:56.073Z"
   },
   {
    "duration": 251,
    "start_time": "2023-01-08T17:46:28.618Z"
   },
   {
    "duration": 284,
    "start_time": "2023-01-08T17:47:29.952Z"
   },
   {
    "duration": 3,
    "start_time": "2023-01-08T18:00:09.949Z"
   },
   {
    "duration": 4,
    "start_time": "2023-01-08T18:00:17.629Z"
   },
   {
    "duration": 3593,
    "start_time": "2023-01-08T18:20:30.433Z"
   },
   {
    "duration": 1231,
    "start_time": "2023-01-08T18:20:34.028Z"
   },
   {
    "duration": 2,
    "start_time": "2023-01-08T18:20:35.261Z"
   },
   {
    "duration": 10,
    "start_time": "2023-01-08T18:20:35.265Z"
   },
   {
    "duration": 1695,
    "start_time": "2023-01-08T18:20:35.277Z"
   },
   {
    "duration": 25,
    "start_time": "2023-01-08T18:20:36.974Z"
   },
   {
    "duration": 24,
    "start_time": "2023-01-08T18:20:37.001Z"
   },
   {
    "duration": 3,
    "start_time": "2023-01-08T18:20:37.027Z"
   },
   {
    "duration": 6,
    "start_time": "2023-01-08T18:20:37.032Z"
   },
   {
    "duration": 11,
    "start_time": "2023-01-08T18:20:37.040Z"
   },
   {
    "duration": 15,
    "start_time": "2023-01-08T18:20:37.052Z"
   },
   {
    "duration": 9,
    "start_time": "2023-01-08T18:20:37.068Z"
   },
   {
    "duration": 10,
    "start_time": "2023-01-08T18:20:37.079Z"
   },
   {
    "duration": 2,
    "start_time": "2023-01-08T18:20:37.090Z"
   },
   {
    "duration": 4,
    "start_time": "2023-01-08T18:20:37.094Z"
   },
   {
    "duration": 35,
    "start_time": "2023-01-08T18:20:37.113Z"
   },
   {
    "duration": 4,
    "start_time": "2023-01-08T18:20:37.150Z"
   },
   {
    "duration": 11921,
    "start_time": "2023-01-08T18:20:37.156Z"
   },
   {
    "duration": 2,
    "start_time": "2023-01-08T18:20:49.079Z"
   },
   {
    "duration": 21,
    "start_time": "2023-01-08T18:20:49.083Z"
   },
   {
    "duration": 122,
    "start_time": "2023-01-08T18:20:49.106Z"
   },
   {
    "duration": 7,
    "start_time": "2023-01-08T18:20:49.230Z"
   },
   {
    "duration": 10,
    "start_time": "2023-01-08T18:20:49.238Z"
   },
   {
    "duration": 13,
    "start_time": "2023-01-08T18:20:49.250Z"
   },
   {
    "duration": 20,
    "start_time": "2023-01-08T18:20:49.265Z"
   },
   {
    "duration": 6,
    "start_time": "2023-01-08T18:20:49.286Z"
   },
   {
    "duration": 20,
    "start_time": "2023-01-08T18:20:49.294Z"
   },
   {
    "duration": 4,
    "start_time": "2023-01-08T18:20:49.317Z"
   },
   {
    "duration": 6,
    "start_time": "2023-01-08T18:20:49.323Z"
   },
   {
    "duration": 6,
    "start_time": "2023-01-08T18:20:49.330Z"
   },
   {
    "duration": 1676,
    "start_time": "2023-01-08T18:20:49.337Z"
   },
   {
    "duration": 1635,
    "start_time": "2023-01-08T18:20:51.015Z"
   },
   {
    "duration": 1416,
    "start_time": "2023-01-08T18:20:52.651Z"
   },
   {
    "duration": 3,
    "start_time": "2023-01-08T18:20:54.068Z"
   },
   {
    "duration": 6,
    "start_time": "2023-01-08T18:20:54.072Z"
   },
   {
    "duration": 943,
    "start_time": "2023-01-08T18:20:54.080Z"
   },
   {
    "duration": 580,
    "start_time": "2023-01-08T18:20:55.024Z"
   },
   {
    "duration": 622,
    "start_time": "2023-01-08T18:20:55.605Z"
   },
   {
    "duration": 2,
    "start_time": "2023-01-08T18:20:56.229Z"
   },
   {
    "duration": 9,
    "start_time": "2023-01-08T18:20:56.233Z"
   },
   {
    "duration": 13,
    "start_time": "2023-01-08T18:20:56.244Z"
   },
   {
    "duration": 15,
    "start_time": "2023-01-08T18:20:56.259Z"
   },
   {
    "duration": 1615,
    "start_time": "2023-01-08T18:20:56.276Z"
   },
   {
    "duration": 2,
    "start_time": "2023-01-08T18:20:57.893Z"
   },
   {
    "duration": 13,
    "start_time": "2023-01-08T18:20:57.905Z"
   },
   {
    "duration": 10,
    "start_time": "2023-01-08T18:20:57.919Z"
   },
   {
    "duration": 12,
    "start_time": "2023-01-08T18:20:57.931Z"
   },
   {
    "duration": 7,
    "start_time": "2023-01-08T18:20:57.945Z"
   },
   {
    "duration": 5,
    "start_time": "2023-01-08T18:20:57.953Z"
   },
   {
    "duration": 47,
    "start_time": "2023-01-08T18:20:57.960Z"
   },
   {
    "duration": 2,
    "start_time": "2023-01-08T18:20:58.013Z"
   },
   {
    "duration": 11,
    "start_time": "2023-01-08T18:20:58.017Z"
   },
   {
    "duration": 12,
    "start_time": "2023-01-08T18:20:58.029Z"
   },
   {
    "duration": 16,
    "start_time": "2023-01-08T18:20:58.043Z"
   },
   {
    "duration": 12,
    "start_time": "2023-01-08T18:20:58.061Z"
   },
   {
    "duration": 6,
    "start_time": "2023-01-08T18:20:58.075Z"
   },
   {
    "duration": 14,
    "start_time": "2023-01-08T18:20:58.083Z"
   },
   {
    "duration": 6,
    "start_time": "2023-01-08T18:20:58.099Z"
   },
   {
    "duration": 8,
    "start_time": "2023-01-08T18:20:58.106Z"
   },
   {
    "duration": 7,
    "start_time": "2023-01-08T18:20:58.116Z"
   },
   {
    "duration": 5,
    "start_time": "2023-01-08T18:20:58.124Z"
   },
   {
    "duration": 8,
    "start_time": "2023-01-08T18:20:58.130Z"
   },
   {
    "duration": 9,
    "start_time": "2023-01-08T18:20:58.139Z"
   },
   {
    "duration": 19,
    "start_time": "2023-01-08T18:20:58.150Z"
   },
   {
    "duration": 14,
    "start_time": "2023-01-08T18:20:58.171Z"
   },
   {
    "duration": 11,
    "start_time": "2023-01-08T18:20:58.186Z"
   },
   {
    "duration": 7,
    "start_time": "2023-01-08T18:20:58.199Z"
   },
   {
    "duration": 10,
    "start_time": "2023-01-08T18:20:58.208Z"
   },
   {
    "duration": 4,
    "start_time": "2023-01-08T18:20:58.219Z"
   },
   {
    "duration": 2008365,
    "start_time": "2023-01-08T18:20:58.224Z"
   },
   {
    "duration": 8,
    "start_time": "2023-01-08T18:54:26.591Z"
   },
   {
    "duration": 3,
    "start_time": "2023-01-08T18:54:26.615Z"
   },
   {
    "duration": 9,
    "start_time": "2023-01-08T18:54:26.620Z"
   },
   {
    "duration": 6,
    "start_time": "2023-01-08T18:54:26.631Z"
   },
   {
    "duration": 16,
    "start_time": "2023-01-08T18:54:26.639Z"
   },
   {
    "duration": 2186299,
    "start_time": "2023-01-08T18:54:26.657Z"
   },
   {
    "duration": 7,
    "start_time": "2023-01-08T19:30:52.957Z"
   },
   {
    "duration": 19,
    "start_time": "2023-01-08T19:30:52.966Z"
   },
   {
    "duration": 39,
    "start_time": "2023-01-08T19:30:52.986Z"
   },
   {
    "duration": 16,
    "start_time": "2023-01-08T19:30:53.026Z"
   },
   {
    "duration": 43,
    "start_time": "2023-01-08T19:30:53.043Z"
   },
   {
    "duration": 19,
    "start_time": "2023-01-08T19:30:53.091Z"
   },
   {
    "duration": 33,
    "start_time": "2023-01-08T19:30:53.111Z"
   },
   {
    "duration": 25,
    "start_time": "2023-01-08T19:30:53.145Z"
   },
   {
    "duration": 23,
    "start_time": "2023-01-08T19:30:53.172Z"
   },
   {
    "duration": 53,
    "start_time": "2023-01-08T19:30:53.197Z"
   },
   {
    "duration": 38,
    "start_time": "2023-01-08T19:30:53.251Z"
   },
   {
    "duration": 31,
    "start_time": "2023-01-08T19:30:53.290Z"
   },
   {
    "duration": 87,
    "start_time": "2023-01-08T19:30:53.322Z"
   },
   {
    "duration": 67,
    "start_time": "2023-01-08T19:30:53.410Z"
   },
   {
    "duration": 3,
    "start_time": "2023-01-08T19:30:53.479Z"
   },
   {
    "duration": 13,
    "start_time": "2023-01-08T19:30:53.483Z"
   },
   {
    "duration": 42,
    "start_time": "2023-01-08T19:36:58.288Z"
   },
   {
    "duration": 4,
    "start_time": "2023-01-08T19:49:05.844Z"
   },
   {
    "duration": 20,
    "start_time": "2023-01-08T19:49:16.451Z"
   },
   {
    "duration": 115,
    "start_time": "2023-01-08T19:49:26.066Z"
   },
   {
    "duration": 9,
    "start_time": "2023-01-08T19:49:51.157Z"
   },
   {
    "duration": 1775,
    "start_time": "2023-01-08T19:50:10.539Z"
   },
   {
    "duration": 4,
    "start_time": "2023-01-08T19:50:45.362Z"
   },
   {
    "duration": 11,
    "start_time": "2023-01-08T19:52:21.777Z"
   },
   {
    "duration": 1540,
    "start_time": "2023-01-08T19:52:24.481Z"
   },
   {
    "duration": 3,
    "start_time": "2023-01-08T19:52:28.237Z"
   },
   {
    "duration": 6,
    "start_time": "2023-01-08T19:52:36.670Z"
   },
   {
    "duration": 1766,
    "start_time": "2023-01-08T19:52:37.151Z"
   },
   {
    "duration": 7,
    "start_time": "2023-01-08T19:52:38.919Z"
   },
   {
    "duration": 5,
    "start_time": "2023-01-08T19:53:04.010Z"
   },
   {
    "duration": 433,
    "start_time": "2023-01-08T19:53:04.580Z"
   },
   {
    "duration": 4,
    "start_time": "2023-01-08T19:53:07.234Z"
   },
   {
    "duration": 6,
    "start_time": "2023-01-08T19:53:16.544Z"
   },
   {
    "duration": 15,
    "start_time": "2023-01-08T19:53:17.447Z"
   },
   {
    "duration": 5,
    "start_time": "2023-01-08T19:54:23.956Z"
   },
   {
    "duration": 17027,
    "start_time": "2023-01-08T19:54:24.903Z"
   },
   {
    "duration": 4,
    "start_time": "2023-01-08T19:54:41.933Z"
   },
   {
    "duration": 5,
    "start_time": "2023-01-08T19:54:54.291Z"
   },
   {
    "duration": 1070,
    "start_time": "2023-01-08T19:54:54.942Z"
   },
   {
    "duration": 4,
    "start_time": "2023-01-08T19:54:56.385Z"
   },
   {
    "duration": 5,
    "start_time": "2023-01-08T19:55:07.234Z"
   },
   {
    "duration": 416,
    "start_time": "2023-01-08T19:55:07.854Z"
   },
   {
    "duration": 5,
    "start_time": "2023-01-08T19:55:09.154Z"
   },
   {
    "duration": 9,
    "start_time": "2023-01-08T20:06:32.273Z"
   },
   {
    "duration": 11,
    "start_time": "2023-01-08T20:06:39.453Z"
   },
   {
    "duration": 7,
    "start_time": "2023-01-08T20:06:49.458Z"
   },
   {
    "duration": 6,
    "start_time": "2023-01-08T20:06:52.037Z"
   },
   {
    "duration": 20,
    "start_time": "2023-01-08T20:06:57.994Z"
   },
   {
    "duration": 10,
    "start_time": "2023-01-08T20:08:35.536Z"
   },
   {
    "duration": 9,
    "start_time": "2023-01-08T20:08:39.609Z"
   },
   {
    "duration": 9,
    "start_time": "2023-01-08T20:09:34.571Z"
   },
   {
    "duration": 13,
    "start_time": "2023-01-08T20:09:53.139Z"
   },
   {
    "duration": 4,
    "start_time": "2023-01-08T20:09:59.643Z"
   },
   {
    "duration": 11,
    "start_time": "2023-01-08T20:17:40.754Z"
   },
   {
    "duration": 4,
    "start_time": "2023-01-08T20:21:18.864Z"
   },
   {
    "duration": 8,
    "start_time": "2023-01-08T20:21:40.086Z"
   },
   {
    "duration": 6066,
    "start_time": "2023-01-08T20:22:07.751Z"
   },
   {
    "duration": 6,
    "start_time": "2023-01-08T20:22:18.812Z"
   },
   {
    "duration": 7,
    "start_time": "2023-01-08T20:23:38.262Z"
   },
   {
    "duration": 6313,
    "start_time": "2023-01-08T20:25:21.777Z"
   },
   {
    "duration": 6,
    "start_time": "2023-01-08T20:25:28.092Z"
   },
   {
    "duration": 7,
    "start_time": "2023-01-08T20:25:31.871Z"
   },
   {
    "duration": 7,
    "start_time": "2023-01-08T20:25:54.954Z"
   },
   {
    "duration": 4,
    "start_time": "2023-01-24T13:16:25.067Z"
   },
   {
    "duration": 1944,
    "start_time": "2023-01-24T13:16:25.076Z"
   },
   {
    "duration": 0,
    "start_time": "2023-01-24T13:16:27.024Z"
   },
   {
    "duration": 0,
    "start_time": "2023-01-24T13:16:27.025Z"
   },
   {
    "duration": 0,
    "start_time": "2023-01-24T13:16:27.026Z"
   },
   {
    "duration": 0,
    "start_time": "2023-01-24T13:16:27.027Z"
   },
   {
    "duration": 0,
    "start_time": "2023-01-24T13:16:27.028Z"
   },
   {
    "duration": 0,
    "start_time": "2023-01-24T13:16:27.029Z"
   },
   {
    "duration": 0,
    "start_time": "2023-01-24T13:16:27.030Z"
   },
   {
    "duration": 0,
    "start_time": "2023-01-24T13:16:27.032Z"
   },
   {
    "duration": 0,
    "start_time": "2023-01-24T13:16:27.033Z"
   },
   {
    "duration": 0,
    "start_time": "2023-01-24T13:16:27.034Z"
   },
   {
    "duration": 0,
    "start_time": "2023-01-24T13:16:27.035Z"
   },
   {
    "duration": 0,
    "start_time": "2023-01-24T13:16:27.037Z"
   },
   {
    "duration": 0,
    "start_time": "2023-01-24T13:16:27.038Z"
   },
   {
    "duration": 0,
    "start_time": "2023-01-24T13:16:27.039Z"
   },
   {
    "duration": 0,
    "start_time": "2023-01-24T13:16:27.040Z"
   },
   {
    "duration": 0,
    "start_time": "2023-01-24T13:16:27.041Z"
   },
   {
    "duration": 0,
    "start_time": "2023-01-24T13:16:27.042Z"
   },
   {
    "duration": 0,
    "start_time": "2023-01-24T13:16:27.043Z"
   },
   {
    "duration": 0,
    "start_time": "2023-01-24T13:16:27.044Z"
   },
   {
    "duration": 0,
    "start_time": "2023-01-24T13:16:27.045Z"
   },
   {
    "duration": 0,
    "start_time": "2023-01-24T13:16:27.046Z"
   },
   {
    "duration": 0,
    "start_time": "2023-01-24T13:16:27.047Z"
   },
   {
    "duration": 0,
    "start_time": "2023-01-24T13:16:27.048Z"
   },
   {
    "duration": 0,
    "start_time": "2023-01-24T13:16:27.049Z"
   },
   {
    "duration": 0,
    "start_time": "2023-01-24T13:16:27.050Z"
   },
   {
    "duration": 0,
    "start_time": "2023-01-24T13:16:27.051Z"
   },
   {
    "duration": 0,
    "start_time": "2023-01-24T13:16:27.053Z"
   },
   {
    "duration": 0,
    "start_time": "2023-01-24T13:16:27.054Z"
   },
   {
    "duration": 0,
    "start_time": "2023-01-24T13:16:27.055Z"
   },
   {
    "duration": 0,
    "start_time": "2023-01-24T13:16:27.056Z"
   },
   {
    "duration": 0,
    "start_time": "2023-01-24T13:16:27.057Z"
   },
   {
    "duration": 0,
    "start_time": "2023-01-24T13:16:27.058Z"
   },
   {
    "duration": 0,
    "start_time": "2023-01-24T13:16:27.059Z"
   },
   {
    "duration": 0,
    "start_time": "2023-01-24T13:16:27.060Z"
   },
   {
    "duration": 0,
    "start_time": "2023-01-24T13:16:27.062Z"
   },
   {
    "duration": 0,
    "start_time": "2023-01-24T13:16:27.063Z"
   },
   {
    "duration": 0,
    "start_time": "2023-01-24T13:16:27.064Z"
   },
   {
    "duration": 0,
    "start_time": "2023-01-24T13:16:27.065Z"
   },
   {
    "duration": 0,
    "start_time": "2023-01-24T13:16:27.066Z"
   },
   {
    "duration": 0,
    "start_time": "2023-01-24T13:16:27.128Z"
   },
   {
    "duration": 0,
    "start_time": "2023-01-24T13:16:27.129Z"
   },
   {
    "duration": 0,
    "start_time": "2023-01-24T13:16:27.131Z"
   },
   {
    "duration": 0,
    "start_time": "2023-01-24T13:16:27.132Z"
   },
   {
    "duration": 0,
    "start_time": "2023-01-24T13:16:27.133Z"
   },
   {
    "duration": 0,
    "start_time": "2023-01-24T13:16:27.134Z"
   },
   {
    "duration": 0,
    "start_time": "2023-01-24T13:16:27.136Z"
   },
   {
    "duration": 0,
    "start_time": "2023-01-24T13:16:27.137Z"
   },
   {
    "duration": 0,
    "start_time": "2023-01-24T13:16:27.143Z"
   },
   {
    "duration": 0,
    "start_time": "2023-01-24T13:16:27.145Z"
   },
   {
    "duration": 0,
    "start_time": "2023-01-24T13:16:27.146Z"
   },
   {
    "duration": 0,
    "start_time": "2023-01-24T13:16:27.148Z"
   },
   {
    "duration": 0,
    "start_time": "2023-01-24T13:16:27.149Z"
   },
   {
    "duration": 0,
    "start_time": "2023-01-24T13:16:27.151Z"
   },
   {
    "duration": 0,
    "start_time": "2023-01-24T13:16:27.153Z"
   },
   {
    "duration": 0,
    "start_time": "2023-01-24T13:16:27.154Z"
   },
   {
    "duration": 0,
    "start_time": "2023-01-24T13:16:27.156Z"
   },
   {
    "duration": 0,
    "start_time": "2023-01-24T13:16:27.158Z"
   },
   {
    "duration": 0,
    "start_time": "2023-01-24T13:16:27.159Z"
   },
   {
    "duration": 0,
    "start_time": "2023-01-24T13:16:27.161Z"
   },
   {
    "duration": 0,
    "start_time": "2023-01-24T13:16:27.163Z"
   },
   {
    "duration": 0,
    "start_time": "2023-01-24T13:16:27.165Z"
   },
   {
    "duration": 0,
    "start_time": "2023-01-24T13:16:27.166Z"
   },
   {
    "duration": 0,
    "start_time": "2023-01-24T13:16:27.227Z"
   },
   {
    "duration": 0,
    "start_time": "2023-01-24T13:16:27.229Z"
   },
   {
    "duration": 0,
    "start_time": "2023-01-24T13:16:27.230Z"
   },
   {
    "duration": 0,
    "start_time": "2023-01-24T13:16:27.232Z"
   },
   {
    "duration": 0,
    "start_time": "2023-01-24T13:16:27.234Z"
   },
   {
    "duration": 0,
    "start_time": "2023-01-24T13:16:27.235Z"
   },
   {
    "duration": 0,
    "start_time": "2023-01-24T13:16:27.236Z"
   },
   {
    "duration": 0,
    "start_time": "2023-01-24T13:16:27.237Z"
   },
   {
    "duration": 0,
    "start_time": "2023-01-24T13:16:27.238Z"
   },
   {
    "duration": 0,
    "start_time": "2023-01-24T13:16:27.238Z"
   },
   {
    "duration": 0,
    "start_time": "2023-01-24T13:16:27.239Z"
   },
   {
    "duration": 0,
    "start_time": "2023-01-24T13:16:27.241Z"
   },
   {
    "duration": 0,
    "start_time": "2023-01-24T13:16:27.242Z"
   },
   {
    "duration": 0,
    "start_time": "2023-01-24T13:16:27.242Z"
   },
   {
    "duration": 0,
    "start_time": "2023-01-24T13:16:27.244Z"
   },
   {
    "duration": 0,
    "start_time": "2023-01-24T13:16:27.245Z"
   },
   {
    "duration": 0,
    "start_time": "2023-01-24T13:16:27.246Z"
   },
   {
    "duration": 0,
    "start_time": "2023-01-24T13:16:27.247Z"
   },
   {
    "duration": 0,
    "start_time": "2023-01-24T13:16:27.248Z"
   },
   {
    "duration": 0,
    "start_time": "2023-01-24T13:16:27.249Z"
   },
   {
    "duration": 0,
    "start_time": "2023-01-24T13:16:27.250Z"
   },
   {
    "duration": 0,
    "start_time": "2023-01-24T13:16:27.251Z"
   },
   {
    "duration": 0,
    "start_time": "2023-01-24T13:16:27.252Z"
   },
   {
    "duration": 0,
    "start_time": "2023-01-24T13:16:27.253Z"
   },
   {
    "duration": 0,
    "start_time": "2023-01-24T13:16:27.254Z"
   },
   {
    "duration": 0,
    "start_time": "2023-01-24T13:16:27.256Z"
   },
   {
    "duration": 0,
    "start_time": "2023-01-24T13:16:27.257Z"
   },
   {
    "duration": 0,
    "start_time": "2023-01-24T13:16:27.258Z"
   },
   {
    "duration": 0,
    "start_time": "2023-01-24T13:16:27.259Z"
   },
   {
    "duration": 0,
    "start_time": "2023-01-24T13:16:27.260Z"
   },
   {
    "duration": 0,
    "start_time": "2023-01-24T13:16:27.261Z"
   },
   {
    "duration": 0,
    "start_time": "2023-01-24T13:16:27.262Z"
   },
   {
    "duration": 0,
    "start_time": "2023-01-24T13:16:27.327Z"
   },
   {
    "duration": 0,
    "start_time": "2023-01-24T13:16:27.329Z"
   },
   {
    "duration": 0,
    "start_time": "2023-01-24T13:16:27.330Z"
   },
   {
    "duration": 0,
    "start_time": "2023-01-24T13:16:27.331Z"
   },
   {
    "duration": 0,
    "start_time": "2023-01-24T13:16:27.332Z"
   },
   {
    "duration": 0,
    "start_time": "2023-01-24T13:16:27.333Z"
   },
   {
    "duration": 0,
    "start_time": "2023-01-24T13:16:27.334Z"
   },
   {
    "duration": 9965,
    "start_time": "2023-01-24T13:16:44.084Z"
   },
   {
    "duration": 1294,
    "start_time": "2023-01-24T13:16:54.052Z"
   },
   {
    "duration": 2,
    "start_time": "2023-01-24T13:16:55.347Z"
   },
   {
    "duration": 53,
    "start_time": "2023-01-24T13:16:55.351Z"
   },
   {
    "duration": 2275,
    "start_time": "2023-01-24T13:16:55.405Z"
   },
   {
    "duration": 27,
    "start_time": "2023-01-24T13:16:57.682Z"
   },
   {
    "duration": 23,
    "start_time": "2023-01-24T13:16:57.711Z"
   },
   {
    "duration": 9,
    "start_time": "2023-01-24T13:16:57.735Z"
   },
   {
    "duration": 15,
    "start_time": "2023-01-24T13:16:57.746Z"
   },
   {
    "duration": 29,
    "start_time": "2023-01-24T13:16:57.764Z"
   },
   {
    "duration": 9,
    "start_time": "2023-01-24T13:16:57.795Z"
   },
   {
    "duration": 9,
    "start_time": "2023-01-24T13:16:57.806Z"
   },
   {
    "duration": 13,
    "start_time": "2023-01-24T13:16:57.816Z"
   },
   {
    "duration": 3,
    "start_time": "2023-01-24T13:16:57.831Z"
   },
   {
    "duration": 12,
    "start_time": "2023-01-24T13:16:57.835Z"
   },
   {
    "duration": 66,
    "start_time": "2023-01-24T13:16:57.849Z"
   },
   {
    "duration": 5,
    "start_time": "2023-01-24T13:16:57.917Z"
   },
   {
    "duration": 13505,
    "start_time": "2023-01-24T13:16:57.924Z"
   },
   {
    "duration": 2,
    "start_time": "2023-01-24T13:17:11.431Z"
   },
   {
    "duration": 43,
    "start_time": "2023-01-24T13:17:11.435Z"
   },
   {
    "duration": 126,
    "start_time": "2023-01-24T13:17:11.480Z"
   },
   {
    "duration": 7,
    "start_time": "2023-01-24T13:17:11.609Z"
   },
   {
    "duration": 42,
    "start_time": "2023-01-24T13:17:11.617Z"
   },
   {
    "duration": 21,
    "start_time": "2023-01-24T13:17:11.661Z"
   },
   {
    "duration": 38,
    "start_time": "2023-01-24T13:17:11.685Z"
   },
   {
    "duration": 25,
    "start_time": "2023-01-24T13:17:11.724Z"
   },
   {
    "duration": 48,
    "start_time": "2023-01-24T13:17:11.751Z"
   },
   {
    "duration": 20,
    "start_time": "2023-01-24T13:17:11.805Z"
   },
   {
    "duration": 31,
    "start_time": "2023-01-24T13:17:11.827Z"
   },
   {
    "duration": 50,
    "start_time": "2023-01-24T13:17:11.861Z"
   },
   {
    "duration": 1842,
    "start_time": "2023-01-24T13:17:11.913Z"
   },
   {
    "duration": 1775,
    "start_time": "2023-01-24T13:17:13.758Z"
   },
   {
    "duration": 1726,
    "start_time": "2023-01-24T13:17:15.535Z"
   },
   {
    "duration": 2,
    "start_time": "2023-01-24T13:17:17.263Z"
   },
   {
    "duration": 7,
    "start_time": "2023-01-24T13:17:17.267Z"
   },
   {
    "duration": 600,
    "start_time": "2023-01-24T13:17:17.275Z"
   },
   {
    "duration": 617,
    "start_time": "2023-01-24T13:17:17.878Z"
   },
   {
    "duration": 3,
    "start_time": "2023-01-24T13:17:18.497Z"
   },
   {
    "duration": 10,
    "start_time": "2023-01-24T13:17:18.502Z"
   },
   {
    "duration": 8,
    "start_time": "2023-01-24T13:17:18.513Z"
   },
   {
    "duration": 13,
    "start_time": "2023-01-24T13:17:18.528Z"
   },
   {
    "duration": 1818,
    "start_time": "2023-01-24T13:17:18.543Z"
   },
   {
    "duration": 4,
    "start_time": "2023-01-24T13:17:20.363Z"
   },
   {
    "duration": 39,
    "start_time": "2023-01-24T13:17:20.369Z"
   },
   {
    "duration": 13,
    "start_time": "2023-01-24T13:17:20.410Z"
   },
   {
    "duration": 34,
    "start_time": "2023-01-24T13:17:20.425Z"
   },
   {
    "duration": 27,
    "start_time": "2023-01-24T13:17:20.461Z"
   },
   {
    "duration": 11,
    "start_time": "2023-01-24T13:17:20.491Z"
   },
   {
    "duration": 51,
    "start_time": "2023-01-24T13:17:20.505Z"
   },
   {
    "duration": 5,
    "start_time": "2023-01-24T13:17:20.558Z"
   },
   {
    "duration": 49,
    "start_time": "2023-01-24T13:17:20.564Z"
   },
   {
    "duration": 73,
    "start_time": "2023-01-24T13:17:20.616Z"
   },
   {
    "duration": 45,
    "start_time": "2023-01-24T13:17:20.691Z"
   },
   {
    "duration": 36,
    "start_time": "2023-01-24T13:17:20.738Z"
   },
   {
    "duration": 22,
    "start_time": "2023-01-24T13:17:20.776Z"
   },
   {
    "duration": 43,
    "start_time": "2023-01-24T13:17:20.800Z"
   },
   {
    "duration": 50,
    "start_time": "2023-01-24T13:17:20.845Z"
   },
   {
    "duration": 33,
    "start_time": "2023-01-24T13:17:20.898Z"
   },
   {
    "duration": 50,
    "start_time": "2023-01-24T13:17:20.933Z"
   },
   {
    "duration": 58,
    "start_time": "2023-01-24T13:17:20.985Z"
   },
   {
    "duration": 67,
    "start_time": "2023-01-24T13:17:21.045Z"
   },
   {
    "duration": 36,
    "start_time": "2023-01-24T13:17:21.114Z"
   },
   {
    "duration": 22,
    "start_time": "2023-01-24T13:17:21.152Z"
   },
   {
    "duration": 32,
    "start_time": "2023-01-24T13:17:21.176Z"
   },
   {
    "duration": 22,
    "start_time": "2023-01-24T13:17:21.210Z"
   },
   {
    "duration": 33,
    "start_time": "2023-01-24T13:17:21.234Z"
   },
   {
    "duration": 41,
    "start_time": "2023-01-24T13:17:21.268Z"
   },
   {
    "duration": 43,
    "start_time": "2023-01-24T13:17:21.311Z"
   },
   {
    "duration": 46,
    "start_time": "2023-01-24T13:17:21.357Z"
   },
   {
    "duration": 2230905,
    "start_time": "2023-01-24T13:17:21.405Z"
   },
   {
    "duration": 8,
    "start_time": "2023-01-24T13:54:32.312Z"
   },
   {
    "duration": 21,
    "start_time": "2023-01-24T13:54:32.327Z"
   },
   {
    "duration": 25700,
    "start_time": "2023-01-24T13:54:32.350Z"
   },
   {
    "duration": 9,
    "start_time": "2023-01-24T13:54:58.052Z"
   },
   {
    "duration": 10,
    "start_time": "2023-01-24T13:54:58.063Z"
   },
   {
    "duration": 15,
    "start_time": "2023-01-24T13:54:58.075Z"
   },
   {
    "duration": 44844,
    "start_time": "2023-01-24T13:54:58.092Z"
   },
   {
    "duration": 19,
    "start_time": "2023-01-24T13:55:42.937Z"
   },
   {
    "duration": 55,
    "start_time": "2023-01-24T13:55:42.958Z"
   },
   {
    "duration": 34,
    "start_time": "2023-01-24T13:55:43.015Z"
   },
   {
    "duration": 37,
    "start_time": "2023-01-24T13:55:43.051Z"
   },
   {
    "duration": 24,
    "start_time": "2023-01-24T13:55:43.093Z"
   },
   {
    "duration": 2454353,
    "start_time": "2023-01-24T13:55:43.121Z"
   },
   {
    "duration": 3,
    "start_time": "2023-01-24T14:36:37.477Z"
   },
   {
    "duration": 26991,
    "start_time": "2023-01-24T14:36:37.482Z"
   },
   {
    "duration": 2,
    "start_time": "2023-01-24T14:37:04.475Z"
   },
   {
    "duration": 45029,
    "start_time": "2023-01-24T14:37:04.487Z"
   },
   {
    "duration": 22,
    "start_time": "2023-01-24T14:37:49.518Z"
   },
   {
    "duration": 10,
    "start_time": "2023-01-24T14:37:49.541Z"
   },
   {
    "duration": 6,
    "start_time": "2023-01-24T14:37:49.553Z"
   },
   {
    "duration": 15,
    "start_time": "2023-01-24T14:37:49.560Z"
   },
   {
    "duration": 5,
    "start_time": "2023-01-24T14:37:49.577Z"
   },
   {
    "duration": 10,
    "start_time": "2023-01-24T14:37:49.583Z"
   },
   {
    "duration": 15,
    "start_time": "2023-01-24T14:37:49.594Z"
   },
   {
    "duration": 5,
    "start_time": "2023-01-24T14:37:49.611Z"
   },
   {
    "duration": 7,
    "start_time": "2023-01-24T14:37:49.618Z"
   },
   {
    "duration": 11,
    "start_time": "2023-01-24T14:37:49.627Z"
   },
   {
    "duration": 5,
    "start_time": "2023-01-24T14:37:49.640Z"
   },
   {
    "duration": 20,
    "start_time": "2023-01-24T14:37:49.647Z"
   },
   {
    "duration": 58,
    "start_time": "2023-01-24T14:37:49.669Z"
   },
   {
    "duration": 54,
    "start_time": "2023-01-24T14:37:49.729Z"
   },
   {
    "duration": 3,
    "start_time": "2023-01-24T14:37:49.785Z"
   },
   {
    "duration": 26,
    "start_time": "2023-01-24T14:37:49.789Z"
   },
   {
    "duration": 4,
    "start_time": "2023-01-24T14:42:08.474Z"
   }
  ],
  "kernelspec": {
   "display_name": "Python 3",
   "language": "python",
   "name": "python3"
  },
  "language_info": {
   "codemirror_mode": {
    "name": "ipython",
    "version": 3
   },
   "file_extension": ".py",
   "mimetype": "text/x-python",
   "name": "python",
   "nbconvert_exporter": "python",
   "pygments_lexer": "ipython3",
   "version": "3.8.3"
  },
  "toc": {
   "base_numbering": 1,
   "nav_menu": {},
   "number_sections": true,
   "sideBar": true,
   "skip_h1_title": false,
   "title_cell": "Table of Contents",
   "title_sidebar": "Contents",
   "toc_cell": true,
   "toc_position": {
    "height": "calc(100% - 180px)",
    "left": "10px",
    "top": "150px",
    "width": "264.796875px"
   },
   "toc_section_display": true,
   "toc_window_display": true
  }
 },
 "nbformat": 4,
 "nbformat_minor": 4
}
