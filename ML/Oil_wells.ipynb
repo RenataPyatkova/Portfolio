{
 "cells": [
  {
   "cell_type": "markdown",
   "metadata": {
    "toc": true
   },
   "source": [
    "<h1>Table of Contents<span class=\"tocSkip\"></span></h1>\n",
    "<div class=\"toc\"><ul class=\"toc-item\"><li><span><a href=\"#Постановка-задачи\" data-toc-modified-id=\"Постановка-задачи-1\"><span class=\"toc-item-num\">1&nbsp;&nbsp;</span>Постановка задачи</a></span></li><li><span><a href=\"#Подготовка-данных\" data-toc-modified-id=\"Подготовка-данных-2\"><span class=\"toc-item-num\">2&nbsp;&nbsp;</span>Подготовка данных</a></span></li><li><span><a href=\"#Обучение-и-проверка-модели\" data-toc-modified-id=\"Обучение-и-проверка-модели-3\"><span class=\"toc-item-num\">3&nbsp;&nbsp;</span>Обучение и проверка модели</a></span></li><li><span><a href=\"#Расчет-прибыли\" data-toc-modified-id=\"Расчет-прибыли-4\"><span class=\"toc-item-num\">4&nbsp;&nbsp;</span>Расчет прибыли</a></span></li><li><span><a href=\"#Расчет-рисков-и-прибыли-для-каждого-региона\" data-toc-modified-id=\"Расчет-рисков-и-прибыли-для-каждого-региона-5\"><span class=\"toc-item-num\">5&nbsp;&nbsp;</span>Расчет рисков и прибыли для каждого региона</a></span></li><li><span><a href=\"#Вывод\" data-toc-modified-id=\"Вывод-6\"><span class=\"toc-item-num\">6&nbsp;&nbsp;</span>Вывод</a></span></li><li><span><a href=\"#Комментарий-ревьюера:-общий-вывод-по-проекту.\" data-toc-modified-id=\"Комментарий-ревьюера:-общий-вывод-по-проекту.-7\"><span class=\"toc-item-num\">7&nbsp;&nbsp;</span>Комментарий ревьюера: общий вывод по проекту.</a></span></li><li><span><a href=\"#Комментарий-ревьюера:-общий-вывод-по-проекту-v.2.\" data-toc-modified-id=\"Комментарий-ревьюера:-общий-вывод-по-проекту-v.2.-8\"><span class=\"toc-item-num\">8&nbsp;&nbsp;</span>Комментарий ревьюера: общий вывод по проекту v.2.</a></span></li></ul></div>"
   ]
  },
  {
   "cell_type": "markdown",
   "metadata": {},
   "source": [
    "# Постановка задачи"
   ]
  },
  {
   "cell_type": "markdown",
   "metadata": {},
   "source": [
    "**Цель:**\n",
    "\n",
    "Нужно решить, где стоит бурить новую скважину компании \"ГлавРосГосНефть\".\n",
    "\n",
    "**План работы:**\n",
    "\n",
    "- В избранном регионе найти месторождения, для каждого определить значения признаков;\n",
    "- Построить модель и оценить объём запасов;\n",
    "- Выбрать месторождения с самыми высокими оценками значений. Количество месторождений зависит от бюджета компании и стоимости разработки одной скважины;\n",
    "\n",
    "\n",
    "**Данные:**\n",
    "\n",
    "Предоставлены пробы нефти в трёх регионах: в каждом 10 000 месторождений, где измерили качество нефти и объём её запасов."
   ]
  },
  {
   "cell_type": "markdown",
   "metadata": {},
   "source": [
    "# Подготовка данных"
   ]
  },
  {
   "cell_type": "code",
   "execution_count": 1,
   "metadata": {},
   "outputs": [],
   "source": [
    "#загружаем нужные библиотеки\n",
    "import pandas as pd\n",
    "import numpy as np\n",
    "import matplotlib.pyplot as plt\n",
    "import seaborn as sns\n",
    "from scipy import stats as st\n",
    "\n",
    "from sklearn.utils import shuffle\n",
    "from sklearn.model_selection import train_test_split\n",
    "from sklearn.preprocessing import StandardScaler\n",
    "\n",
    "from sklearn.linear_model import LinearRegression\n",
    "\n",
    "from sklearn.metrics import mean_squared_error\n",
    "from sklearn.metrics import r2_score\n",
    "from sklearn.metrics import mean_absolute_error"
   ]
  },
  {
   "cell_type": "code",
   "execution_count": 2,
   "metadata": {},
   "outputs": [],
   "source": [
    "import warnings\n",
    "\n",
    "warnings.filterwarnings('ignore')"
   ]
  },
  {
   "cell_type": "code",
   "execution_count": 3,
   "metadata": {},
   "outputs": [],
   "source": [
    "#обьявляем константы\n",
    "RS = 12345\n",
    "\n",
    "BUDGET = 10000000000 #бюджет на разработку 200 скважин\n",
    "INCOME_PER_BARREL = 450\n",
    "INCOME_PER_SINGLE_PRODUCT = 450000 #доход с тысячи бареллей \n",
    "\n",
    "ITERATIONS = 1000\n",
    "AMOUNT_RESEARCH = 500\n",
    "AMOUNT_TOP = 200"
   ]
  },
  {
   "cell_type": "code",
   "execution_count": 4,
   "metadata": {},
   "outputs": [],
   "source": [
    "#загружаем данные \n",
    "data_0 = pd.read_csv('/datasets/geo_data_0.csv')\n",
    "data_1 = pd.read_csv('/datasets/geo_data_1.csv')\n",
    "data_2 = pd.read_csv('/datasets/geo_data_2.csv')"
   ]
  },
  {
   "cell_type": "code",
   "execution_count": 5,
   "metadata": {},
   "outputs": [],
   "source": [
    "def general_info(data):\n",
    "    display(data.head(5))\n",
    "    print()\n",
    "    print('Размеры датафрейма:', data.shape)\n",
    "    print('Количество дубликатов:', data.duplicated().sum())\n",
    "    print('Количество дубликатов в столбце id:', data['id'].duplicated().sum())\n",
    "    print('Пропуски в данных:') \n",
    "    print(data.isna().sum())"
   ]
  },
  {
   "cell_type": "code",
   "execution_count": 6,
   "metadata": {},
   "outputs": [
    {
     "data": {
      "text/html": [
       "<div>\n",
       "<style scoped>\n",
       "    .dataframe tbody tr th:only-of-type {\n",
       "        vertical-align: middle;\n",
       "    }\n",
       "\n",
       "    .dataframe tbody tr th {\n",
       "        vertical-align: top;\n",
       "    }\n",
       "\n",
       "    .dataframe thead th {\n",
       "        text-align: right;\n",
       "    }\n",
       "</style>\n",
       "<table border=\"1\" class=\"dataframe\">\n",
       "  <thead>\n",
       "    <tr style=\"text-align: right;\">\n",
       "      <th></th>\n",
       "      <th>id</th>\n",
       "      <th>f0</th>\n",
       "      <th>f1</th>\n",
       "      <th>f2</th>\n",
       "      <th>product</th>\n",
       "    </tr>\n",
       "  </thead>\n",
       "  <tbody>\n",
       "    <tr>\n",
       "      <th>0</th>\n",
       "      <td>txEyH</td>\n",
       "      <td>0.705745</td>\n",
       "      <td>-0.497823</td>\n",
       "      <td>1.221170</td>\n",
       "      <td>105.280062</td>\n",
       "    </tr>\n",
       "    <tr>\n",
       "      <th>1</th>\n",
       "      <td>2acmU</td>\n",
       "      <td>1.334711</td>\n",
       "      <td>-0.340164</td>\n",
       "      <td>4.365080</td>\n",
       "      <td>73.037750</td>\n",
       "    </tr>\n",
       "    <tr>\n",
       "      <th>2</th>\n",
       "      <td>409Wp</td>\n",
       "      <td>1.022732</td>\n",
       "      <td>0.151990</td>\n",
       "      <td>1.419926</td>\n",
       "      <td>85.265647</td>\n",
       "    </tr>\n",
       "    <tr>\n",
       "      <th>3</th>\n",
       "      <td>iJLyR</td>\n",
       "      <td>-0.032172</td>\n",
       "      <td>0.139033</td>\n",
       "      <td>2.978566</td>\n",
       "      <td>168.620776</td>\n",
       "    </tr>\n",
       "    <tr>\n",
       "      <th>4</th>\n",
       "      <td>Xdl7t</td>\n",
       "      <td>1.988431</td>\n",
       "      <td>0.155413</td>\n",
       "      <td>4.751769</td>\n",
       "      <td>154.036647</td>\n",
       "    </tr>\n",
       "  </tbody>\n",
       "</table>\n",
       "</div>"
      ],
      "text/plain": [
       "      id        f0        f1        f2     product\n",
       "0  txEyH  0.705745 -0.497823  1.221170  105.280062\n",
       "1  2acmU  1.334711 -0.340164  4.365080   73.037750\n",
       "2  409Wp  1.022732  0.151990  1.419926   85.265647\n",
       "3  iJLyR -0.032172  0.139033  2.978566  168.620776\n",
       "4  Xdl7t  1.988431  0.155413  4.751769  154.036647"
      ]
     },
     "metadata": {},
     "output_type": "display_data"
    },
    {
     "name": "stdout",
     "output_type": "stream",
     "text": [
      "\n",
      "Размеры датафрейма: (100000, 5)\n",
      "Количество дубликатов: 0\n",
      "Количество дубликатов в столбце id: 10\n",
      "Пропуски в данных:\n",
      "id         0\n",
      "f0         0\n",
      "f1         0\n",
      "f2         0\n",
      "product    0\n",
      "dtype: int64\n",
      "None\n"
     ]
    },
    {
     "data": {
      "text/html": [
       "<div>\n",
       "<style scoped>\n",
       "    .dataframe tbody tr th:only-of-type {\n",
       "        vertical-align: middle;\n",
       "    }\n",
       "\n",
       "    .dataframe tbody tr th {\n",
       "        vertical-align: top;\n",
       "    }\n",
       "\n",
       "    .dataframe thead th {\n",
       "        text-align: right;\n",
       "    }\n",
       "</style>\n",
       "<table border=\"1\" class=\"dataframe\">\n",
       "  <thead>\n",
       "    <tr style=\"text-align: right;\">\n",
       "      <th></th>\n",
       "      <th>id</th>\n",
       "      <th>f0</th>\n",
       "      <th>f1</th>\n",
       "      <th>f2</th>\n",
       "      <th>product</th>\n",
       "    </tr>\n",
       "  </thead>\n",
       "  <tbody>\n",
       "    <tr>\n",
       "      <th>0</th>\n",
       "      <td>kBEdx</td>\n",
       "      <td>-15.001348</td>\n",
       "      <td>-8.276000</td>\n",
       "      <td>-0.005876</td>\n",
       "      <td>3.179103</td>\n",
       "    </tr>\n",
       "    <tr>\n",
       "      <th>1</th>\n",
       "      <td>62mP7</td>\n",
       "      <td>14.272088</td>\n",
       "      <td>-3.475083</td>\n",
       "      <td>0.999183</td>\n",
       "      <td>26.953261</td>\n",
       "    </tr>\n",
       "    <tr>\n",
       "      <th>2</th>\n",
       "      <td>vyE1P</td>\n",
       "      <td>6.263187</td>\n",
       "      <td>-5.948386</td>\n",
       "      <td>5.001160</td>\n",
       "      <td>134.766305</td>\n",
       "    </tr>\n",
       "    <tr>\n",
       "      <th>3</th>\n",
       "      <td>KcrkZ</td>\n",
       "      <td>-13.081196</td>\n",
       "      <td>-11.506057</td>\n",
       "      <td>4.999415</td>\n",
       "      <td>137.945408</td>\n",
       "    </tr>\n",
       "    <tr>\n",
       "      <th>4</th>\n",
       "      <td>AHL4O</td>\n",
       "      <td>12.702195</td>\n",
       "      <td>-8.147433</td>\n",
       "      <td>5.004363</td>\n",
       "      <td>134.766305</td>\n",
       "    </tr>\n",
       "  </tbody>\n",
       "</table>\n",
       "</div>"
      ],
      "text/plain": [
       "      id         f0         f1        f2     product\n",
       "0  kBEdx -15.001348  -8.276000 -0.005876    3.179103\n",
       "1  62mP7  14.272088  -3.475083  0.999183   26.953261\n",
       "2  vyE1P   6.263187  -5.948386  5.001160  134.766305\n",
       "3  KcrkZ -13.081196 -11.506057  4.999415  137.945408\n",
       "4  AHL4O  12.702195  -8.147433  5.004363  134.766305"
      ]
     },
     "metadata": {},
     "output_type": "display_data"
    },
    {
     "name": "stdout",
     "output_type": "stream",
     "text": [
      "\n",
      "Размеры датафрейма: (100000, 5)\n",
      "Количество дубликатов: 0\n",
      "Количество дубликатов в столбце id: 4\n",
      "Пропуски в данных:\n",
      "id         0\n",
      "f0         0\n",
      "f1         0\n",
      "f2         0\n",
      "product    0\n",
      "dtype: int64\n",
      "None\n"
     ]
    },
    {
     "data": {
      "text/html": [
       "<div>\n",
       "<style scoped>\n",
       "    .dataframe tbody tr th:only-of-type {\n",
       "        vertical-align: middle;\n",
       "    }\n",
       "\n",
       "    .dataframe tbody tr th {\n",
       "        vertical-align: top;\n",
       "    }\n",
       "\n",
       "    .dataframe thead th {\n",
       "        text-align: right;\n",
       "    }\n",
       "</style>\n",
       "<table border=\"1\" class=\"dataframe\">\n",
       "  <thead>\n",
       "    <tr style=\"text-align: right;\">\n",
       "      <th></th>\n",
       "      <th>id</th>\n",
       "      <th>f0</th>\n",
       "      <th>f1</th>\n",
       "      <th>f2</th>\n",
       "      <th>product</th>\n",
       "    </tr>\n",
       "  </thead>\n",
       "  <tbody>\n",
       "    <tr>\n",
       "      <th>0</th>\n",
       "      <td>fwXo0</td>\n",
       "      <td>-1.146987</td>\n",
       "      <td>0.963328</td>\n",
       "      <td>-0.828965</td>\n",
       "      <td>27.758673</td>\n",
       "    </tr>\n",
       "    <tr>\n",
       "      <th>1</th>\n",
       "      <td>WJtFt</td>\n",
       "      <td>0.262778</td>\n",
       "      <td>0.269839</td>\n",
       "      <td>-2.530187</td>\n",
       "      <td>56.069697</td>\n",
       "    </tr>\n",
       "    <tr>\n",
       "      <th>2</th>\n",
       "      <td>ovLUW</td>\n",
       "      <td>0.194587</td>\n",
       "      <td>0.289035</td>\n",
       "      <td>-5.586433</td>\n",
       "      <td>62.871910</td>\n",
       "    </tr>\n",
       "    <tr>\n",
       "      <th>3</th>\n",
       "      <td>q6cA6</td>\n",
       "      <td>2.236060</td>\n",
       "      <td>-0.553760</td>\n",
       "      <td>0.930038</td>\n",
       "      <td>114.572842</td>\n",
       "    </tr>\n",
       "    <tr>\n",
       "      <th>4</th>\n",
       "      <td>WPMUX</td>\n",
       "      <td>-0.515993</td>\n",
       "      <td>1.716266</td>\n",
       "      <td>5.899011</td>\n",
       "      <td>149.600746</td>\n",
       "    </tr>\n",
       "  </tbody>\n",
       "</table>\n",
       "</div>"
      ],
      "text/plain": [
       "      id        f0        f1        f2     product\n",
       "0  fwXo0 -1.146987  0.963328 -0.828965   27.758673\n",
       "1  WJtFt  0.262778  0.269839 -2.530187   56.069697\n",
       "2  ovLUW  0.194587  0.289035 -5.586433   62.871910\n",
       "3  q6cA6  2.236060 -0.553760  0.930038  114.572842\n",
       "4  WPMUX -0.515993  1.716266  5.899011  149.600746"
      ]
     },
     "metadata": {},
     "output_type": "display_data"
    },
    {
     "name": "stdout",
     "output_type": "stream",
     "text": [
      "\n",
      "Размеры датафрейма: (100000, 5)\n",
      "Количество дубликатов: 0\n",
      "Количество дубликатов в столбце id: 4\n",
      "Пропуски в данных:\n",
      "id         0\n",
      "f0         0\n",
      "f1         0\n",
      "f2         0\n",
      "product    0\n",
      "dtype: int64\n",
      "None\n"
     ]
    }
   ],
   "source": [
    "print(general_info(data_0))\n",
    "print(general_info(data_1))\n",
    "print(general_info(data_2))"
   ]
  },
  {
   "cell_type": "markdown",
   "metadata": {},
   "source": [
    "**Наблюдения:** С данными все в порядке, датафреймы разных регионов одинакового размера, полных дубликатов и пропусков нет. Есть только дубликаты в столбце ID, что достаточно критично, поскольку ID скважин должны быть уникальны, следовательно, произошла ошибка. Так как этих дубликатов очень мало, то мы можем их удалить. "
   ]
  },
  {
   "cell_type": "code",
   "execution_count": 7,
   "metadata": {},
   "outputs": [],
   "source": [
    "#создадим все-таки обьединенную таблицу. Она может быть полезна\n",
    "data_0['region'] = 0\n",
    "data_1['region'] = 1\n",
    "data_2['region'] = 2\n",
    "data = pd.concat([data_0, data_1, data_2])"
   ]
  },
  {
   "cell_type": "code",
   "execution_count": 8,
   "metadata": {},
   "outputs": [],
   "source": [
    "def preprocessing(data):\n",
    "    data.drop_duplicates(subset = 'id', inplace = True)\n",
    "    data = data.drop(['id'] , axis=1)\n",
    "    data = data.drop(['region'] , axis=1)\n",
    "    return data"
   ]
  },
  {
   "cell_type": "code",
   "execution_count": 9,
   "metadata": {},
   "outputs": [],
   "source": [
    "data_0=preprocessing(data_0)\n",
    "data_1=preprocessing(data_1)\n",
    "data_2=preprocessing(data_2)"
   ]
  },
  {
   "cell_type": "code",
   "execution_count": 10,
   "metadata": {},
   "outputs": [
    {
     "data": {
      "image/png": "[encoded data removed]",
      "text/plain": [
       "<Figure size 432x288 with 1 Axes>"
      ]
     },
     "metadata": {
      "needs_background": "light"
     },
     "output_type": "display_data"
    },
    {
     "data": {
      "image/png": "[encoded data removed]",
      "text/plain": [
       "<Figure size 432x288 with 1 Axes>"
      ]
     },
     "metadata": {
      "needs_background": "light"
     },
     "output_type": "display_data"
    },
    {
     "data": {
      "image/png": "[encoded data removed]",
      "text/plain": [
       "<Figure size 432x288 with 1 Axes>"
      ]
     },
     "metadata": {
      "needs_background": "light"
     },
     "output_type": "display_data"
    }
   ],
   "source": [
    "for index in range(0,3):\n",
    "    data_index = data[data['region'] == index]\n",
    "    plt.hist(data_index['product'], alpha=0.5)\n",
    "    plt.title(f'Распределение целевого признака в регионе {index}')\n",
    "    plt.xlabel('Значение целевого признака')\n",
    "    plt.ylabel('Концентрация')\n",
    "    plt.show()"
   ]
  },
  {
   "cell_type": "markdown",
   "metadata": {},
   "source": [
    "В двух региноах (0 и 2) распределение почти одинаковое и близко к нормальному. Третий регион (1) сильно отличается от остальных."
   ]
  },
  {
   "cell_type": "code",
   "execution_count": 11,
   "metadata": {},
   "outputs": [
    {
     "data": {
      "image/png": "[encoded data removed]",
      "text/plain": [
       "<Figure size 432x288 with 2 Axes>"
      ]
     },
     "metadata": {
      "needs_background": "light"
     },
     "output_type": "display_data"
    }
   ],
   "source": [
    "matrix = np.triu(data_0.corr())\n",
    "sns.heatmap(data_0.corr(), annot=True, mask=matrix)\n",
    "plt.title('Матрица корреляций для региона 0');"
   ]
  },
  {
   "cell_type": "code",
   "execution_count": 12,
   "metadata": {},
   "outputs": [
    {
     "data": {
      "image/png": "[encoded data removed]",
      "text/plain": [
       "<Figure size 432x288 with 2 Axes>"
      ]
     },
     "metadata": {
      "needs_background": "light"
     },
     "output_type": "display_data"
    }
   ],
   "source": [
    "matrix = np.triu(data_1.corr())\n",
    "sns.heatmap(data_1.corr(), annot=True, mask=matrix)\n",
    "plt.title('Матрица корреляций для региона 1');"
   ]
  },
  {
   "cell_type": "code",
   "execution_count": 13,
   "metadata": {},
   "outputs": [
    {
     "data": {
      "image/png": "[encoded data removed]",
      "text/plain": [
       "<Figure size 432x288 with 2 Axes>"
      ]
     },
     "metadata": {
      "needs_background": "light"
     },
     "output_type": "display_data"
    }
   ],
   "source": [
    "matrix = np.triu(data_2.corr())\n",
    "sns.heatmap(data_2.corr(), annot=True, mask=matrix)\n",
    "plt.title('Матрица корреляций для региона 2');"
   ]
  },
  {
   "cell_type": "markdown",
   "metadata": {},
   "source": [
    "**Выводы:** была проведена предобработка данных, удалены дубликаты, проанализировани распределения целевого признака по регионам, а также данные были изучены данные на предмет мультиколлинеарности"
   ]
  },
  {
   "cell_type": "markdown",
   "metadata": {},
   "source": [
    "# Обучение и проверка модели"
   ]
  },
  {
   "cell_type": "code",
   "execution_count": 14,
   "metadata": {},
   "outputs": [],
   "source": [
    "numeric = ['f0','f1', 'f2']\n",
    "scaler = StandardScaler()\n",
    "model = LinearRegression()"
   ]
  },
  {
   "cell_type": "code",
   "execution_count": 15,
   "metadata": {},
   "outputs": [],
   "source": [
    "def make_predictions(data):\n",
    "    target= data['product']\n",
    "    features = data.drop(['product'] , axis=1)\n",
    "    features_train, features_valid, target_train, target_valid = train_test_split(\n",
    "    features, target, test_size=0.25, random_state=RS)\n",
    "    \n",
    "    scaler.fit(features_train[numeric])\n",
    "    features_train[numeric] = scaler.transform(features_train[numeric])\n",
    "    features_valid[numeric] = scaler.transform(features_valid[numeric])\n",
    "    \n",
    "    model.fit(features_train, target_train)\n",
    "    predicted_valid = model.predict(features_valid)\n",
    "    prediction = pd.Series(predicted_valid, index=target_valid.index)\n",
    "    mse = mean_squared_error(target_valid, predicted_valid)\n",
    "\n",
    "    features_valid['predictions'] = prediction\n",
    "    features_valid['target'] = target_valid\n",
    "    print(\"Linear Regression\")\n",
    "    print(\"MSE =\",  mse)\n",
    "    print(\"RMSE =\", mse ** 0.5)\n",
    "    print(\"R2 =\", r2_score(target_valid, predicted_valid))\n",
    "    print('MAE =', mean_absolute_error(target_valid, predicted_valid))\n",
    "    print('Mean =', predicted_valid.mean())\n",
    "    return prediction, features_valid"
   ]
  },
  {
   "cell_type": "code",
   "execution_count": 16,
   "metadata": {},
   "outputs": [
    {
     "name": "stdout",
     "output_type": "stream",
     "text": [
      "Linear Regression\n",
      "MSE = 1432.8895312377324\n",
      "RMSE = 37.853527328872964\n",
      "R2 = 0.2723923460817068\n",
      "MAE = 31.141028675220262\n",
      "Mean = 92.78915638280621\n"
     ]
    }
   ],
   "source": [
    "prediction_0, features_valid_0 = make_predictions(data_0)"
   ]
  },
  {
   "cell_type": "code",
   "execution_count": 17,
   "metadata": {},
   "outputs": [
    {
     "name": "stdout",
     "output_type": "stream",
     "text": [
      "Linear Regression\n",
      "MSE = 0.7957697318650319\n",
      "RMSE = 0.8920592647717033\n",
      "R2 = 0.9996222988190184\n",
      "MAE = 0.71935300965161\n",
      "Mean = 69.1783195703043\n"
     ]
    }
   ],
   "source": [
    "prediction_1, features_valid_1= make_predictions(data_1)"
   ]
  },
  {
   "cell_type": "code",
   "execution_count": 18,
   "metadata": {},
   "outputs": [
    {
     "name": "stdout",
     "output_type": "stream",
     "text": [
      "Linear Regression\n",
      "MSE = 1606.0738119304278\n",
      "RMSE = 40.07585073246016\n",
      "R2 = 0.19556241810202346\n",
      "MAE = 32.83139014902301\n",
      "Mean = 94.86572480562035\n"
     ]
    }
   ],
   "source": [
    "prediction_2, features_valid_2 = make_predictions(data_2)"
   ]
  },
  {
   "cell_type": "markdown",
   "metadata": {},
   "source": [
    "Отклонение от правильного ответа равно примерно половине (даже немного меньше) от среднего значения. Это неплохо"
   ]
  },
  {
   "cell_type": "markdown",
   "metadata": {},
   "source": [
    "**Мини-вывод:** мы обучили модель, получили предсказания, записали их в таблицу. Модель давала очень точные предсказания в регионе 1, тк в этом регионе корелляция между признаком f2 и целевым была очень высокая. На данных из других регионов модель дает достаточно хорошие предсказания"
   ]
  },
  {
   "cell_type": "markdown",
   "metadata": {},
   "source": [
    "# Расчет прибыли"
   ]
  },
  {
   "cell_type": "code",
   "execution_count": 19,
   "metadata": {},
   "outputs": [],
   "source": [
    "#Все ключевые значения для расчётов сохраним в отдельных переменных."
   ]
  },
  {
   "cell_type": "code",
   "execution_count": 20,
   "metadata": {},
   "outputs": [
    {
     "name": "stdout",
     "output_type": "stream",
     "text": [
      "111.11111111111111\n"
     ]
    }
   ],
   "source": [
    "budget_per_well = BUDGET/200\n",
    "n = budget_per_well/INCOME_PER_SINGLE_PRODUCT\n",
    "print(n)\n",
    "#каждая скважина должна давать минимум 111 тыс бареллей для избежания убытка"
   ]
  },
  {
   "cell_type": "code",
   "execution_count": 21,
   "metadata": {},
   "outputs": [
    {
     "name": "stdout",
     "output_type": "stream",
     "text": [
      "Средний обьем полученного сырья в регионе 0: 92.78915638280621\n",
      "Средний обьем полученного сырья в регионе 1: 69.1783195703043\n",
      "Средний обьем полученного сырья в регионе 2: 94.86572480562035\n"
     ]
    }
   ],
   "source": [
    "print('Средний обьем полученного сырья в регионе 0:', prediction_0.mean())\n",
    "print('Средний обьем полученного сырья в регионе 1:', prediction_1.mean())\n",
    "print('Средний обьем полученного сырья в регионе 2:', prediction_2.mean())"
   ]
  },
  {
   "cell_type": "markdown",
   "metadata": {},
   "source": [
    "Можно заметить, что обьем сырья в каждом из регионов меньше нужного минимума"
   ]
  },
  {
   "cell_type": "markdown",
   "metadata": {},
   "source": [
    "Среднее значения для каждого региона оказалось меньше нужной нам для избежания убытков величины. Это значение получается, если мы не будем выбирать среди скважин лучше, а возьмем любые из имеющихся. Попробуем улчшить результат, взяв только те скважины, которые могут предоставить лучший запас сырья при помощи техники bootstrap."
   ]
  },
  {
   "cell_type": "markdown",
   "metadata": {},
   "source": [
    "# Расчет рисков и прибыли для каждого региона"
   ]
  },
  {
   "cell_type": "code",
   "execution_count": 22,
   "metadata": {},
   "outputs": [],
   "source": [
    "def revenue(target, predictions, count):\n",
    "    probs_sorted = predictions.sort_values(ascending=False)\n",
    "    selected = target[probs_sorted.index][:count]\n",
    "    return INCOME_PER_SINGLE_PRODUCT * selected.sum() - BUDGET"
   ]
  },
  {
   "cell_type": "code",
   "execution_count": 23,
   "metadata": {},
   "outputs": [],
   "source": [
    "def bootstrap(target, predictions): \n",
    "        \n",
    "    state = np.random.RandomState(RS)\n",
    "    values = []\n",
    "    \n",
    "    for i in range(ITERATIONS):\n",
    "        target_subsample = target.sample(n=AMOUNT_RESEARCH, replace=True, random_state=state)\n",
    "        probs_subsample = predictions[target_subsample.index]\n",
    " \n",
    "        values.append(revenue(target_subsample, probs_subsample, AMOUNT_TOP))\n",
    "\n",
    "    values = pd.Series(values)\n",
    "    mean = values.mean()\n",
    "    risk = values[values<0].count()/ITERATIONS\n",
    "    confidence_interval = st.t.interval(0.95, len(values)-1, loc=values.mean(), scale=values.sem())\n",
    "\n",
    "    print(\"Средняя прибыль региона\", ':', round(mean))\n",
    "    print(\"95%-й доверительный интервал\", ':', confidence_interval)\n",
    "    print(\"Риск убытков региона\",  ':', risk*100, '%')"
   ]
  },
  {
   "cell_type": "code",
   "execution_count": 24,
   "metadata": {},
   "outputs": [
    {
     "name": "stdout",
     "output_type": "stream",
     "text": [
      "Регион №0\n",
      "Средняя прибыль региона : 409428039\n",
      "95%-й доверительный интервал : (392436312.2689626, 426419764.9739095)\n",
      "Риск убытков региона : 7.1 %\n"
     ]
    }
   ],
   "source": [
    "print('Регион №0')\n",
    "bootstrap(features_valid_0['target'], features_valid_0['predictions'])"
   ]
  },
  {
   "cell_type": "code",
   "execution_count": 25,
   "metadata": {},
   "outputs": [
    {
     "name": "stdout",
     "output_type": "stream",
     "text": [
      "Регион №1\n",
      "Средняя прибыль региона : 536902587\n",
      "95%-й доверительный интервал : (523348898.58695024, 550456276.3879564)\n",
      "Риск убытков региона : 0.8999999999999999 %\n"
     ]
    }
   ],
   "source": [
    "print('Регион №1')\n",
    "bootstrap(features_valid_1['target'], features_valid_1['predictions'])"
   ]
  },
  {
   "cell_type": "code",
   "execution_count": 26,
   "metadata": {},
   "outputs": [
    {
     "name": "stdout",
     "output_type": "stream",
     "text": [
      "Регион №2\n",
      "Средняя прибыль региона : 353790363\n",
      "95%-й доверительный интервал : (336935105.9082979, 370645619.553586)\n",
      "Риск убытков региона : 10.2 %\n"
     ]
    }
   ],
   "source": [
    "print('Регион №2')\n",
    "bootstrap(features_valid_2['target'], features_valid_2['predictions'])"
   ]
  },
  {
   "cell_type": "markdown",
   "metadata": {},
   "source": [
    "# Вывод"
   ]
  },
  {
   "cell_type": "markdown",
   "metadata": {},
   "source": [
    "Регион, который стоит выбрать для бурения скважин -- это регион №1. Это регион с самой высокой возможной средней выручкой,95-ый квантиль в этом регионе имеет самое большое значение среди остальных, а также самый низкий риск убытков именно у номера 1. "
   ]
  }
 ],
 "metadata": {
  "ExecuteTimeLog": [
   {
    "duration": 1932,
    "start_time": "2022-12-09T03:04:24.920Z"
   },
   {
    "duration": 2,
    "start_time": "2022-12-09T03:04:26.854Z"
   },
   {
    "duration": 136,
    "start_time": "2022-12-09T03:04:26.857Z"
   },
   {
    "duration": 0,
    "start_time": "2022-12-09T03:04:26.996Z"
   },
   {
    "duration": 0,
    "start_time": "2022-12-09T03:04:26.997Z"
   },
   {
    "duration": 0,
    "start_time": "2022-12-09T03:04:26.998Z"
   },
   {
    "duration": 0,
    "start_time": "2022-12-09T03:04:26.999Z"
   },
   {
    "duration": 0,
    "start_time": "2022-12-09T03:04:27.000Z"
   },
   {
    "duration": 0,
    "start_time": "2022-12-09T03:04:27.001Z"
   },
   {
    "duration": 0,
    "start_time": "2022-12-09T03:04:27.001Z"
   },
   {
    "duration": 0,
    "start_time": "2022-12-09T03:04:27.003Z"
   },
   {
    "duration": 0,
    "start_time": "2022-12-09T03:04:27.003Z"
   },
   {
    "duration": 0,
    "start_time": "2022-12-09T03:04:27.004Z"
   },
   {
    "duration": 0,
    "start_time": "2022-12-09T03:04:27.005Z"
   },
   {
    "duration": 0,
    "start_time": "2022-12-09T03:04:27.022Z"
   },
   {
    "duration": 0,
    "start_time": "2022-12-09T03:04:27.023Z"
   },
   {
    "duration": 0,
    "start_time": "2022-12-09T03:04:27.024Z"
   },
   {
    "duration": 0,
    "start_time": "2022-12-09T03:04:27.024Z"
   },
   {
    "duration": 0,
    "start_time": "2022-12-09T03:04:27.025Z"
   },
   {
    "duration": 0,
    "start_time": "2022-12-09T03:04:27.026Z"
   },
   {
    "duration": 0,
    "start_time": "2022-12-09T03:04:27.027Z"
   },
   {
    "duration": 0,
    "start_time": "2022-12-09T03:04:27.028Z"
   },
   {
    "duration": 0,
    "start_time": "2022-12-09T03:04:27.028Z"
   },
   {
    "duration": 0,
    "start_time": "2022-12-09T03:04:27.030Z"
   },
   {
    "duration": 0,
    "start_time": "2022-12-09T03:04:27.030Z"
   },
   {
    "duration": 0,
    "start_time": "2022-12-09T03:04:27.031Z"
   },
   {
    "duration": 0,
    "start_time": "2022-12-09T03:04:27.032Z"
   },
   {
    "duration": 0,
    "start_time": "2022-12-09T03:04:27.033Z"
   },
   {
    "duration": 0,
    "start_time": "2022-12-09T03:04:27.034Z"
   },
   {
    "duration": 0,
    "start_time": "2022-12-09T03:04:27.035Z"
   },
   {
    "duration": 0,
    "start_time": "2022-12-09T03:04:27.036Z"
   },
   {
    "duration": 0,
    "start_time": "2022-12-09T03:04:27.037Z"
   },
   {
    "duration": 0,
    "start_time": "2022-12-09T03:04:27.038Z"
   },
   {
    "duration": 0,
    "start_time": "2022-12-09T03:04:27.039Z"
   },
   {
    "duration": 0,
    "start_time": "2022-12-09T03:04:27.040Z"
   },
   {
    "duration": 0,
    "start_time": "2022-12-09T03:04:27.041Z"
   },
   {
    "duration": 0,
    "start_time": "2022-12-09T03:04:27.041Z"
   },
   {
    "duration": 0,
    "start_time": "2022-12-09T03:04:27.042Z"
   },
   {
    "duration": 0,
    "start_time": "2022-12-09T03:04:27.043Z"
   },
   {
    "duration": 1464,
    "start_time": "2022-12-09T03:04:54.753Z"
   },
   {
    "duration": 2,
    "start_time": "2022-12-09T03:04:56.219Z"
   },
   {
    "duration": 1986,
    "start_time": "2022-12-09T03:04:56.222Z"
   },
   {
    "duration": 3,
    "start_time": "2022-12-09T03:04:58.210Z"
   },
   {
    "duration": 24,
    "start_time": "2022-12-09T03:04:58.215Z"
   },
   {
    "duration": 22,
    "start_time": "2022-12-09T03:04:58.240Z"
   },
   {
    "duration": 46,
    "start_time": "2022-12-09T03:04:58.264Z"
   },
   {
    "duration": 17,
    "start_time": "2022-12-09T03:04:58.312Z"
   },
   {
    "duration": 43,
    "start_time": "2022-12-09T03:04:58.330Z"
   },
   {
    "duration": 13,
    "start_time": "2022-12-09T03:04:58.375Z"
   },
   {
    "duration": 14,
    "start_time": "2022-12-09T03:04:58.390Z"
   },
   {
    "duration": 29,
    "start_time": "2022-12-09T03:04:58.405Z"
   },
   {
    "duration": 10,
    "start_time": "2022-12-09T03:04:58.436Z"
   },
   {
    "duration": 18,
    "start_time": "2022-12-09T03:04:58.449Z"
   },
   {
    "duration": 45,
    "start_time": "2022-12-09T03:04:58.469Z"
   },
   {
    "duration": 5,
    "start_time": "2022-12-09T03:04:58.516Z"
   },
   {
    "duration": 18,
    "start_time": "2022-12-09T03:04:58.522Z"
   },
   {
    "duration": 22,
    "start_time": "2022-12-09T03:04:58.542Z"
   },
   {
    "duration": 13,
    "start_time": "2022-12-09T03:04:58.566Z"
   },
   {
    "duration": 47,
    "start_time": "2022-12-09T03:04:58.580Z"
   },
   {
    "duration": 39,
    "start_time": "2022-12-09T03:04:58.629Z"
   },
   {
    "duration": 4,
    "start_time": "2022-12-09T03:04:58.670Z"
   },
   {
    "duration": 11,
    "start_time": "2022-12-09T03:04:58.675Z"
   },
   {
    "duration": 6,
    "start_time": "2022-12-09T03:04:58.687Z"
   },
   {
    "duration": 157,
    "start_time": "2022-12-09T03:04:58.695Z"
   },
   {
    "duration": 3,
    "start_time": "2022-12-09T03:04:58.854Z"
   },
   {
    "duration": 66,
    "start_time": "2022-12-09T03:04:58.859Z"
   },
   {
    "duration": 98,
    "start_time": "2022-12-09T03:04:58.926Z"
   },
   {
    "duration": 15,
    "start_time": "2022-12-09T03:04:59.025Z"
   },
   {
    "duration": 181,
    "start_time": "2022-12-09T03:04:59.042Z"
   },
   {
    "duration": 103,
    "start_time": "2022-12-09T03:04:59.225Z"
   },
   {
    "duration": 92,
    "start_time": "2022-12-09T03:04:59.330Z"
   },
   {
    "duration": 4,
    "start_time": "2022-12-09T03:04:59.424Z"
   },
   {
    "duration": 16,
    "start_time": "2022-12-09T03:04:59.429Z"
   },
   {
    "duration": 28,
    "start_time": "2022-12-09T03:04:59.447Z"
   },
   {
    "duration": 13,
    "start_time": "2022-12-09T03:04:59.476Z"
   },
   {
    "duration": 15,
    "start_time": "2022-12-09T03:04:59.490Z"
   },
   {
    "duration": 9,
    "start_time": "2022-12-09T03:04:59.507Z"
   },
   {
    "duration": 3746,
    "start_time": "2022-12-09T03:04:59.517Z"
   },
   {
    "duration": 1439,
    "start_time": "2022-12-09T03:13:17.979Z"
   },
   {
    "duration": 3,
    "start_time": "2022-12-09T03:13:19.420Z"
   },
   {
    "duration": 359,
    "start_time": "2022-12-09T03:13:19.424Z"
   },
   {
    "duration": 3,
    "start_time": "2022-12-09T03:13:19.785Z"
   },
   {
    "duration": 17,
    "start_time": "2022-12-09T03:13:19.790Z"
   },
   {
    "duration": 15,
    "start_time": "2022-12-09T03:13:19.822Z"
   },
   {
    "duration": 48,
    "start_time": "2022-12-09T03:13:19.838Z"
   },
   {
    "duration": 8,
    "start_time": "2022-12-09T03:13:19.888Z"
   },
   {
    "duration": 31,
    "start_time": "2022-12-09T03:13:19.897Z"
   },
   {
    "duration": 10,
    "start_time": "2022-12-09T03:13:19.929Z"
   },
   {
    "duration": 9,
    "start_time": "2022-12-09T03:13:19.940Z"
   },
   {
    "duration": 25,
    "start_time": "2022-12-09T03:13:19.951Z"
   },
   {
    "duration": 10,
    "start_time": "2022-12-09T03:13:19.978Z"
   },
   {
    "duration": 7,
    "start_time": "2022-12-09T03:13:20.021Z"
   },
   {
    "duration": 36,
    "start_time": "2022-12-09T03:13:20.030Z"
   },
   {
    "duration": 3,
    "start_time": "2022-12-09T03:13:20.067Z"
   },
   {
    "duration": 12,
    "start_time": "2022-12-09T03:13:20.072Z"
   },
   {
    "duration": 13,
    "start_time": "2022-12-09T03:13:20.085Z"
   },
   {
    "duration": 9,
    "start_time": "2022-12-09T03:13:20.122Z"
   },
   {
    "duration": 43,
    "start_time": "2022-12-09T03:13:20.133Z"
   },
   {
    "duration": 56,
    "start_time": "2022-12-09T03:13:20.178Z"
   },
   {
    "duration": 4,
    "start_time": "2022-12-09T03:13:20.236Z"
   },
   {
    "duration": 13,
    "start_time": "2022-12-09T03:13:20.242Z"
   },
   {
    "duration": 6,
    "start_time": "2022-12-09T03:13:20.257Z"
   },
   {
    "duration": 153,
    "start_time": "2022-12-09T03:13:20.265Z"
   },
   {
    "duration": 3,
    "start_time": "2022-12-09T03:13:20.420Z"
   },
   {
    "duration": 98,
    "start_time": "2022-12-09T03:13:20.425Z"
   },
   {
    "duration": 7,
    "start_time": "2022-12-09T03:13:20.525Z"
   },
   {
    "duration": 194,
    "start_time": "2022-12-09T03:13:20.533Z"
   },
   {
    "duration": 109,
    "start_time": "2022-12-09T03:13:20.729Z"
   },
   {
    "duration": 3,
    "start_time": "2022-12-09T03:13:20.922Z"
   },
   {
    "duration": 16,
    "start_time": "2022-12-09T03:13:20.927Z"
   },
   {
    "duration": 20,
    "start_time": "2022-12-09T03:13:20.945Z"
   },
   {
    "duration": 25,
    "start_time": "2022-12-09T03:13:20.966Z"
   },
   {
    "duration": 22,
    "start_time": "2022-12-09T03:13:20.993Z"
   },
   {
    "duration": 25,
    "start_time": "2022-12-09T03:13:21.016Z"
   },
   {
    "duration": 17,
    "start_time": "2022-12-09T03:13:21.043Z"
   },
   {
    "duration": 6,
    "start_time": "2022-12-09T03:13:21.062Z"
   },
   {
    "duration": 3772,
    "start_time": "2022-12-09T03:13:21.069Z"
   },
   {
    "duration": 1007,
    "start_time": "2022-12-09T09:29:03.470Z"
   },
   {
    "duration": 3,
    "start_time": "2022-12-09T09:29:07.053Z"
   },
   {
    "duration": 605,
    "start_time": "2022-12-09T09:29:09.661Z"
   },
   {
    "duration": 4,
    "start_time": "2022-12-09T09:31:28.884Z"
   },
   {
    "duration": 14,
    "start_time": "2022-12-09T09:31:30.135Z"
   },
   {
    "duration": 16,
    "start_time": "2022-12-09T09:42:49.770Z"
   },
   {
    "duration": 10,
    "start_time": "2022-12-09T09:42:53.868Z"
   },
   {
    "duration": 14,
    "start_time": "2022-12-09T09:42:54.620Z"
   },
   {
    "duration": 5,
    "start_time": "2022-12-09T09:43:35.412Z"
   },
   {
    "duration": 93,
    "start_time": "2022-12-09T09:44:02.389Z"
   },
   {
    "duration": 3,
    "start_time": "2022-12-09T09:44:11.439Z"
   },
   {
    "duration": 435,
    "start_time": "2022-12-09T09:44:12.414Z"
   },
   {
    "duration": 4,
    "start_time": "2022-12-09T09:44:59.070Z"
   },
   {
    "duration": 161,
    "start_time": "2022-12-09T09:44:59.883Z"
   },
   {
    "duration": 3,
    "start_time": "2022-12-09T09:45:52.539Z"
   },
   {
    "duration": 155,
    "start_time": "2022-12-09T09:45:53.006Z"
   },
   {
    "duration": 3,
    "start_time": "2022-12-09T09:47:02.923Z"
   },
   {
    "duration": 164,
    "start_time": "2022-12-09T09:47:03.506Z"
   },
   {
    "duration": 4,
    "start_time": "2022-12-09T09:48:17.547Z"
   },
   {
    "duration": 220,
    "start_time": "2022-12-09T09:48:18.513Z"
   },
   {
    "duration": 359,
    "start_time": "2022-12-09T09:48:51.293Z"
   },
   {
    "duration": 43,
    "start_time": "2022-12-09T09:57:08.899Z"
   },
   {
    "duration": 17,
    "start_time": "2022-12-09T10:07:01.611Z"
   },
   {
    "duration": 4,
    "start_time": "2022-12-09T10:07:13.896Z"
   },
   {
    "duration": 2,
    "start_time": "2022-12-09T10:07:14.333Z"
   },
   {
    "duration": 363,
    "start_time": "2022-12-09T10:07:16.880Z"
   },
   {
    "duration": 4,
    "start_time": "2022-12-09T10:07:18.068Z"
   },
   {
    "duration": 179,
    "start_time": "2022-12-09T10:07:18.668Z"
   },
   {
    "duration": 10,
    "start_time": "2022-12-09T10:07:20.307Z"
   },
   {
    "duration": 382,
    "start_time": "2022-12-09T10:07:40.982Z"
   },
   {
    "duration": 4,
    "start_time": "2022-12-09T10:07:42.559Z"
   },
   {
    "duration": 184,
    "start_time": "2022-12-09T10:07:43.582Z"
   },
   {
    "duration": 8,
    "start_time": "2022-12-09T10:07:45.643Z"
   },
   {
    "duration": 1027,
    "start_time": "2022-12-09T10:11:12.615Z"
   },
   {
    "duration": 3,
    "start_time": "2022-12-09T10:11:13.644Z"
   },
   {
    "duration": 399,
    "start_time": "2022-12-09T10:11:15.226Z"
   },
   {
    "duration": 4,
    "start_time": "2022-12-09T10:11:16.874Z"
   },
   {
    "duration": 158,
    "start_time": "2022-12-09T10:11:20.958Z"
   },
   {
    "duration": 8,
    "start_time": "2022-12-09T10:11:23.108Z"
   },
   {
    "duration": 8,
    "start_time": "2022-12-09T10:11:35.538Z"
   },
   {
    "duration": 58,
    "start_time": "2022-12-09T10:11:50.287Z"
   },
   {
    "duration": 29,
    "start_time": "2022-12-09T10:11:55.877Z"
   },
   {
    "duration": 28,
    "start_time": "2022-12-09T10:12:15.614Z"
   },
   {
    "duration": 25,
    "start_time": "2022-12-09T10:12:20.565Z"
   },
   {
    "duration": 21,
    "start_time": "2022-12-09T10:13:18.585Z"
   },
   {
    "duration": 65,
    "start_time": "2022-12-09T10:13:37.956Z"
   },
   {
    "duration": 3,
    "start_time": "2022-12-09T10:14:00.166Z"
   },
   {
    "duration": 203,
    "start_time": "2022-12-09T10:14:00.883Z"
   },
   {
    "duration": 9,
    "start_time": "2022-12-09T10:15:21.280Z"
   },
   {
    "duration": 23,
    "start_time": "2022-12-09T10:31:11.564Z"
   },
   {
    "duration": 79,
    "start_time": "2022-12-09T10:34:22.538Z"
   },
   {
    "duration": 3,
    "start_time": "2022-12-09T10:34:43.908Z"
   },
   {
    "duration": 2,
    "start_time": "2022-12-09T10:34:44.551Z"
   },
   {
    "duration": 2,
    "start_time": "2022-12-09T10:34:45.053Z"
   },
   {
    "duration": 10,
    "start_time": "2022-12-09T10:34:45.499Z"
   },
   {
    "duration": 2,
    "start_time": "2022-12-09T10:34:45.768Z"
   },
   {
    "duration": 23,
    "start_time": "2022-12-09T10:36:31.584Z"
   },
   {
    "duration": 2,
    "start_time": "2022-12-09T10:37:25.239Z"
   },
   {
    "duration": 2,
    "start_time": "2022-12-09T10:37:26.104Z"
   },
   {
    "duration": 2,
    "start_time": "2022-12-09T10:37:27.275Z"
   },
   {
    "duration": 2,
    "start_time": "2022-12-09T10:37:28.635Z"
   },
   {
    "duration": 2,
    "start_time": "2022-12-09T10:37:29.121Z"
   },
   {
    "duration": 2,
    "start_time": "2022-12-09T10:37:30.119Z"
   },
   {
    "duration": 3,
    "start_time": "2022-12-09T10:37:30.977Z"
   },
   {
    "duration": 2,
    "start_time": "2022-12-09T10:37:31.283Z"
   },
   {
    "duration": 152186,
    "start_time": "2022-12-09T10:49:10.126Z"
   },
   {
    "duration": 1071,
    "start_time": "2022-12-09T10:52:44.542Z"
   },
   {
    "duration": 2,
    "start_time": "2022-12-09T10:52:45.615Z"
   },
   {
    "duration": 356,
    "start_time": "2022-12-09T10:52:47.188Z"
   },
   {
    "duration": 3,
    "start_time": "2022-12-09T10:52:48.344Z"
   },
   {
    "duration": 230,
    "start_time": "2022-12-09T10:52:48.943Z"
   },
   {
    "duration": 20,
    "start_time": "2022-12-09T10:52:50.472Z"
   },
   {
    "duration": 86,
    "start_time": "2022-12-09T10:52:51.137Z"
   },
   {
    "duration": 22,
    "start_time": "2022-12-09T10:52:51.604Z"
   },
   {
    "duration": 1067,
    "start_time": "2022-12-09T11:00:06.554Z"
   },
   {
    "duration": 3,
    "start_time": "2022-12-09T11:00:07.624Z"
   },
   {
    "duration": 630,
    "start_time": "2022-12-09T11:00:09.059Z"
   },
   {
    "duration": 4,
    "start_time": "2022-12-09T11:00:10.208Z"
   },
   {
    "duration": 230,
    "start_time": "2022-12-09T11:00:10.831Z"
   },
   {
    "duration": 20,
    "start_time": "2022-12-09T11:00:13.936Z"
   },
   {
    "duration": 92,
    "start_time": "2022-12-09T11:00:14.777Z"
   },
   {
    "duration": 24,
    "start_time": "2022-12-09T11:00:15.636Z"
   },
   {
    "duration": 642,
    "start_time": "2022-12-09T11:00:17.097Z"
   },
   {
    "duration": 128,
    "start_time": "2022-12-09T11:00:37.390Z"
   },
   {
    "duration": 170,
    "start_time": "2022-12-09T11:01:10.912Z"
   },
   {
    "duration": 175,
    "start_time": "2022-12-09T11:01:26.186Z"
   },
   {
    "duration": 249,
    "start_time": "2022-12-09T11:01:33.618Z"
   },
   {
    "duration": 174,
    "start_time": "2022-12-09T11:01:41.155Z"
   },
   {
    "duration": 179,
    "start_time": "2022-12-09T11:03:55.433Z"
   },
   {
    "duration": 44,
    "start_time": "2022-12-09T11:07:43.117Z"
   },
   {
    "duration": 52,
    "start_time": "2022-12-09T11:08:00.642Z"
   },
   {
    "duration": 5309,
    "start_time": "2022-12-09T11:08:13.113Z"
   },
   {
    "duration": 5394,
    "start_time": "2022-12-09T11:08:45.297Z"
   },
   {
    "duration": 116,
    "start_time": "2022-12-09T11:10:26.477Z"
   },
   {
    "duration": 1073,
    "start_time": "2022-12-09T11:13:39.544Z"
   },
   {
    "duration": 3,
    "start_time": "2022-12-09T11:13:40.619Z"
   },
   {
    "duration": 371,
    "start_time": "2022-12-09T11:13:41.586Z"
   },
   {
    "duration": 4,
    "start_time": "2022-12-09T11:13:43.045Z"
   },
   {
    "duration": 248,
    "start_time": "2022-12-09T11:13:43.687Z"
   },
   {
    "duration": 21,
    "start_time": "2022-12-09T11:13:45.037Z"
   },
   {
    "duration": 84,
    "start_time": "2022-12-09T11:13:47.654Z"
   },
   {
    "duration": 23,
    "start_time": "2022-12-09T11:13:48.217Z"
   },
   {
    "duration": 5493,
    "start_time": "2022-12-09T11:13:48.813Z"
   },
   {
    "duration": 47,
    "start_time": "2022-12-09T11:18:09.552Z"
   },
   {
    "duration": 1348,
    "start_time": "2022-12-09T11:19:19.089Z"
   },
   {
    "duration": 3,
    "start_time": "2022-12-09T11:19:20.441Z"
   },
   {
    "duration": 710,
    "start_time": "2022-12-09T11:19:22.139Z"
   },
   {
    "duration": 4,
    "start_time": "2022-12-09T11:19:22.851Z"
   },
   {
    "duration": 230,
    "start_time": "2022-12-09T11:19:22.970Z"
   },
   {
    "duration": 20,
    "start_time": "2022-12-09T11:19:23.485Z"
   },
   {
    "duration": 97,
    "start_time": "2022-12-09T11:19:23.956Z"
   },
   {
    "duration": 23,
    "start_time": "2022-12-09T11:19:24.492Z"
   },
   {
    "duration": 6076,
    "start_time": "2022-12-09T11:19:25.028Z"
   },
   {
    "duration": 215,
    "start_time": "2022-12-09T11:20:58.580Z"
   },
   {
    "duration": 44,
    "start_time": "2022-12-09T11:21:23.720Z"
   },
   {
    "duration": 214,
    "start_time": "2022-12-09T11:22:14.255Z"
   },
   {
    "duration": 62,
    "start_time": "2022-12-09T11:26:12.798Z"
   },
   {
    "duration": 283,
    "start_time": "2022-12-09T11:27:35.858Z"
   },
   {
    "duration": 588,
    "start_time": "2022-12-09T11:28:22.724Z"
   },
   {
    "duration": 364,
    "start_time": "2022-12-09T11:30:28.882Z"
   },
   {
    "duration": 729,
    "start_time": "2022-12-09T11:32:09.862Z"
   },
   {
    "duration": 76,
    "start_time": "2022-12-09T11:35:23.807Z"
   },
   {
    "duration": 278,
    "start_time": "2022-12-09T11:36:27.336Z"
   },
   {
    "duration": 306,
    "start_time": "2022-12-09T11:37:09.671Z"
   },
   {
    "duration": 325,
    "start_time": "2022-12-09T11:37:22.559Z"
   },
   {
    "duration": 16,
    "start_time": "2022-12-09T11:50:44.379Z"
   },
   {
    "duration": 2,
    "start_time": "2022-12-09T11:52:34.321Z"
   },
   {
    "duration": 4,
    "start_time": "2022-12-09T12:05:26.938Z"
   },
   {
    "duration": 3,
    "start_time": "2022-12-09T12:05:27.149Z"
   },
   {
    "duration": 354,
    "start_time": "2022-12-09T12:05:27.951Z"
   },
   {
    "duration": 3,
    "start_time": "2022-12-09T12:05:28.496Z"
   },
   {
    "duration": 206,
    "start_time": "2022-12-09T12:05:28.827Z"
   },
   {
    "duration": 20,
    "start_time": "2022-12-09T12:05:30.191Z"
   },
   {
    "duration": 75,
    "start_time": "2022-12-09T12:05:30.648Z"
   },
   {
    "duration": 23,
    "start_time": "2022-12-09T12:05:31.197Z"
   },
   {
    "duration": 220,
    "start_time": "2022-12-09T12:05:31.769Z"
   },
   {
    "duration": 312,
    "start_time": "2022-12-09T12:05:32.711Z"
   },
   {
    "duration": 343,
    "start_time": "2022-12-09T12:05:33.358Z"
   },
   {
    "duration": 2,
    "start_time": "2022-12-09T12:05:35.037Z"
   },
   {
    "duration": 426,
    "start_time": "2022-12-09T12:05:35.519Z"
   },
   {
    "duration": 2,
    "start_time": "2022-12-09T12:05:38.765Z"
   },
   {
    "duration": 2,
    "start_time": "2022-12-09T12:05:38.992Z"
   },
   {
    "duration": 3,
    "start_time": "2022-12-09T12:05:39.254Z"
   },
   {
    "duration": 2,
    "start_time": "2022-12-09T12:05:39.595Z"
   },
   {
    "duration": 2,
    "start_time": "2022-12-09T12:05:39.874Z"
   },
   {
    "duration": 3,
    "start_time": "2022-12-09T12:05:40.170Z"
   },
   {
    "duration": 2,
    "start_time": "2022-12-09T12:05:40.458Z"
   },
   {
    "duration": 2,
    "start_time": "2022-12-09T12:05:40.829Z"
   },
   {
    "duration": 2,
    "start_time": "2022-12-09T12:05:41.052Z"
   },
   {
    "duration": 2,
    "start_time": "2022-12-09T12:05:41.321Z"
   },
   {
    "duration": 2,
    "start_time": "2022-12-09T12:09:14.958Z"
   },
   {
    "duration": 73,
    "start_time": "2022-12-09T12:09:22.922Z"
   },
   {
    "duration": 88,
    "start_time": "2022-12-09T12:10:34.259Z"
   },
   {
    "duration": 3,
    "start_time": "2022-12-09T12:12:02.823Z"
   },
   {
    "duration": 94,
    "start_time": "2022-12-09T12:12:16.466Z"
   },
   {
    "duration": 25,
    "start_time": "2022-12-09T12:36:33.700Z"
   },
   {
    "duration": 120,
    "start_time": "2022-12-09T12:36:49.224Z"
   },
   {
    "duration": 3,
    "start_time": "2022-12-09T12:41:44.403Z"
   },
   {
    "duration": 107,
    "start_time": "2022-12-09T12:41:52.471Z"
   },
   {
    "duration": 1295,
    "start_time": "2022-12-09T12:42:55.079Z"
   },
   {
    "duration": 3,
    "start_time": "2022-12-09T12:42:56.376Z"
   },
   {
    "duration": 3,
    "start_time": "2022-12-09T12:42:57.564Z"
   },
   {
    "duration": 373,
    "start_time": "2022-12-09T12:42:59.941Z"
   },
   {
    "duration": 4,
    "start_time": "2022-12-09T12:43:01.580Z"
   },
   {
    "duration": 192,
    "start_time": "2022-12-09T12:43:02.948Z"
   },
   {
    "duration": 109,
    "start_time": "2022-12-09T12:58:11.286Z"
   },
   {
    "duration": 1268,
    "start_time": "2022-12-09T12:58:35.558Z"
   },
   {
    "duration": 4,
    "start_time": "2022-12-09T12:58:36.827Z"
   },
   {
    "duration": 7,
    "start_time": "2022-12-09T12:58:36.832Z"
   },
   {
    "duration": 365,
    "start_time": "2022-12-09T12:58:37.239Z"
   },
   {
    "duration": 4,
    "start_time": "2022-12-09T12:58:37.753Z"
   },
   {
    "duration": 201,
    "start_time": "2022-12-09T12:58:38.008Z"
   },
   {
    "duration": 21,
    "start_time": "2022-12-09T12:58:38.512Z"
   },
   {
    "duration": 82,
    "start_time": "2022-12-09T12:58:38.776Z"
   },
   {
    "duration": 26,
    "start_time": "2022-12-09T12:58:39.092Z"
   },
   {
    "duration": 222,
    "start_time": "2022-12-09T12:58:39.330Z"
   },
   {
    "duration": 308,
    "start_time": "2022-12-09T12:58:40.065Z"
   },
   {
    "duration": 275,
    "start_time": "2022-12-09T12:58:40.732Z"
   },
   {
    "duration": 2,
    "start_time": "2022-12-09T12:58:41.849Z"
   },
   {
    "duration": 326,
    "start_time": "2022-12-09T12:58:42.357Z"
   },
   {
    "duration": 2,
    "start_time": "2022-12-09T12:58:43.247Z"
   },
   {
    "duration": 2,
    "start_time": "2022-12-09T12:58:43.563Z"
   },
   {
    "duration": 2,
    "start_time": "2022-12-09T12:58:43.810Z"
   },
   {
    "duration": 2,
    "start_time": "2022-12-09T12:58:44.100Z"
   },
   {
    "duration": 2,
    "start_time": "2022-12-09T12:58:44.331Z"
   },
   {
    "duration": 2,
    "start_time": "2022-12-09T12:58:44.581Z"
   },
   {
    "duration": 2,
    "start_time": "2022-12-09T12:58:44.891Z"
   },
   {
    "duration": 2,
    "start_time": "2022-12-09T12:58:45.277Z"
   },
   {
    "duration": 3,
    "start_time": "2022-12-09T12:58:45.605Z"
   },
   {
    "duration": 2,
    "start_time": "2022-12-09T12:58:45.888Z"
   },
   {
    "duration": 2,
    "start_time": "2022-12-09T12:58:48.780Z"
   },
   {
    "duration": 2,
    "start_time": "2022-12-09T12:58:49.332Z"
   },
   {
    "duration": 2,
    "start_time": "2022-12-09T12:58:49.867Z"
   },
   {
    "duration": 2,
    "start_time": "2022-12-09T12:58:50.246Z"
   },
   {
    "duration": 61,
    "start_time": "2022-12-09T12:58:50.683Z"
   },
   {
    "duration": 3,
    "start_time": "2022-12-09T12:58:51.414Z"
   },
   {
    "duration": 291,
    "start_time": "2022-12-09T12:58:52.671Z"
   },
   {
    "duration": 109,
    "start_time": "2022-12-09T12:59:51.811Z"
   },
   {
    "duration": 3,
    "start_time": "2022-12-09T13:32:38.295Z"
   },
   {
    "duration": 24,
    "start_time": "2022-12-09T13:33:01.633Z"
   },
   {
    "duration": 26,
    "start_time": "2022-12-09T13:33:16.517Z"
   },
   {
    "duration": 23,
    "start_time": "2022-12-09T13:33:31.281Z"
   },
   {
    "duration": 3,
    "start_time": "2022-12-09T13:33:58.845Z"
   },
   {
    "duration": 3,
    "start_time": "2022-12-09T13:34:47.724Z"
   },
   {
    "duration": 68,
    "start_time": "2022-12-09T13:34:48.295Z"
   },
   {
    "duration": 42,
    "start_time": "2022-12-09T13:34:49.702Z"
   },
   {
    "duration": 230,
    "start_time": "2022-12-09T13:35:04.127Z"
   },
   {
    "duration": 284,
    "start_time": "2022-12-09T13:35:06.521Z"
   },
   {
    "duration": 304,
    "start_time": "2022-12-09T13:35:08.178Z"
   },
   {
    "duration": 2,
    "start_time": "2022-12-09T13:35:11.473Z"
   },
   {
    "duration": 315,
    "start_time": "2022-12-09T13:35:12.066Z"
   },
   {
    "duration": 4,
    "start_time": "2022-12-09T13:42:13.107Z"
   },
   {
    "duration": 100,
    "start_time": "2022-12-09T13:42:52.627Z"
   },
   {
    "duration": 5,
    "start_time": "2022-12-09T13:43:07.997Z"
   },
   {
    "duration": 75,
    "start_time": "2022-12-09T13:43:09.214Z"
   },
   {
    "duration": 67,
    "start_time": "2022-12-09T13:43:31.375Z"
   },
   {
    "duration": 66,
    "start_time": "2022-12-09T13:43:32.274Z"
   },
   {
    "duration": 3,
    "start_time": "2022-12-09T13:43:51.940Z"
   },
   {
    "duration": 3,
    "start_time": "2022-12-09T13:43:52.260Z"
   },
   {
    "duration": 3,
    "start_time": "2022-12-09T13:43:52.893Z"
   },
   {
    "duration": 12,
    "start_time": "2022-12-09T13:46:57.386Z"
   },
   {
    "duration": 94,
    "start_time": "2022-12-09T13:47:11.835Z"
   },
   {
    "duration": 4,
    "start_time": "2022-12-09T13:47:30.492Z"
   },
   {
    "duration": 2,
    "start_time": "2022-12-09T13:47:51.048Z"
   },
   {
    "duration": 15,
    "start_time": "2022-12-09T13:47:53.045Z"
   },
   {
    "duration": 383,
    "start_time": "2022-12-09T13:47:58.935Z"
   },
   {
    "duration": 3,
    "start_time": "2022-12-09T13:47:59.727Z"
   },
   {
    "duration": 209,
    "start_time": "2022-12-09T13:48:00.618Z"
   },
   {
    "duration": 28,
    "start_time": "2022-12-09T13:48:02.516Z"
   },
   {
    "duration": 3,
    "start_time": "2022-12-09T13:48:07.568Z"
   },
   {
    "duration": 32,
    "start_time": "2022-12-09T13:48:09.509Z"
   },
   {
    "duration": 3,
    "start_time": "2022-12-09T13:48:21.746Z"
   },
   {
    "duration": 64,
    "start_time": "2022-12-09T13:48:22.597Z"
   },
   {
    "duration": 221,
    "start_time": "2022-12-09T13:48:26.411Z"
   },
   {
    "duration": 3,
    "start_time": "2022-12-09T13:48:56.518Z"
   },
   {
    "duration": 373,
    "start_time": "2022-12-09T13:49:33.963Z"
   },
   {
    "duration": 4,
    "start_time": "2022-12-09T13:49:34.624Z"
   },
   {
    "duration": 175,
    "start_time": "2022-12-09T13:49:35.841Z"
   },
   {
    "duration": 3,
    "start_time": "2022-12-09T13:49:37.606Z"
   },
   {
    "duration": 2,
    "start_time": "2022-12-09T13:49:39.174Z"
   },
   {
    "duration": 63,
    "start_time": "2022-12-09T13:49:40.140Z"
   },
   {
    "duration": 3,
    "start_time": "2022-12-09T13:49:43.160Z"
   },
   {
    "duration": 224,
    "start_time": "2022-12-09T13:51:17.283Z"
   },
   {
    "duration": 289,
    "start_time": "2022-12-09T13:51:18.722Z"
   },
   {
    "duration": 285,
    "start_time": "2022-12-09T13:51:19.911Z"
   },
   {
    "duration": 5,
    "start_time": "2022-12-09T13:51:22.165Z"
   },
   {
    "duration": 337,
    "start_time": "2022-12-09T13:51:22.775Z"
   },
   {
    "duration": 2,
    "start_time": "2022-12-09T13:51:27.972Z"
   },
   {
    "duration": 2,
    "start_time": "2022-12-09T13:51:28.233Z"
   },
   {
    "duration": 2,
    "start_time": "2022-12-09T13:51:28.489Z"
   },
   {
    "duration": 2,
    "start_time": "2022-12-09T13:51:28.718Z"
   },
   {
    "duration": 3,
    "start_time": "2022-12-09T13:51:28.947Z"
   },
   {
    "duration": 3,
    "start_time": "2022-12-09T13:51:29.145Z"
   },
   {
    "duration": 3,
    "start_time": "2022-12-09T13:51:29.336Z"
   },
   {
    "duration": 2,
    "start_time": "2022-12-09T13:51:29.508Z"
   },
   {
    "duration": 2,
    "start_time": "2022-12-09T13:51:29.689Z"
   },
   {
    "duration": 3,
    "start_time": "2022-12-09T13:51:29.866Z"
   },
   {
    "duration": 2,
    "start_time": "2022-12-09T13:51:34.275Z"
   },
   {
    "duration": 2,
    "start_time": "2022-12-09T13:51:34.515Z"
   },
   {
    "duration": 2,
    "start_time": "2022-12-09T13:51:34.749Z"
   },
   {
    "duration": 3,
    "start_time": "2022-12-09T13:51:34.942Z"
   },
   {
    "duration": 2,
    "start_time": "2022-12-09T13:51:35.147Z"
   },
   {
    "duration": 3,
    "start_time": "2022-12-09T13:51:35.384Z"
   },
   {
    "duration": 5,
    "start_time": "2022-12-09T13:51:39.679Z"
   },
   {
    "duration": 104,
    "start_time": "2022-12-09T13:51:40.819Z"
   },
   {
    "duration": 22,
    "start_time": "2022-12-09T13:51:41.693Z"
   },
   {
    "duration": 118,
    "start_time": "2022-12-09T13:51:44.004Z"
   },
   {
    "duration": 3,
    "start_time": "2022-12-09T13:52:41.353Z"
   },
   {
    "duration": 4,
    "start_time": "2022-12-09T13:52:42.180Z"
   },
   {
    "duration": 31,
    "start_time": "2022-12-09T13:52:43.071Z"
   },
   {
    "duration": 69,
    "start_time": "2022-12-09T13:52:44.152Z"
   },
   {
    "duration": 30,
    "start_time": "2022-12-09T13:52:49.465Z"
   },
   {
    "duration": 5,
    "start_time": "2022-12-09T13:56:32.708Z"
   },
   {
    "duration": 30,
    "start_time": "2022-12-09T13:56:33.572Z"
   },
   {
    "duration": 19,
    "start_time": "2022-12-09T13:56:35.015Z"
   },
   {
    "duration": 3,
    "start_time": "2022-12-09T13:56:43.835Z"
   },
   {
    "duration": 5,
    "start_time": "2022-12-09T13:56:44.699Z"
   },
   {
    "duration": 4,
    "start_time": "2022-12-09T13:56:45.168Z"
   },
   {
    "duration": 37,
    "start_time": "2022-12-09T13:56:45.801Z"
   },
   {
    "duration": 28,
    "start_time": "2022-12-09T13:56:46.459Z"
   },
   {
    "duration": 33,
    "start_time": "2022-12-09T13:56:47.482Z"
   },
   {
    "duration": 3,
    "start_time": "2022-12-09T13:58:46.934Z"
   },
   {
    "duration": 102,
    "start_time": "2022-12-09T13:59:02.588Z"
   },
   {
    "duration": 5,
    "start_time": "2022-12-09T13:59:51.322Z"
   },
   {
    "duration": 5,
    "start_time": "2022-12-09T13:59:51.958Z"
   },
   {
    "duration": 38,
    "start_time": "2022-12-09T13:59:52.698Z"
   },
   {
    "duration": 79,
    "start_time": "2022-12-09T13:59:54.343Z"
   },
   {
    "duration": 34,
    "start_time": "2022-12-09T13:59:54.788Z"
   },
   {
    "duration": 1236,
    "start_time": "2022-12-09T14:06:48.971Z"
   },
   {
    "duration": 2,
    "start_time": "2022-12-09T14:06:50.209Z"
   },
   {
    "duration": 7,
    "start_time": "2022-12-09T14:06:50.213Z"
   },
   {
    "duration": 364,
    "start_time": "2022-12-09T14:06:51.646Z"
   },
   {
    "duration": 3,
    "start_time": "2022-12-09T14:06:52.238Z"
   },
   {
    "duration": 188,
    "start_time": "2022-12-09T14:06:52.470Z"
   },
   {
    "duration": 2,
    "start_time": "2022-12-09T14:06:53.114Z"
   },
   {
    "duration": 2,
    "start_time": "2022-12-09T14:06:53.390Z"
   },
   {
    "duration": 70,
    "start_time": "2022-12-09T14:06:53.681Z"
   },
   {
    "duration": 3,
    "start_time": "2022-12-09T14:06:54.386Z"
   },
   {
    "duration": 104,
    "start_time": "2022-12-09T14:06:59.031Z"
   },
   {
    "duration": 284,
    "start_time": "2022-12-09T14:07:00.052Z"
   },
   {
    "duration": 1312,
    "start_time": "2022-12-09T14:07:42.517Z"
   },
   {
    "duration": 2,
    "start_time": "2022-12-09T14:07:43.831Z"
   },
   {
    "duration": 11,
    "start_time": "2022-12-09T14:07:43.835Z"
   },
   {
    "duration": 395,
    "start_time": "2022-12-09T14:07:45.213Z"
   },
   {
    "duration": 4,
    "start_time": "2022-12-09T14:07:46.792Z"
   },
   {
    "duration": 198,
    "start_time": "2022-12-09T14:07:47.258Z"
   },
   {
    "duration": 21,
    "start_time": "2022-12-09T14:07:51.645Z"
   },
   {
    "duration": 3,
    "start_time": "2022-12-09T14:07:52.855Z"
   },
   {
    "duration": 73,
    "start_time": "2022-12-09T14:07:53.705Z"
   },
   {
    "duration": 3,
    "start_time": "2022-12-09T14:07:54.663Z"
   },
   {
    "duration": 12,
    "start_time": "2022-12-09T14:08:40.018Z"
   },
   {
    "duration": 3,
    "start_time": "2022-12-09T14:10:00.360Z"
   },
   {
    "duration": 118,
    "start_time": "2022-12-09T14:10:01.059Z"
   },
   {
    "duration": 3,
    "start_time": "2022-12-09T14:10:11.440Z"
   },
   {
    "duration": 2,
    "start_time": "2022-12-09T14:10:11.974Z"
   },
   {
    "duration": 3,
    "start_time": "2022-12-09T14:10:12.688Z"
   },
   {
    "duration": 363,
    "start_time": "2022-12-09T14:10:14.001Z"
   },
   {
    "duration": 3,
    "start_time": "2022-12-09T14:10:14.994Z"
   },
   {
    "duration": 181,
    "start_time": "2022-12-09T14:10:15.664Z"
   },
   {
    "duration": 24,
    "start_time": "2022-12-09T14:10:17.603Z"
   },
   {
    "duration": 3,
    "start_time": "2022-12-09T14:10:19.287Z"
   },
   {
    "duration": 68,
    "start_time": "2022-12-09T14:10:19.938Z"
   },
   {
    "duration": 11,
    "start_time": "2022-12-09T14:10:20.996Z"
   },
   {
    "duration": 3,
    "start_time": "2022-12-09T14:10:24.949Z"
   },
   {
    "duration": 216,
    "start_time": "2022-12-09T14:10:27.850Z"
   },
   {
    "duration": 299,
    "start_time": "2022-12-09T14:10:28.869Z"
   },
   {
    "duration": 274,
    "start_time": "2022-12-09T14:10:29.434Z"
   },
   {
    "duration": 2,
    "start_time": "2022-12-09T14:10:31.251Z"
   },
   {
    "duration": 307,
    "start_time": "2022-12-09T14:10:33.985Z"
   },
   {
    "duration": 2,
    "start_time": "2022-12-09T14:10:35.580Z"
   },
   {
    "duration": 2,
    "start_time": "2022-12-09T14:10:36.160Z"
   },
   {
    "duration": 2,
    "start_time": "2022-12-09T14:10:36.384Z"
   },
   {
    "duration": 2,
    "start_time": "2022-12-09T14:10:36.599Z"
   },
   {
    "duration": 2,
    "start_time": "2022-12-09T14:10:36.780Z"
   },
   {
    "duration": 3,
    "start_time": "2022-12-09T14:10:36.989Z"
   },
   {
    "duration": 2,
    "start_time": "2022-12-09T14:10:37.195Z"
   },
   {
    "duration": 2,
    "start_time": "2022-12-09T14:10:37.405Z"
   },
   {
    "duration": 2,
    "start_time": "2022-12-09T14:10:37.587Z"
   },
   {
    "duration": 2,
    "start_time": "2022-12-09T14:10:37.782Z"
   },
   {
    "duration": 3,
    "start_time": "2022-12-09T14:10:40.477Z"
   },
   {
    "duration": 1,
    "start_time": "2022-12-09T14:10:41.305Z"
   },
   {
    "duration": 2,
    "start_time": "2022-12-09T14:10:41.784Z"
   },
   {
    "duration": 2,
    "start_time": "2022-12-09T14:10:42.162Z"
   },
   {
    "duration": 2,
    "start_time": "2022-12-09T14:10:42.831Z"
   },
   {
    "duration": 3,
    "start_time": "2022-12-09T14:10:49.117Z"
   },
   {
    "duration": 6,
    "start_time": "2022-12-09T14:10:50.233Z"
   },
   {
    "duration": 37,
    "start_time": "2022-12-09T14:11:08.366Z"
   },
   {
    "duration": 146,
    "start_time": "2022-12-09T14:11:13.675Z"
   },
   {
    "duration": 64,
    "start_time": "2022-12-09T14:11:17.756Z"
   },
   {
    "duration": 35,
    "start_time": "2022-12-09T14:12:58.667Z"
   },
   {
    "duration": 36,
    "start_time": "2022-12-09T14:12:59.389Z"
   },
   {
    "duration": 3,
    "start_time": "2022-12-09T14:13:05.471Z"
   },
   {
    "duration": 2,
    "start_time": "2022-12-09T14:13:06.017Z"
   },
   {
    "duration": 2,
    "start_time": "2022-12-09T14:13:06.205Z"
   },
   {
    "duration": 2,
    "start_time": "2022-12-09T14:13:06.396Z"
   },
   {
    "duration": 3,
    "start_time": "2022-12-09T14:13:06.574Z"
   },
   {
    "duration": 3,
    "start_time": "2022-12-09T14:13:06.793Z"
   },
   {
    "duration": 5,
    "start_time": "2022-12-09T14:15:52.692Z"
   },
   {
    "duration": 56,
    "start_time": "2022-12-09T14:15:58.070Z"
   },
   {
    "duration": 73,
    "start_time": "2022-12-09T14:15:59.160Z"
   },
   {
    "duration": 110,
    "start_time": "2022-12-09T14:15:59.811Z"
   },
   {
    "duration": 9,
    "start_time": "2022-12-09T14:16:21.003Z"
   },
   {
    "duration": 6,
    "start_time": "2022-12-09T14:17:07.905Z"
   },
   {
    "duration": 43,
    "start_time": "2022-12-09T14:17:09.165Z"
   },
   {
    "duration": 1309,
    "start_time": "2022-12-09T14:18:12.790Z"
   },
   {
    "duration": 2,
    "start_time": "2022-12-09T14:18:14.101Z"
   },
   {
    "duration": 2,
    "start_time": "2022-12-09T14:18:14.687Z"
   },
   {
    "duration": 364,
    "start_time": "2022-12-09T14:18:15.420Z"
   },
   {
    "duration": 4,
    "start_time": "2022-12-09T14:18:15.837Z"
   },
   {
    "duration": 218,
    "start_time": "2022-12-09T14:18:16.022Z"
   },
   {
    "duration": 21,
    "start_time": "2022-12-09T14:18:16.367Z"
   },
   {
    "duration": 3,
    "start_time": "2022-12-09T14:18:16.699Z"
   },
   {
    "duration": 78,
    "start_time": "2022-12-09T14:18:16.901Z"
   },
   {
    "duration": 3,
    "start_time": "2022-12-09T14:18:17.067Z"
   },
   {
    "duration": 229,
    "start_time": "2022-12-09T14:18:17.419Z"
   },
   {
    "duration": 253,
    "start_time": "2022-12-09T14:18:17.649Z"
   },
   {
    "duration": 276,
    "start_time": "2022-12-09T14:18:17.904Z"
   },
   {
    "duration": 3,
    "start_time": "2022-12-09T14:18:18.213Z"
   },
   {
    "duration": 309,
    "start_time": "2022-12-09T14:18:18.381Z"
   },
   {
    "duration": 3,
    "start_time": "2022-12-09T14:18:18.781Z"
   },
   {
    "duration": 3,
    "start_time": "2022-12-09T14:18:18.974Z"
   },
   {
    "duration": 4,
    "start_time": "2022-12-09T14:18:19.140Z"
   },
   {
    "duration": 3,
    "start_time": "2022-12-09T14:18:19.351Z"
   },
   {
    "duration": 3,
    "start_time": "2022-12-09T14:18:19.540Z"
   },
   {
    "duration": 3,
    "start_time": "2022-12-09T14:18:19.759Z"
   },
   {
    "duration": 3,
    "start_time": "2022-12-09T14:18:19.960Z"
   },
   {
    "duration": 2,
    "start_time": "2022-12-09T14:18:20.157Z"
   },
   {
    "duration": 3,
    "start_time": "2022-12-09T14:18:20.340Z"
   },
   {
    "duration": 3,
    "start_time": "2022-12-09T14:18:20.547Z"
   },
   {
    "duration": 2,
    "start_time": "2022-12-09T14:18:22.360Z"
   },
   {
    "duration": 2,
    "start_time": "2022-12-09T14:18:22.672Z"
   },
   {
    "duration": 3,
    "start_time": "2022-12-09T14:18:22.935Z"
   },
   {
    "duration": 3,
    "start_time": "2022-12-09T14:18:23.131Z"
   },
   {
    "duration": 3,
    "start_time": "2022-12-09T14:18:23.335Z"
   },
   {
    "duration": 3,
    "start_time": "2022-12-09T14:18:23.604Z"
   },
   {
    "duration": 5,
    "start_time": "2022-12-09T14:18:24.317Z"
   },
   {
    "duration": 142,
    "start_time": "2022-12-09T14:18:25.782Z"
   },
   {
    "duration": 101,
    "start_time": "2022-12-09T14:18:26.621Z"
   },
   {
    "duration": 63,
    "start_time": "2022-12-09T14:18:28.060Z"
   },
   {
    "duration": 8,
    "start_time": "2022-12-09T14:18:30.761Z"
   },
   {
    "duration": 101,
    "start_time": "2022-12-09T14:18:45.200Z"
   },
   {
    "duration": 5,
    "start_time": "2022-12-09T14:19:22.745Z"
   },
   {
    "duration": 67,
    "start_time": "2022-12-09T14:19:24.655Z"
   },
   {
    "duration": 11,
    "start_time": "2022-12-09T14:19:47.716Z"
   },
   {
    "duration": 1443,
    "start_time": "2022-12-09T14:20:04.210Z"
   },
   {
    "duration": 2,
    "start_time": "2022-12-09T14:20:05.655Z"
   },
   {
    "duration": 11,
    "start_time": "2022-12-09T14:20:05.659Z"
   },
   {
    "duration": 368,
    "start_time": "2022-12-09T14:20:07.145Z"
   },
   {
    "duration": 4,
    "start_time": "2022-12-09T14:20:08.228Z"
   },
   {
    "duration": 212,
    "start_time": "2022-12-09T14:20:08.822Z"
   },
   {
    "duration": 21,
    "start_time": "2022-12-09T14:20:09.614Z"
   },
   {
    "duration": 3,
    "start_time": "2022-12-09T14:20:10.510Z"
   },
   {
    "duration": 81,
    "start_time": "2022-12-09T14:20:10.816Z"
   },
   {
    "duration": 3,
    "start_time": "2022-12-09T14:20:11.115Z"
   },
   {
    "duration": 220,
    "start_time": "2022-12-09T14:20:11.658Z"
   },
   {
    "duration": 263,
    "start_time": "2022-12-09T14:20:11.922Z"
   },
   {
    "duration": 254,
    "start_time": "2022-12-09T14:20:12.229Z"
   },
   {
    "duration": 2,
    "start_time": "2022-12-09T14:20:12.768Z"
   },
   {
    "duration": 313,
    "start_time": "2022-12-09T14:20:13.112Z"
   },
   {
    "duration": 2,
    "start_time": "2022-12-09T14:20:13.882Z"
   },
   {
    "duration": 2,
    "start_time": "2022-12-09T14:20:14.156Z"
   },
   {
    "duration": 2,
    "start_time": "2022-12-09T14:20:14.451Z"
   },
   {
    "duration": 3,
    "start_time": "2022-12-09T14:20:14.717Z"
   },
   {
    "duration": 3,
    "start_time": "2022-12-09T14:20:15.000Z"
   },
   {
    "duration": 4,
    "start_time": "2022-12-09T14:20:15.319Z"
   },
   {
    "duration": 3,
    "start_time": "2022-12-09T14:20:15.650Z"
   },
   {
    "duration": 2,
    "start_time": "2022-12-09T14:20:15.933Z"
   },
   {
    "duration": 2,
    "start_time": "2022-12-09T14:20:16.142Z"
   },
   {
    "duration": 3,
    "start_time": "2022-12-09T14:20:16.372Z"
   },
   {
    "duration": 2,
    "start_time": "2022-12-09T14:20:18.718Z"
   },
   {
    "duration": 2,
    "start_time": "2022-12-09T14:20:18.998Z"
   },
   {
    "duration": 2,
    "start_time": "2022-12-09T14:20:19.305Z"
   },
   {
    "duration": 2,
    "start_time": "2022-12-09T14:20:19.570Z"
   },
   {
    "duration": 2,
    "start_time": "2022-12-09T14:20:19.809Z"
   },
   {
    "duration": 2,
    "start_time": "2022-12-09T14:20:20.183Z"
   },
   {
    "duration": 5,
    "start_time": "2022-12-09T14:20:21.328Z"
   },
   {
    "duration": 106,
    "start_time": "2022-12-09T14:20:26.946Z"
   },
   {
    "duration": 39,
    "start_time": "2022-12-09T14:20:47.883Z"
   },
   {
    "duration": 35,
    "start_time": "2022-12-09T14:20:48.694Z"
   },
   {
    "duration": 8,
    "start_time": "2022-12-09T14:20:56.473Z"
   },
   {
    "duration": 2,
    "start_time": "2022-12-09T14:21:05.734Z"
   },
   {
    "duration": 2,
    "start_time": "2022-12-09T14:21:06.046Z"
   },
   {
    "duration": 2,
    "start_time": "2022-12-09T14:21:06.398Z"
   },
   {
    "duration": 2,
    "start_time": "2022-12-09T14:21:06.862Z"
   },
   {
    "duration": 3,
    "start_time": "2022-12-09T14:21:07.419Z"
   },
   {
    "duration": 2,
    "start_time": "2022-12-09T14:21:07.716Z"
   },
   {
    "duration": 2,
    "start_time": "2022-12-09T14:21:16.084Z"
   },
   {
    "duration": 2,
    "start_time": "2022-12-09T14:21:17.020Z"
   },
   {
    "duration": 2,
    "start_time": "2022-12-09T14:21:23.947Z"
   },
   {
    "duration": 2,
    "start_time": "2022-12-09T14:26:40.511Z"
   },
   {
    "duration": 3,
    "start_time": "2022-12-09T14:27:35.099Z"
   },
   {
    "duration": 3,
    "start_time": "2022-12-09T14:37:52.428Z"
   },
   {
    "duration": 2,
    "start_time": "2022-12-09T14:37:52.629Z"
   },
   {
    "duration": 3,
    "start_time": "2022-12-09T14:37:52.849Z"
   },
   {
    "duration": 360,
    "start_time": "2022-12-09T14:37:53.793Z"
   },
   {
    "duration": 3,
    "start_time": "2022-12-09T14:37:54.317Z"
   },
   {
    "duration": 216,
    "start_time": "2022-12-09T14:37:54.620Z"
   },
   {
    "duration": 23,
    "start_time": "2022-12-09T14:37:55.112Z"
   },
   {
    "duration": 3,
    "start_time": "2022-12-09T14:37:55.556Z"
   },
   {
    "duration": 73,
    "start_time": "2022-12-09T14:37:55.798Z"
   },
   {
    "duration": 3,
    "start_time": "2022-12-09T14:37:56.081Z"
   },
   {
    "duration": 210,
    "start_time": "2022-12-09T14:37:57.524Z"
   },
   {
    "duration": 277,
    "start_time": "2022-12-09T14:37:57.760Z"
   },
   {
    "duration": 261,
    "start_time": "2022-12-09T14:37:58.039Z"
   },
   {
    "duration": 2,
    "start_time": "2022-12-09T14:37:58.410Z"
   },
   {
    "duration": 264,
    "start_time": "2022-12-09T14:37:58.641Z"
   },
   {
    "duration": 3,
    "start_time": "2022-12-09T14:37:59.144Z"
   },
   {
    "duration": 3,
    "start_time": "2022-12-09T14:37:59.392Z"
   },
   {
    "duration": 2,
    "start_time": "2022-12-09T14:37:59.649Z"
   },
   {
    "duration": 2,
    "start_time": "2022-12-09T14:37:59.864Z"
   },
   {
    "duration": 2,
    "start_time": "2022-12-09T14:38:00.164Z"
   },
   {
    "duration": 2,
    "start_time": "2022-12-09T14:38:00.386Z"
   },
   {
    "duration": 2,
    "start_time": "2022-12-09T14:38:00.622Z"
   },
   {
    "duration": 2,
    "start_time": "2022-12-09T14:38:00.901Z"
   },
   {
    "duration": 2,
    "start_time": "2022-12-09T14:38:01.159Z"
   },
   {
    "duration": 2,
    "start_time": "2022-12-09T14:38:01.402Z"
   },
   {
    "duration": 2,
    "start_time": "2022-12-09T14:38:04.145Z"
   },
   {
    "duration": 2,
    "start_time": "2022-12-09T14:38:04.448Z"
   },
   {
    "duration": 2,
    "start_time": "2022-12-09T14:38:04.892Z"
   },
   {
    "duration": 2,
    "start_time": "2022-12-09T14:38:05.130Z"
   },
   {
    "duration": 2,
    "start_time": "2022-12-09T14:38:05.497Z"
   },
   {
    "duration": 3,
    "start_time": "2022-12-09T14:38:06.138Z"
   },
   {
    "duration": 5,
    "start_time": "2022-12-09T14:38:06.420Z"
   },
   {
    "duration": 36,
    "start_time": "2022-12-09T14:38:07.311Z"
   },
   {
    "duration": 96,
    "start_time": "2022-12-09T14:38:07.926Z"
   },
   {
    "duration": 86,
    "start_time": "2022-12-09T14:38:08.435Z"
   },
   {
    "duration": 9,
    "start_time": "2022-12-09T14:38:08.807Z"
   },
   {
    "duration": 3,
    "start_time": "2022-12-09T14:38:11.279Z"
   },
   {
    "duration": 2,
    "start_time": "2022-12-09T14:38:11.985Z"
   },
   {
    "duration": 2,
    "start_time": "2022-12-09T14:38:12.667Z"
   },
   {
    "duration": 3,
    "start_time": "2022-12-09T14:38:17.302Z"
   },
   {
    "duration": 2,
    "start_time": "2022-12-09T14:38:17.555Z"
   },
   {
    "duration": 2,
    "start_time": "2022-12-09T14:38:17.736Z"
   },
   {
    "duration": 2,
    "start_time": "2022-12-09T14:38:18.295Z"
   },
   {
    "duration": 3,
    "start_time": "2022-12-09T14:38:18.533Z"
   },
   {
    "duration": 3,
    "start_time": "2022-12-09T14:38:18.768Z"
   },
   {
    "duration": 2,
    "start_time": "2022-12-09T14:38:21.119Z"
   },
   {
    "duration": 3,
    "start_time": "2022-12-09T14:38:24.995Z"
   },
   {
    "duration": 106,
    "start_time": "2022-12-09T14:38:27.334Z"
   },
   {
    "duration": 6,
    "start_time": "2022-12-09T14:47:43.006Z"
   },
   {
    "duration": 3,
    "start_time": "2022-12-09T14:52:37.338Z"
   },
   {
    "duration": 884,
    "start_time": "2022-12-09T14:53:59.909Z"
   },
   {
    "duration": 9,
    "start_time": "2022-12-09T14:54:04.360Z"
   },
   {
    "duration": 16,
    "start_time": "2022-12-09T14:54:21.653Z"
   },
   {
    "duration": 3,
    "start_time": "2022-12-09T14:54:42.978Z"
   },
   {
    "duration": 7,
    "start_time": "2022-12-09T14:54:44.422Z"
   },
   {
    "duration": 5,
    "start_time": "2022-12-09T15:08:36.937Z"
   },
   {
    "duration": 924,
    "start_time": "2022-12-09T15:10:38.347Z"
   },
   {
    "duration": 14,
    "start_time": "2022-12-09T15:10:45.835Z"
   },
   {
    "duration": 3,
    "start_time": "2022-12-09T15:11:09.249Z"
   },
   {
    "duration": 4,
    "start_time": "2022-12-09T15:11:16.337Z"
   },
   {
    "duration": 1212,
    "start_time": "2022-12-09T15:11:16.987Z"
   },
   {
    "duration": 1275,
    "start_time": "2022-12-09T15:11:44.155Z"
   },
   {
    "duration": 4,
    "start_time": "2022-12-09T15:11:55.929Z"
   },
   {
    "duration": 1241,
    "start_time": "2022-12-09T15:11:57.516Z"
   },
   {
    "duration": 1225,
    "start_time": "2022-12-09T15:12:50.427Z"
   },
   {
    "duration": 1236,
    "start_time": "2022-12-09T15:13:26.418Z"
   },
   {
    "duration": 1244,
    "start_time": "2022-12-09T15:13:30.504Z"
   },
   {
    "duration": 4,
    "start_time": "2022-12-09T15:16:07.907Z"
   },
   {
    "duration": 1235,
    "start_time": "2022-12-09T15:16:08.714Z"
   },
   {
    "duration": 4,
    "start_time": "2022-12-09T15:16:18.019Z"
   },
   {
    "duration": 1237,
    "start_time": "2022-12-09T15:16:18.778Z"
   },
   {
    "duration": 3,
    "start_time": "2022-12-09T15:16:27.039Z"
   },
   {
    "duration": 5,
    "start_time": "2022-12-09T15:16:29.968Z"
   },
   {
    "duration": 1228,
    "start_time": "2022-12-09T15:16:32.105Z"
   },
   {
    "duration": 1210,
    "start_time": "2022-12-09T15:16:38.236Z"
   },
   {
    "duration": 1244,
    "start_time": "2022-12-09T15:16:39.448Z"
   },
   {
    "duration": 4,
    "start_time": "2022-12-09T15:23:17.807Z"
   },
   {
    "duration": 1242,
    "start_time": "2022-12-09T15:23:18.527Z"
   },
   {
    "duration": 5,
    "start_time": "2022-12-09T15:23:43.722Z"
   },
   {
    "duration": 1272,
    "start_time": "2022-12-09T15:23:44.766Z"
   },
   {
    "duration": 4,
    "start_time": "2022-12-09T15:23:59.109Z"
   },
   {
    "duration": 4,
    "start_time": "2022-12-09T15:27:33.053Z"
   },
   {
    "duration": 1234,
    "start_time": "2022-12-09T15:27:33.628Z"
   },
   {
    "duration": 4,
    "start_time": "2022-12-09T15:27:58.645Z"
   },
   {
    "duration": 1208,
    "start_time": "2022-12-09T15:28:15.518Z"
   },
   {
    "duration": 1224,
    "start_time": "2022-12-09T15:28:27.987Z"
   },
   {
    "duration": 1256,
    "start_time": "2022-12-09T15:28:29.538Z"
   },
   {
    "duration": 1297,
    "start_time": "2022-12-09T15:29:09.134Z"
   },
   {
    "duration": 3,
    "start_time": "2022-12-09T15:29:10.432Z"
   },
   {
    "duration": 8,
    "start_time": "2022-12-09T15:29:10.437Z"
   },
   {
    "duration": 362,
    "start_time": "2022-12-09T15:29:10.447Z"
   },
   {
    "duration": 3,
    "start_time": "2022-12-09T15:29:10.811Z"
   },
   {
    "duration": 206,
    "start_time": "2022-12-09T15:29:10.816Z"
   },
   {
    "duration": 20,
    "start_time": "2022-12-09T15:29:11.024Z"
   },
   {
    "duration": 3,
    "start_time": "2022-12-09T15:29:11.046Z"
   },
   {
    "duration": 96,
    "start_time": "2022-12-09T15:29:11.050Z"
   },
   {
    "duration": 3,
    "start_time": "2022-12-09T15:29:11.149Z"
   },
   {
    "duration": 232,
    "start_time": "2022-12-09T15:29:11.153Z"
   },
   {
    "duration": 287,
    "start_time": "2022-12-09T15:29:11.386Z"
   },
   {
    "duration": 293,
    "start_time": "2022-12-09T15:29:11.676Z"
   },
   {
    "duration": 3,
    "start_time": "2022-12-09T15:29:11.970Z"
   },
   {
    "duration": 327,
    "start_time": "2022-12-09T15:29:11.974Z"
   },
   {
    "duration": 2,
    "start_time": "2022-12-09T15:29:12.303Z"
   },
   {
    "duration": 14,
    "start_time": "2022-12-09T15:29:12.307Z"
   },
   {
    "duration": 4,
    "start_time": "2022-12-09T15:29:12.323Z"
   },
   {
    "duration": 8,
    "start_time": "2022-12-09T15:29:12.328Z"
   },
   {
    "duration": 6,
    "start_time": "2022-12-09T15:29:12.337Z"
   },
   {
    "duration": 5,
    "start_time": "2022-12-09T15:29:12.344Z"
   },
   {
    "duration": 5,
    "start_time": "2022-12-09T15:29:12.351Z"
   },
   {
    "duration": 6,
    "start_time": "2022-12-09T15:29:12.357Z"
   },
   {
    "duration": 10,
    "start_time": "2022-12-09T15:29:12.364Z"
   },
   {
    "duration": 4,
    "start_time": "2022-12-09T15:29:12.376Z"
   },
   {
    "duration": 5,
    "start_time": "2022-12-09T15:29:12.382Z"
   },
   {
    "duration": 5,
    "start_time": "2022-12-09T15:29:12.389Z"
   },
   {
    "duration": 4,
    "start_time": "2022-12-09T15:29:12.397Z"
   },
   {
    "duration": 6,
    "start_time": "2022-12-09T15:29:12.402Z"
   },
   {
    "duration": 6,
    "start_time": "2022-12-09T15:29:12.409Z"
   },
   {
    "duration": 3,
    "start_time": "2022-12-09T15:29:12.420Z"
   },
   {
    "duration": 71,
    "start_time": "2022-12-09T15:29:12.424Z"
   },
   {
    "duration": 55,
    "start_time": "2022-12-09T15:29:12.497Z"
   },
   {
    "duration": 200,
    "start_time": "2022-12-09T15:29:12.622Z"
   },
   {
    "duration": 197,
    "start_time": "2022-12-09T15:29:12.824Z"
   },
   {
    "duration": 103,
    "start_time": "2022-12-09T15:29:13.023Z"
   },
   {
    "duration": 5,
    "start_time": "2022-12-09T15:29:13.127Z"
   },
   {
    "duration": 8,
    "start_time": "2022-12-09T15:29:13.134Z"
   },
   {
    "duration": 4,
    "start_time": "2022-12-09T15:29:13.144Z"
   },
   {
    "duration": 14,
    "start_time": "2022-12-09T15:29:13.150Z"
   },
   {
    "duration": 6,
    "start_time": "2022-12-09T15:29:13.166Z"
   },
   {
    "duration": 6,
    "start_time": "2022-12-09T15:29:13.173Z"
   },
   {
    "duration": 9,
    "start_time": "2022-12-09T15:29:13.180Z"
   },
   {
    "duration": 5,
    "start_time": "2022-12-09T15:29:13.191Z"
   },
   {
    "duration": 5,
    "start_time": "2022-12-09T15:29:13.197Z"
   },
   {
    "duration": 7,
    "start_time": "2022-12-09T15:29:13.203Z"
   },
   {
    "duration": 7,
    "start_time": "2022-12-09T15:29:13.211Z"
   },
   {
    "duration": 11,
    "start_time": "2022-12-09T15:29:13.220Z"
   },
   {
    "duration": 9,
    "start_time": "2022-12-09T15:29:13.233Z"
   },
   {
    "duration": 13,
    "start_time": "2022-12-09T15:29:13.243Z"
   },
   {
    "duration": 10,
    "start_time": "2022-12-09T15:29:13.257Z"
   },
   {
    "duration": 7,
    "start_time": "2022-12-09T15:29:13.268Z"
   },
   {
    "duration": 13,
    "start_time": "2022-12-09T15:29:13.276Z"
   },
   {
    "duration": 1240,
    "start_time": "2022-12-09T15:29:13.291Z"
   },
   {
    "duration": 1262,
    "start_time": "2022-12-09T15:29:14.533Z"
   },
   {
    "duration": 1192,
    "start_time": "2022-12-09T15:29:15.796Z"
   },
   {
    "duration": 1571,
    "start_time": "2022-12-09T22:28:51.364Z"
   },
   {
    "duration": 2,
    "start_time": "2022-12-09T22:28:52.937Z"
   },
   {
    "duration": 15,
    "start_time": "2022-12-09T22:28:52.941Z"
   },
   {
    "duration": 1656,
    "start_time": "2022-12-09T22:28:52.958Z"
   },
   {
    "duration": 4,
    "start_time": "2022-12-09T22:28:54.616Z"
   },
   {
    "duration": 264,
    "start_time": "2022-12-09T22:28:54.621Z"
   },
   {
    "duration": 20,
    "start_time": "2022-12-09T22:28:55.945Z"
   },
   {
    "duration": 5,
    "start_time": "2022-12-09T22:28:56.397Z"
   },
   {
    "duration": 88,
    "start_time": "2022-12-09T22:29:00.293Z"
   },
   {
    "duration": 505,
    "start_time": "2022-12-09T22:29:00.606Z"
   },
   {
    "duration": 1543,
    "start_time": "2022-12-09T22:29:40.122Z"
   },
   {
    "duration": 2,
    "start_time": "2022-12-09T22:29:41.667Z"
   },
   {
    "duration": 29,
    "start_time": "2022-12-09T22:29:41.670Z"
   },
   {
    "duration": 419,
    "start_time": "2022-12-09T22:29:41.701Z"
   },
   {
    "duration": 4,
    "start_time": "2022-12-09T22:29:42.122Z"
   },
   {
    "duration": 269,
    "start_time": "2022-12-09T22:29:42.127Z"
   },
   {
    "duration": 21,
    "start_time": "2022-12-09T22:29:42.405Z"
   },
   {
    "duration": 4,
    "start_time": "2022-12-09T22:29:42.427Z"
   },
   {
    "duration": 103,
    "start_time": "2022-12-09T22:29:42.432Z"
   },
   {
    "duration": 501,
    "start_time": "2022-12-09T22:29:42.537Z"
   },
   {
    "duration": 277,
    "start_time": "2022-12-09T22:29:43.039Z"
   },
   {
    "duration": 352,
    "start_time": "2022-12-09T22:29:43.317Z"
   },
   {
    "duration": 320,
    "start_time": "2022-12-09T22:29:43.671Z"
   },
   {
    "duration": 3,
    "start_time": "2022-12-09T22:29:43.993Z"
   },
   {
    "duration": 5,
    "start_time": "2022-12-09T22:29:44.005Z"
   },
   {
    "duration": 95,
    "start_time": "2022-12-09T22:29:44.011Z"
   },
   {
    "duration": 196,
    "start_time": "2022-12-09T22:29:44.110Z"
   },
   {
    "duration": 193,
    "start_time": "2022-12-09T22:29:44.312Z"
   },
   {
    "duration": 4,
    "start_time": "2022-12-09T22:29:44.507Z"
   },
   {
    "duration": 97,
    "start_time": "2022-12-09T22:29:44.514Z"
   },
   {
    "duration": 7,
    "start_time": "2022-12-09T22:29:44.613Z"
   },
   {
    "duration": 6,
    "start_time": "2022-12-09T22:29:44.621Z"
   },
   {
    "duration": 11,
    "start_time": "2022-12-09T22:29:44.628Z"
   },
   {
    "duration": 1319,
    "start_time": "2022-12-09T22:29:44.641Z"
   },
   {
    "duration": 1310,
    "start_time": "2022-12-09T22:29:45.962Z"
   },
   {
    "duration": 1320,
    "start_time": "2022-12-09T22:29:47.273Z"
   },
   {
    "duration": 1640,
    "start_time": "2022-12-09T22:29:59.783Z"
   },
   {
    "duration": 3,
    "start_time": "2022-12-09T22:30:01.425Z"
   },
   {
    "duration": 49,
    "start_time": "2022-12-09T22:30:01.429Z"
   },
   {
    "duration": 440,
    "start_time": "2022-12-09T22:30:01.480Z"
   },
   {
    "duration": 4,
    "start_time": "2022-12-09T22:30:01.922Z"
   },
   {
    "duration": 260,
    "start_time": "2022-12-09T22:30:01.928Z"
   },
   {
    "duration": 32,
    "start_time": "2022-12-09T22:30:02.189Z"
   },
   {
    "duration": 5,
    "start_time": "2022-12-09T22:30:02.223Z"
   },
   {
    "duration": 109,
    "start_time": "2022-12-09T22:30:02.230Z"
   },
   {
    "duration": 500,
    "start_time": "2022-12-09T22:30:02.341Z"
   },
   {
    "duration": 276,
    "start_time": "2022-12-09T22:30:02.842Z"
   },
   {
    "duration": 359,
    "start_time": "2022-12-09T22:30:03.120Z"
   },
   {
    "duration": 310,
    "start_time": "2022-12-09T22:30:03.481Z"
   },
   {
    "duration": 2,
    "start_time": "2022-12-09T22:30:03.794Z"
   },
   {
    "duration": 31,
    "start_time": "2022-12-09T22:30:03.805Z"
   },
   {
    "duration": 70,
    "start_time": "2022-12-09T22:30:03.838Z"
   },
   {
    "duration": 297,
    "start_time": "2022-12-09T22:30:03.909Z"
   },
   {
    "duration": 197,
    "start_time": "2022-12-09T22:30:04.209Z"
   },
   {
    "duration": 4,
    "start_time": "2022-12-09T22:30:04.408Z"
   },
   {
    "duration": 104,
    "start_time": "2022-12-09T22:30:04.414Z"
   },
   {
    "duration": 7,
    "start_time": "2022-12-09T22:30:04.520Z"
   },
   {
    "duration": 6,
    "start_time": "2022-12-09T22:30:04.529Z"
   },
   {
    "duration": 10,
    "start_time": "2022-12-09T22:30:04.536Z"
   },
   {
    "duration": 1307,
    "start_time": "2022-12-09T22:30:04.548Z"
   },
   {
    "duration": 1241,
    "start_time": "2022-12-09T22:30:05.857Z"
   },
   {
    "duration": 1335,
    "start_time": "2022-12-09T22:30:07.105Z"
   },
   {
    "duration": 477,
    "start_time": "2022-12-09T22:30:17.241Z"
   },
   {
    "duration": 1525,
    "start_time": "2022-12-09T22:30:21.415Z"
   },
   {
    "duration": 3,
    "start_time": "2022-12-09T22:30:22.942Z"
   },
   {
    "duration": 8,
    "start_time": "2022-12-09T22:30:22.946Z"
   },
   {
    "duration": 369,
    "start_time": "2022-12-09T22:30:22.956Z"
   },
   {
    "duration": 3,
    "start_time": "2022-12-09T22:30:23.327Z"
   },
   {
    "duration": 210,
    "start_time": "2022-12-09T22:30:23.332Z"
   },
   {
    "duration": 21,
    "start_time": "2022-12-09T22:30:23.544Z"
   },
   {
    "duration": 3,
    "start_time": "2022-12-09T22:30:23.566Z"
   },
   {
    "duration": 103,
    "start_time": "2022-12-09T22:30:23.570Z"
   },
   {
    "duration": 457,
    "start_time": "2022-12-09T22:30:23.675Z"
   },
   {
    "duration": 273,
    "start_time": "2022-12-09T22:30:24.133Z"
   },
   {
    "duration": 357,
    "start_time": "2022-12-09T22:30:24.408Z"
   },
   {
    "duration": 322,
    "start_time": "2022-12-09T22:30:24.766Z"
   },
   {
    "duration": 3,
    "start_time": "2022-12-09T22:30:25.090Z"
   },
   {
    "duration": 15,
    "start_time": "2022-12-09T22:30:25.095Z"
   },
   {
    "duration": 97,
    "start_time": "2022-12-09T22:30:25.111Z"
   },
   {
    "duration": 194,
    "start_time": "2022-12-09T22:30:25.211Z"
   },
   {
    "duration": 198,
    "start_time": "2022-12-09T22:30:25.408Z"
   },
   {
    "duration": 3,
    "start_time": "2022-12-09T22:30:25.609Z"
   },
   {
    "duration": 95,
    "start_time": "2022-12-09T22:30:25.616Z"
   },
   {
    "duration": 8,
    "start_time": "2022-12-09T22:30:25.713Z"
   },
   {
    "duration": 4,
    "start_time": "2022-12-09T22:30:25.722Z"
   },
   {
    "duration": 10,
    "start_time": "2022-12-09T22:30:25.727Z"
   },
   {
    "duration": 1275,
    "start_time": "2022-12-09T22:30:25.738Z"
   },
   {
    "duration": 1294,
    "start_time": "2022-12-09T22:30:27.015Z"
   },
   {
    "duration": 1253,
    "start_time": "2022-12-09T22:30:28.310Z"
   },
   {
    "duration": 5,
    "start_time": "2022-12-09T22:32:13.854Z"
   },
   {
    "duration": 1500,
    "start_time": "2022-12-09T22:33:09.424Z"
   },
   {
    "duration": 2,
    "start_time": "2022-12-09T22:33:10.926Z"
   },
   {
    "duration": 8,
    "start_time": "2022-12-09T22:33:10.930Z"
   },
   {
    "duration": 389,
    "start_time": "2022-12-09T22:33:10.939Z"
   },
   {
    "duration": 4,
    "start_time": "2022-12-09T22:33:11.330Z"
   },
   {
    "duration": 237,
    "start_time": "2022-12-09T22:33:11.335Z"
   },
   {
    "duration": 33,
    "start_time": "2022-12-09T22:33:11.574Z"
   },
   {
    "duration": 3,
    "start_time": "2022-12-09T22:33:11.609Z"
   },
   {
    "duration": 99,
    "start_time": "2022-12-09T22:33:11.614Z"
   },
   {
    "duration": 477,
    "start_time": "2022-12-09T22:33:11.714Z"
   },
   {
    "duration": 299,
    "start_time": "2022-12-09T22:33:12.193Z"
   },
   {
    "duration": 373,
    "start_time": "2022-12-09T22:33:12.494Z"
   },
   {
    "duration": 321,
    "start_time": "2022-12-09T22:33:12.869Z"
   },
   {
    "duration": 12,
    "start_time": "2022-12-09T22:33:13.193Z"
   },
   {
    "duration": 10,
    "start_time": "2022-12-09T22:33:13.207Z"
   },
   {
    "duration": 89,
    "start_time": "2022-12-09T22:33:13.218Z"
   },
   {
    "duration": 197,
    "start_time": "2022-12-09T22:33:13.309Z"
   },
   {
    "duration": 196,
    "start_time": "2022-12-09T22:33:13.509Z"
   },
   {
    "duration": 4,
    "start_time": "2022-12-09T22:33:13.707Z"
   },
   {
    "duration": 100,
    "start_time": "2022-12-09T22:33:13.713Z"
   },
   {
    "duration": 14,
    "start_time": "2022-12-09T22:33:13.815Z"
   },
   {
    "duration": 11,
    "start_time": "2022-12-09T22:33:13.830Z"
   },
   {
    "duration": 9,
    "start_time": "2022-12-09T22:33:13.843Z"
   },
   {
    "duration": 1256,
    "start_time": "2022-12-09T22:33:13.853Z"
   },
   {
    "duration": 1252,
    "start_time": "2022-12-09T22:33:15.111Z"
   },
   {
    "duration": 1286,
    "start_time": "2022-12-09T22:33:16.365Z"
   }
  ],
  "kernelspec": {
   "display_name": "Python 3",
   "language": "python",
   "name": "python3"
  },
  "language_info": {
   "codemirror_mode": {
    "name": "ipython",
    "version": 3
   },
   "file_extension": ".py",
   "mimetype": "text/x-python",
   "name": "python",
   "nbconvert_exporter": "python",
   "pygments_lexer": "ipython3",
   "version": "3.8.3"
  },
  "toc": {
   "base_numbering": 1,
   "nav_menu": {},
   "number_sections": true,
   "sideBar": true,
   "skip_h1_title": false,
   "title_cell": "Table of Contents",
   "title_sidebar": "Contents",
   "toc_cell": true,
   "toc_position": {
    "height": "calc(100% - 180px)",
    "left": "10px",
    "top": "150px",
    "width": "319.219px"
   },
   "toc_section_display": true,
   "toc_window_display": false
  }
 },
 "nbformat": 4,
 "nbformat_minor": 4
}
